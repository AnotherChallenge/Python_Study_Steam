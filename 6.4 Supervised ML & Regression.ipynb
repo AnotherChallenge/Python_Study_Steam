{
 "cells": [
  {
   "cell_type": "markdown",
   "id": "bd63d1e9",
   "metadata": {},
   "source": [
    "## 6.4: Supervised Machine Learning: Regression"
   ]
  },
  {
   "cell_type": "code",
   "execution_count": 1,
   "id": "6596b067",
   "metadata": {},
   "outputs": [],
   "source": [
    "# Importing libraries\n",
    "\n",
    "import pandas as pd\n",
    "import numpy as np\n",
    "import os\n",
    "import matplotlib\n",
    "import matplotlib.pyplot as plt\n",
    "import seaborn as sns\n",
    "import scipy\n",
    "import sklearn\n",
    "from sklearn.model_selection import train_test_split \n",
    "from sklearn.linear_model import LinearRegression\n",
    "from sklearn.metrics import mean_squared_error, r2_score"
   ]
  },
  {
   "cell_type": "code",
   "execution_count": 2,
   "id": "3bc4698c",
   "metadata": {},
   "outputs": [],
   "source": [
    "# Reset the maximum number of columns to display to default (all columns)\n",
    "\n",
    "pd.set_option('display.max_columns', None)"
   ]
  },
  {
   "cell_type": "code",
   "execution_count": 3,
   "id": "c22cf8c4",
   "metadata": {},
   "outputs": [],
   "source": [
    "# This option ensures that the graphs you create are displayed within the notebook without the need to \"call\" them specifically.\n",
    "\n",
    "%matplotlib inline"
   ]
  },
  {
   "cell_type": "code",
   "execution_count": 4,
   "id": "5013cec7",
   "metadata": {},
   "outputs": [],
   "source": [
    "# Defining the path to datasets\n",
    "\n",
    "path = r'C:\\Users\\efens\\cf_tasks\\2023-08 Steam Analysis'"
   ]
  },
  {
   "cell_type": "markdown",
   "id": "96e8e1a3",
   "metadata": {},
   "source": [
    "## 00. Preparing dataframe for analysis"
   ]
  },
  {
   "cell_type": "code",
   "execution_count": 5,
   "id": "ec813ea8",
   "metadata": {},
   "outputs": [],
   "source": [
    "# Importing project data \"steam_merged\"\n",
    "\n",
    "steam_merged = pd.read_csv(os.path.join(path, '02 Data', '022 Prepared Data', 'steam_merged.csv'))"
   ]
  },
  {
   "cell_type": "markdown",
   "id": "f16c70d5",
   "metadata": {},
   "source": [
    "#### Selecting important columns for further analysis\n",
    "\n",
    "H1_A: An increase in the number of game owners is positively correlated with a higher quantity of positive online reviews for the game in Steam.\n",
    "\n",
    "H1_B: An increase in the number of game owners is positively correlated with a higher quantity of negative online reviews for the game in Steam.\n",
    "\n",
    "H2_A: Games with age restrictions have a significantly larger number of owners compared to games without age restrictions.\n",
    "\n",
    "H2_B: Games without age restrictions exhibit a significantly longer average playtime than games with age restrictions, indicating a potential difference in player engagement."
   ]
  },
  {
   "cell_type": "code",
   "execution_count": 6,
   "id": "30d36912",
   "metadata": {},
   "outputs": [
    {
     "data": {
      "text/plain": [
       "Index(['appid', 'name', 'release_date', 'english', 'developer', 'publisher',\n",
       "       'platforms', 'required_age', 'categories', 'genres', 'steamspy_tags',\n",
       "       'achievements', 'positive_ratings', 'negative_ratings',\n",
       "       'average_playtime', 'median_playtime', 'owners', 'price', 'price_eur',\n",
       "       'owners_min', 'owners_max', 'owners_avg', 'gameplay_type', 'dev_year',\n",
       "       'country', 'city', 'administrative_division'],\n",
       "      dtype='object')"
      ]
     },
     "execution_count": 6,
     "metadata": {},
     "output_type": "execute_result"
    }
   ],
   "source": [
    "steam_merged.columns"
   ]
  },
  {
   "cell_type": "code",
   "execution_count": 7,
   "id": "083ebbc3",
   "metadata": {},
   "outputs": [
    {
     "data": {
      "text/html": [
       "<div>\n",
       "<style scoped>\n",
       "    .dataframe tbody tr th:only-of-type {\n",
       "        vertical-align: middle;\n",
       "    }\n",
       "\n",
       "    .dataframe tbody tr th {\n",
       "        vertical-align: top;\n",
       "    }\n",
       "\n",
       "    .dataframe thead th {\n",
       "        text-align: right;\n",
       "    }\n",
       "</style>\n",
       "<table border=\"1\" class=\"dataframe\">\n",
       "  <thead>\n",
       "    <tr style=\"text-align: right;\">\n",
       "      <th></th>\n",
       "      <th>appid</th>\n",
       "      <th>name</th>\n",
       "      <th>release_date</th>\n",
       "      <th>english</th>\n",
       "      <th>developer</th>\n",
       "      <th>publisher</th>\n",
       "      <th>platforms</th>\n",
       "      <th>required_age</th>\n",
       "      <th>categories</th>\n",
       "      <th>genres</th>\n",
       "      <th>steamspy_tags</th>\n",
       "      <th>achievements</th>\n",
       "      <th>positive_ratings</th>\n",
       "      <th>negative_ratings</th>\n",
       "      <th>average_playtime</th>\n",
       "      <th>median_playtime</th>\n",
       "      <th>owners</th>\n",
       "      <th>price</th>\n",
       "      <th>price_eur</th>\n",
       "      <th>owners_min</th>\n",
       "      <th>owners_max</th>\n",
       "      <th>owners_avg</th>\n",
       "      <th>gameplay_type</th>\n",
       "      <th>dev_year</th>\n",
       "      <th>country</th>\n",
       "      <th>city</th>\n",
       "      <th>administrative_division</th>\n",
       "    </tr>\n",
       "  </thead>\n",
       "  <tbody>\n",
       "    <tr>\n",
       "      <th>0</th>\n",
       "      <td>10</td>\n",
       "      <td>Counter-Strike</td>\n",
       "      <td>2000-11-01</td>\n",
       "      <td>1</td>\n",
       "      <td>Valve</td>\n",
       "      <td>Valve</td>\n",
       "      <td>windows;mac;linux</td>\n",
       "      <td>0</td>\n",
       "      <td>Multi-player;Online Multi-Player;Local Multi-P...</td>\n",
       "      <td>Action</td>\n",
       "      <td>Action;FPS;Multiplayer</td>\n",
       "      <td>0</td>\n",
       "      <td>124534</td>\n",
       "      <td>3339</td>\n",
       "      <td>17612</td>\n",
       "      <td>317</td>\n",
       "      <td>10000000-20000000</td>\n",
       "      <td>7.19</td>\n",
       "      <td>8.3404</td>\n",
       "      <td>10000000</td>\n",
       "      <td>20000000</td>\n",
       "      <td>15000000.0</td>\n",
       "      <td>Multi-Player</td>\n",
       "      <td>1996.0</td>\n",
       "      <td>United States</td>\n",
       "      <td>Kirkland</td>\n",
       "      <td>Washington</td>\n",
       "    </tr>\n",
       "    <tr>\n",
       "      <th>1</th>\n",
       "      <td>20</td>\n",
       "      <td>Team Fortress Classic</td>\n",
       "      <td>1999-04-01</td>\n",
       "      <td>1</td>\n",
       "      <td>Valve</td>\n",
       "      <td>Valve</td>\n",
       "      <td>windows;mac;linux</td>\n",
       "      <td>0</td>\n",
       "      <td>Multi-player;Online Multi-Player;Local Multi-P...</td>\n",
       "      <td>Action</td>\n",
       "      <td>Action;FPS;Multiplayer</td>\n",
       "      <td>0</td>\n",
       "      <td>3318</td>\n",
       "      <td>633</td>\n",
       "      <td>277</td>\n",
       "      <td>62</td>\n",
       "      <td>5000000-10000000</td>\n",
       "      <td>3.99</td>\n",
       "      <td>4.6284</td>\n",
       "      <td>5000000</td>\n",
       "      <td>10000000</td>\n",
       "      <td>7500000.0</td>\n",
       "      <td>Multi-Player</td>\n",
       "      <td>1996.0</td>\n",
       "      <td>United States</td>\n",
       "      <td>Kirkland</td>\n",
       "      <td>Washington</td>\n",
       "    </tr>\n",
       "    <tr>\n",
       "      <th>2</th>\n",
       "      <td>30</td>\n",
       "      <td>Day of Defeat</td>\n",
       "      <td>2003-05-01</td>\n",
       "      <td>1</td>\n",
       "      <td>Valve</td>\n",
       "      <td>Valve</td>\n",
       "      <td>windows;mac;linux</td>\n",
       "      <td>0</td>\n",
       "      <td>Multi-player;Valve Anti-Cheat enabled</td>\n",
       "      <td>Action</td>\n",
       "      <td>FPS;World War II;Multiplayer</td>\n",
       "      <td>0</td>\n",
       "      <td>3416</td>\n",
       "      <td>398</td>\n",
       "      <td>187</td>\n",
       "      <td>34</td>\n",
       "      <td>5000000-10000000</td>\n",
       "      <td>3.99</td>\n",
       "      <td>4.6284</td>\n",
       "      <td>5000000</td>\n",
       "      <td>10000000</td>\n",
       "      <td>7500000.0</td>\n",
       "      <td>Multi-Player</td>\n",
       "      <td>1996.0</td>\n",
       "      <td>United States</td>\n",
       "      <td>Kirkland</td>\n",
       "      <td>Washington</td>\n",
       "    </tr>\n",
       "  </tbody>\n",
       "</table>\n",
       "</div>"
      ],
      "text/plain": [
       "   appid                   name release_date  english developer publisher  \\\n",
       "0     10         Counter-Strike   2000-11-01        1     Valve     Valve   \n",
       "1     20  Team Fortress Classic   1999-04-01        1     Valve     Valve   \n",
       "2     30          Day of Defeat   2003-05-01        1     Valve     Valve   \n",
       "\n",
       "           platforms  required_age  \\\n",
       "0  windows;mac;linux             0   \n",
       "1  windows;mac;linux             0   \n",
       "2  windows;mac;linux             0   \n",
       "\n",
       "                                          categories  genres  \\\n",
       "0  Multi-player;Online Multi-Player;Local Multi-P...  Action   \n",
       "1  Multi-player;Online Multi-Player;Local Multi-P...  Action   \n",
       "2              Multi-player;Valve Anti-Cheat enabled  Action   \n",
       "\n",
       "                  steamspy_tags  achievements  positive_ratings  \\\n",
       "0        Action;FPS;Multiplayer             0            124534   \n",
       "1        Action;FPS;Multiplayer             0              3318   \n",
       "2  FPS;World War II;Multiplayer             0              3416   \n",
       "\n",
       "   negative_ratings  average_playtime  median_playtime             owners  \\\n",
       "0              3339             17612              317  10000000-20000000   \n",
       "1               633               277               62   5000000-10000000   \n",
       "2               398               187               34   5000000-10000000   \n",
       "\n",
       "   price  price_eur  owners_min  owners_max  owners_avg gameplay_type  \\\n",
       "0   7.19     8.3404    10000000    20000000  15000000.0  Multi-Player   \n",
       "1   3.99     4.6284     5000000    10000000   7500000.0  Multi-Player   \n",
       "2   3.99     4.6284     5000000    10000000   7500000.0  Multi-Player   \n",
       "\n",
       "   dev_year        country      city administrative_division  \n",
       "0    1996.0  United States  Kirkland              Washington  \n",
       "1    1996.0  United States  Kirkland              Washington  \n",
       "2    1996.0  United States  Kirkland              Washington  "
      ]
     },
     "execution_count": 7,
     "metadata": {},
     "output_type": "execute_result"
    }
   ],
   "source": [
    "steam_merged.head(3)"
   ]
  },
  {
   "cell_type": "markdown",
   "id": "857d9a2d",
   "metadata": {},
   "source": [
    "#### Creating the dataframe with the following columns\n",
    "\n",
    "- name, required_age, positive_ratings, negative_ratings, average_playtime, owners_avg\n",
    "- creating a new column with the name age_restrictions (0 - no, 1 yes)"
   ]
  },
  {
   "cell_type": "code",
   "execution_count": 8,
   "id": "ecad34b7",
   "metadata": {},
   "outputs": [
    {
     "data": {
      "text/plain": [
       "required_age\n",
       "0               26632\n",
       "18                311\n",
       "16                194\n",
       "12                 73\n",
       "7                  12\n",
       "3                  11\n",
       "dtype: int64"
      ]
     },
     "execution_count": 8,
     "metadata": {},
     "output_type": "execute_result"
    }
   ],
   "source": [
    "steam_merged[['required_age']].value_counts()"
   ]
  },
  {
   "cell_type": "code",
   "execution_count": 9,
   "id": "cde79b3b",
   "metadata": {},
   "outputs": [],
   "source": [
    "# Creating a new column 'age_restrictions' where all values equal to 0 = 0 and all others = 1\n",
    "\n",
    "steam_merged['age_restrictions'] = 1  # Initialize the new column with a default value of 1\n",
    "\n",
    "for index, row in steam_merged.iterrows():\n",
    "    if row['required_age'] == 0:\n",
    "        steam_merged.at[index, 'age_restrictions'] = 0  # Set the value to 0 if required_age is equal to 0\n",
    "\n",
    "# 0 = without age restrictions\n",
    "# 1 = with age restrictions"
   ]
  },
  {
   "cell_type": "code",
   "execution_count": 10,
   "id": "e4c941b6",
   "metadata": {},
   "outputs": [
    {
     "data": {
      "text/plain": [
       "age_restrictions\n",
       "0                   26632\n",
       "1                     601\n",
       "dtype: int64"
      ]
     },
     "execution_count": 10,
     "metadata": {},
     "output_type": "execute_result"
    }
   ],
   "source": [
    "steam_merged[['age_restrictions']].value_counts()"
   ]
  },
  {
   "cell_type": "code",
   "execution_count": 11,
   "id": "09178090",
   "metadata": {},
   "outputs": [],
   "source": [
    "# Creating a new dataframe\n",
    "\n",
    "steam_ml = steam_merged[['name', 'age_restrictions', 'positive_ratings','negative_ratings', 'average_playtime', 'owners_avg']]"
   ]
  },
  {
   "cell_type": "code",
   "execution_count": 12,
   "id": "5441e4fa",
   "metadata": {},
   "outputs": [
    {
     "data": {
      "text/html": [
       "<div>\n",
       "<style scoped>\n",
       "    .dataframe tbody tr th:only-of-type {\n",
       "        vertical-align: middle;\n",
       "    }\n",
       "\n",
       "    .dataframe tbody tr th {\n",
       "        vertical-align: top;\n",
       "    }\n",
       "\n",
       "    .dataframe thead th {\n",
       "        text-align: right;\n",
       "    }\n",
       "</style>\n",
       "<table border=\"1\" class=\"dataframe\">\n",
       "  <thead>\n",
       "    <tr style=\"text-align: right;\">\n",
       "      <th></th>\n",
       "      <th>name</th>\n",
       "      <th>age_restrictions</th>\n",
       "      <th>positive_ratings</th>\n",
       "      <th>negative_ratings</th>\n",
       "      <th>average_playtime</th>\n",
       "      <th>owners_avg</th>\n",
       "    </tr>\n",
       "  </thead>\n",
       "  <tbody>\n",
       "    <tr>\n",
       "      <th>0</th>\n",
       "      <td>Counter-Strike</td>\n",
       "      <td>0</td>\n",
       "      <td>124534</td>\n",
       "      <td>3339</td>\n",
       "      <td>17612</td>\n",
       "      <td>15000000.0</td>\n",
       "    </tr>\n",
       "    <tr>\n",
       "      <th>1</th>\n",
       "      <td>Team Fortress Classic</td>\n",
       "      <td>0</td>\n",
       "      <td>3318</td>\n",
       "      <td>633</td>\n",
       "      <td>277</td>\n",
       "      <td>7500000.0</td>\n",
       "    </tr>\n",
       "    <tr>\n",
       "      <th>2</th>\n",
       "      <td>Day of Defeat</td>\n",
       "      <td>0</td>\n",
       "      <td>3416</td>\n",
       "      <td>398</td>\n",
       "      <td>187</td>\n",
       "      <td>7500000.0</td>\n",
       "    </tr>\n",
       "    <tr>\n",
       "      <th>3</th>\n",
       "      <td>Deathmatch Classic</td>\n",
       "      <td>0</td>\n",
       "      <td>1273</td>\n",
       "      <td>267</td>\n",
       "      <td>258</td>\n",
       "      <td>7500000.0</td>\n",
       "    </tr>\n",
       "    <tr>\n",
       "      <th>4</th>\n",
       "      <td>Half-Life: Opposing Force</td>\n",
       "      <td>0</td>\n",
       "      <td>5250</td>\n",
       "      <td>288</td>\n",
       "      <td>624</td>\n",
       "      <td>7500000.0</td>\n",
       "    </tr>\n",
       "  </tbody>\n",
       "</table>\n",
       "</div>"
      ],
      "text/plain": [
       "                        name  age_restrictions  positive_ratings  \\\n",
       "0             Counter-Strike                 0            124534   \n",
       "1      Team Fortress Classic                 0              3318   \n",
       "2              Day of Defeat                 0              3416   \n",
       "3         Deathmatch Classic                 0              1273   \n",
       "4  Half-Life: Opposing Force                 0              5250   \n",
       "\n",
       "   negative_ratings  average_playtime  owners_avg  \n",
       "0              3339             17612  15000000.0  \n",
       "1               633               277   7500000.0  \n",
       "2               398               187   7500000.0  \n",
       "3               267               258   7500000.0  \n",
       "4               288               624   7500000.0  "
      ]
     },
     "execution_count": 12,
     "metadata": {},
     "output_type": "execute_result"
    }
   ],
   "source": [
    "steam_ml.head()"
   ]
  },
  {
   "cell_type": "code",
   "execution_count": 13,
   "id": "7785db92",
   "metadata": {},
   "outputs": [
    {
     "data": {
      "text/plain": [
       "(27233, 6)"
      ]
     },
     "execution_count": 13,
     "metadata": {},
     "output_type": "execute_result"
    }
   ],
   "source": [
    "steam_ml.shape"
   ]
  },
  {
   "cell_type": "markdown",
   "id": "89ceb49b",
   "metadata": {},
   "source": [
    "#### Cleaning"
   ]
  },
  {
   "cell_type": "code",
   "execution_count": 14,
   "id": "4d425bac",
   "metadata": {},
   "outputs": [
    {
     "data": {
      "text/plain": [
       "name                 object\n",
       "age_restrictions      int64\n",
       "positive_ratings      int64\n",
       "negative_ratings      int64\n",
       "average_playtime      int64\n",
       "owners_avg          float64\n",
       "dtype: object"
      ]
     },
     "execution_count": 14,
     "metadata": {},
     "output_type": "execute_result"
    }
   ],
   "source": [
    "steam_ml.dtypes"
   ]
  },
  {
   "cell_type": "code",
   "execution_count": 15,
   "id": "707d5d8f",
   "metadata": {},
   "outputs": [
    {
     "data": {
      "text/plain": [
       "name                0\n",
       "age_restrictions    0\n",
       "positive_ratings    0\n",
       "negative_ratings    0\n",
       "average_playtime    0\n",
       "owners_avg          0\n",
       "dtype: int64"
      ]
     },
     "execution_count": 15,
     "metadata": {},
     "output_type": "execute_result"
    }
   ],
   "source": [
    "# Checking missing values\n",
    "\n",
    "missing_steam = steam_ml.isnull().sum()\n",
    "missing_steam"
   ]
  },
  {
   "cell_type": "code",
   "execution_count": 16,
   "id": "6f2fa2a4",
   "metadata": {},
   "outputs": [],
   "source": [
    "# Checking for duplicates\n",
    "\n",
    "dups = steam_ml[steam_ml.duplicated()]"
   ]
  },
  {
   "cell_type": "code",
   "execution_count": 17,
   "id": "fafc49b3",
   "metadata": {},
   "outputs": [
    {
     "data": {
      "text/html": [
       "<div>\n",
       "<style scoped>\n",
       "    .dataframe tbody tr th:only-of-type {\n",
       "        vertical-align: middle;\n",
       "    }\n",
       "\n",
       "    .dataframe tbody tr th {\n",
       "        vertical-align: top;\n",
       "    }\n",
       "\n",
       "    .dataframe thead th {\n",
       "        text-align: right;\n",
       "    }\n",
       "</style>\n",
       "<table border=\"1\" class=\"dataframe\">\n",
       "  <thead>\n",
       "    <tr style=\"text-align: right;\">\n",
       "      <th></th>\n",
       "      <th>name</th>\n",
       "      <th>age_restrictions</th>\n",
       "      <th>positive_ratings</th>\n",
       "      <th>negative_ratings</th>\n",
       "      <th>average_playtime</th>\n",
       "      <th>owners_avg</th>\n",
       "    </tr>\n",
       "  </thead>\n",
       "  <tbody>\n",
       "    <tr>\n",
       "      <th>31</th>\n",
       "      <td>Darwinia</td>\n",
       "      <td>0</td>\n",
       "      <td>472</td>\n",
       "      <td>158</td>\n",
       "      <td>182</td>\n",
       "      <td>750000.0</td>\n",
       "    </tr>\n",
       "    <tr>\n",
       "      <th>33</th>\n",
       "      <td>Uplink</td>\n",
       "      <td>0</td>\n",
       "      <td>1602</td>\n",
       "      <td>152</td>\n",
       "      <td>65</td>\n",
       "      <td>750000.0</td>\n",
       "    </tr>\n",
       "    <tr>\n",
       "      <th>35</th>\n",
       "      <td>DEFCON</td>\n",
       "      <td>0</td>\n",
       "      <td>2057</td>\n",
       "      <td>344</td>\n",
       "      <td>80</td>\n",
       "      <td>750000.0</td>\n",
       "    </tr>\n",
       "    <tr>\n",
       "      <th>37</th>\n",
       "      <td>Multiwinia</td>\n",
       "      <td>0</td>\n",
       "      <td>368</td>\n",
       "      <td>75</td>\n",
       "      <td>121</td>\n",
       "      <td>750000.0</td>\n",
       "    </tr>\n",
       "    <tr>\n",
       "      <th>126</th>\n",
       "      <td>Garry's Mod</td>\n",
       "      <td>0</td>\n",
       "      <td>363721</td>\n",
       "      <td>16433</td>\n",
       "      <td>12422</td>\n",
       "      <td>15000000.0</td>\n",
       "    </tr>\n",
       "    <tr>\n",
       "      <th>...</th>\n",
       "      <td>...</td>\n",
       "      <td>...</td>\n",
       "      <td>...</td>\n",
       "      <td>...</td>\n",
       "      <td>...</td>\n",
       "      <td>...</td>\n",
       "    </tr>\n",
       "    <tr>\n",
       "      <th>16901</th>\n",
       "      <td>HoloLAB Champions</td>\n",
       "      <td>0</td>\n",
       "      <td>6</td>\n",
       "      <td>0</td>\n",
       "      <td>0</td>\n",
       "      <td>10000.0</td>\n",
       "    </tr>\n",
       "    <tr>\n",
       "      <th>17952</th>\n",
       "      <td>NBA 2K Playgrounds 2</td>\n",
       "      <td>0</td>\n",
       "      <td>123</td>\n",
       "      <td>73</td>\n",
       "      <td>0</td>\n",
       "      <td>10000.0</td>\n",
       "    </tr>\n",
       "    <tr>\n",
       "      <th>19718</th>\n",
       "      <td>40 Winks</td>\n",
       "      <td>0</td>\n",
       "      <td>3</td>\n",
       "      <td>7</td>\n",
       "      <td>0</td>\n",
       "      <td>10000.0</td>\n",
       "    </tr>\n",
       "    <tr>\n",
       "      <th>20700</th>\n",
       "      <td>Assetto Corsa Competizione</td>\n",
       "      <td>0</td>\n",
       "      <td>1744</td>\n",
       "      <td>278</td>\n",
       "      <td>0</td>\n",
       "      <td>75000.0</td>\n",
       "    </tr>\n",
       "    <tr>\n",
       "      <th>23975</th>\n",
       "      <td>We Happy Few - Soundtrack and Digital Goods Bu...</td>\n",
       "      <td>0</td>\n",
       "      <td>1</td>\n",
       "      <td>0</td>\n",
       "      <td>0</td>\n",
       "      <td>10000.0</td>\n",
       "    </tr>\n",
       "  </tbody>\n",
       "</table>\n",
       "<p>158 rows × 6 columns</p>\n",
       "</div>"
      ],
      "text/plain": [
       "                                                    name  age_restrictions  \\\n",
       "31                                              Darwinia                 0   \n",
       "33                                                Uplink                 0   \n",
       "35                                                DEFCON                 0   \n",
       "37                                            Multiwinia                 0   \n",
       "126                                          Garry's Mod                 0   \n",
       "...                                                  ...               ...   \n",
       "16901                                  HoloLAB Champions                 0   \n",
       "17952                               NBA 2K Playgrounds 2                 0   \n",
       "19718                                           40 Winks                 0   \n",
       "20700                         Assetto Corsa Competizione                 0   \n",
       "23975  We Happy Few - Soundtrack and Digital Goods Bu...                 0   \n",
       "\n",
       "       positive_ratings  negative_ratings  average_playtime  owners_avg  \n",
       "31                  472               158               182    750000.0  \n",
       "33                 1602               152                65    750000.0  \n",
       "35                 2057               344                80    750000.0  \n",
       "37                  368                75               121    750000.0  \n",
       "126              363721             16433             12422  15000000.0  \n",
       "...                 ...               ...               ...         ...  \n",
       "16901                 6                 0                 0     10000.0  \n",
       "17952               123                73                 0     10000.0  \n",
       "19718                 3                 7                 0     10000.0  \n",
       "20700              1744               278                 0     75000.0  \n",
       "23975                 1                 0                 0     10000.0  \n",
       "\n",
       "[158 rows x 6 columns]"
      ]
     },
     "execution_count": 17,
     "metadata": {},
     "output_type": "execute_result"
    }
   ],
   "source": [
    "dups"
   ]
  },
  {
   "cell_type": "code",
   "execution_count": 18,
   "id": "1c3dc9e0",
   "metadata": {},
   "outputs": [],
   "source": [
    "# Removing duplicates\n",
    "\n",
    "steam_ml_clean = steam_ml.drop_duplicates()"
   ]
  },
  {
   "cell_type": "code",
   "execution_count": 19,
   "id": "cd6c6d32",
   "metadata": {},
   "outputs": [
    {
     "data": {
      "text/html": [
       "<div>\n",
       "<style scoped>\n",
       "    .dataframe tbody tr th:only-of-type {\n",
       "        vertical-align: middle;\n",
       "    }\n",
       "\n",
       "    .dataframe tbody tr th {\n",
       "        vertical-align: top;\n",
       "    }\n",
       "\n",
       "    .dataframe thead th {\n",
       "        text-align: right;\n",
       "    }\n",
       "</style>\n",
       "<table border=\"1\" class=\"dataframe\">\n",
       "  <thead>\n",
       "    <tr style=\"text-align: right;\">\n",
       "      <th></th>\n",
       "      <th>name</th>\n",
       "      <th>age_restrictions</th>\n",
       "      <th>positive_ratings</th>\n",
       "      <th>negative_ratings</th>\n",
       "      <th>average_playtime</th>\n",
       "      <th>owners_avg</th>\n",
       "    </tr>\n",
       "  </thead>\n",
       "  <tbody>\n",
       "  </tbody>\n",
       "</table>\n",
       "</div>"
      ],
      "text/plain": [
       "Empty DataFrame\n",
       "Columns: [name, age_restrictions, positive_ratings, negative_ratings, average_playtime, owners_avg]\n",
       "Index: []"
      ]
     },
     "execution_count": 19,
     "metadata": {},
     "output_type": "execute_result"
    }
   ],
   "source": [
    "dups = steam_ml_clean[steam_ml_clean.duplicated()]\n",
    "dups"
   ]
  },
  {
   "cell_type": "code",
   "execution_count": 20,
   "id": "6386f8e8",
   "metadata": {},
   "outputs": [
    {
     "data": {
      "text/html": [
       "<div>\n",
       "<style scoped>\n",
       "    .dataframe tbody tr th:only-of-type {\n",
       "        vertical-align: middle;\n",
       "    }\n",
       "\n",
       "    .dataframe tbody tr th {\n",
       "        vertical-align: top;\n",
       "    }\n",
       "\n",
       "    .dataframe thead th {\n",
       "        text-align: right;\n",
       "    }\n",
       "</style>\n",
       "<table border=\"1\" class=\"dataframe\">\n",
       "  <thead>\n",
       "    <tr style=\"text-align: right;\">\n",
       "      <th></th>\n",
       "      <th>age_restrictions</th>\n",
       "      <th>positive_ratings</th>\n",
       "      <th>negative_ratings</th>\n",
       "      <th>average_playtime</th>\n",
       "      <th>owners_avg</th>\n",
       "    </tr>\n",
       "  </thead>\n",
       "  <tbody>\n",
       "    <tr>\n",
       "      <th>count</th>\n",
       "      <td>27075.00</td>\n",
       "      <td>27075.00</td>\n",
       "      <td>27075.00</td>\n",
       "      <td>27075.00</td>\n",
       "      <td>27075.00</td>\n",
       "    </tr>\n",
       "    <tr>\n",
       "      <th>mean</th>\n",
       "      <td>0.02</td>\n",
       "      <td>1000.56</td>\n",
       "      <td>211.03</td>\n",
       "      <td>149.80</td>\n",
       "      <td>134090.49</td>\n",
       "    </tr>\n",
       "    <tr>\n",
       "      <th>std</th>\n",
       "      <td>0.15</td>\n",
       "      <td>18988.72</td>\n",
       "      <td>4284.94</td>\n",
       "      <td>1827.04</td>\n",
       "      <td>1328088.58</td>\n",
       "    </tr>\n",
       "    <tr>\n",
       "      <th>min</th>\n",
       "      <td>0.00</td>\n",
       "      <td>0.00</td>\n",
       "      <td>0.00</td>\n",
       "      <td>0.00</td>\n",
       "      <td>10000.00</td>\n",
       "    </tr>\n",
       "    <tr>\n",
       "      <th>25%</th>\n",
       "      <td>0.00</td>\n",
       "      <td>6.00</td>\n",
       "      <td>2.00</td>\n",
       "      <td>0.00</td>\n",
       "      <td>10000.00</td>\n",
       "    </tr>\n",
       "    <tr>\n",
       "      <th>50%</th>\n",
       "      <td>0.00</td>\n",
       "      <td>24.00</td>\n",
       "      <td>9.00</td>\n",
       "      <td>0.00</td>\n",
       "      <td>10000.00</td>\n",
       "    </tr>\n",
       "    <tr>\n",
       "      <th>75%</th>\n",
       "      <td>0.00</td>\n",
       "      <td>126.00</td>\n",
       "      <td>42.00</td>\n",
       "      <td>0.00</td>\n",
       "      <td>35000.00</td>\n",
       "    </tr>\n",
       "    <tr>\n",
       "      <th>max</th>\n",
       "      <td>1.00</td>\n",
       "      <td>2644404.00</td>\n",
       "      <td>487076.00</td>\n",
       "      <td>190625.00</td>\n",
       "      <td>150000000.00</td>\n",
       "    </tr>\n",
       "  </tbody>\n",
       "</table>\n",
       "</div>"
      ],
      "text/plain": [
       "       age_restrictions  positive_ratings  negative_ratings  average_playtime  \\\n",
       "count          27075.00          27075.00          27075.00          27075.00   \n",
       "mean               0.02           1000.56            211.03            149.80   \n",
       "std                0.15          18988.72           4284.94           1827.04   \n",
       "min                0.00              0.00              0.00              0.00   \n",
       "25%                0.00              6.00              2.00              0.00   \n",
       "50%                0.00             24.00              9.00              0.00   \n",
       "75%                0.00            126.00             42.00              0.00   \n",
       "max                1.00        2644404.00         487076.00         190625.00   \n",
       "\n",
       "        owners_avg  \n",
       "count     27075.00  \n",
       "mean     134090.49  \n",
       "std     1328088.58  \n",
       "min       10000.00  \n",
       "25%       10000.00  \n",
       "50%       10000.00  \n",
       "75%       35000.00  \n",
       "max   150000000.00  "
      ]
     },
     "execution_count": 20,
     "metadata": {},
     "output_type": "execute_result"
    }
   ],
   "source": [
    "# Change the format of the values visualization\n",
    "\n",
    "pd.options.display.float_format = '{:.2f}'.format\n",
    "\n",
    "# Exploring statistical values\n",
    "\n",
    "steam_ml_clean.describe()"
   ]
  },
  {
   "cell_type": "markdown",
   "id": "63064a99",
   "metadata": {},
   "source": [
    "- There are extreme values in almost every column."
   ]
  },
  {
   "cell_type": "code",
   "execution_count": 21,
   "id": "0fcbfdc0",
   "metadata": {},
   "outputs": [
    {
     "data": {
      "text/plain": [
       "(27075, 6)"
      ]
     },
     "execution_count": 21,
     "metadata": {},
     "output_type": "execute_result"
    }
   ],
   "source": [
    "steam_ml_clean.shape"
   ]
  },
  {
   "cell_type": "markdown",
   "id": "228c8204",
   "metadata": {},
   "source": [
    "#### Extrem evalues check"
   ]
  },
  {
   "cell_type": "code",
   "execution_count": 22,
   "id": "f98d60d2",
   "metadata": {},
   "outputs": [
    {
     "data": {
      "text/plain": [
       "<Axes: xlabel='positive_ratings', ylabel='Count'>"
      ]
     },
     "execution_count": 22,
     "metadata": {},
     "output_type": "execute_result"
    },
    {
     "data": {
      "image/png": "[encoded data removed]",
      "text/plain": [
       "<Figure size 640x480 with 1 Axes>"
      ]
     },
     "metadata": {},
     "output_type": "display_data"
    }
   ],
   "source": [
    "## Variable positive_ratings\n",
    "\n",
    "# Shows extreme values\n",
    "sns.histplot(steam_ml_clean['positive_ratings'], bins=25)\n",
    "\n",
    "# Some of the outliers in the high values may need to be removed, but let's try without doing so first."
   ]
  },
  {
   "cell_type": "code",
   "execution_count": 23,
   "id": "63d97608",
   "metadata": {},
   "outputs": [
    {
     "data": {
      "text/plain": [
       "<Axes: xlabel='negative_ratings', ylabel='Count'>"
      ]
     },
     "execution_count": 23,
     "metadata": {},
     "output_type": "execute_result"
    },
    {
     "data": {
      "image/png": "[encoded data removed]",
      "text/plain": [
       "<Figure size 640x480 with 1 Axes>"
      ]
     },
     "metadata": {},
     "output_type": "display_data"
    }
   ],
   "source": [
    "## Variable negative_ratings\n",
    "\n",
    "sns.histplot(steam_ml_clean['negative_ratings'], bins=25) # Shows extreme values"
   ]
  },
  {
   "cell_type": "code",
   "execution_count": 24,
   "id": "ea3b9347",
   "metadata": {},
   "outputs": [
    {
     "data": {
      "text/plain": [
       "<Axes: xlabel='average_playtime', ylabel='Count'>"
      ]
     },
     "execution_count": 24,
     "metadata": {},
     "output_type": "execute_result"
    },
    {
     "data": {
      "image/png": "[encoded data removed]",
      "text/plain": [
       "<Figure size 640x480 with 1 Axes>"
      ]
     },
     "metadata": {},
     "output_type": "display_data"
    }
   ],
   "source": [
    "## Variable average_playtime\n",
    "\n",
    "sns.histplot(steam_ml_clean['average_playtime'], bins=25) # Shows extreme values"
   ]
  },
  {
   "cell_type": "code",
   "execution_count": 25,
   "id": "44259c4c",
   "metadata": {},
   "outputs": [
    {
     "data": {
      "text/plain": [
       "<Axes: xlabel='owners_avg', ylabel='Count'>"
      ]
     },
     "execution_count": 25,
     "metadata": {},
     "output_type": "execute_result"
    },
    {
     "data": {
      "image/png": "[encoded data removed]",
      "text/plain": [
       "<Figure size 640x480 with 1 Axes>"
      ]
     },
     "metadata": {},
     "output_type": "display_data"
    }
   ],
   "source": [
    "## Variable average_playtime\n",
    "\n",
    "sns.histplot(steam_ml_clean['owners_avg'], bins=25) # Shows extreme values"
   ]
  },
  {
   "cell_type": "code",
   "execution_count": 26,
   "id": "15a9772f",
   "metadata": {},
   "outputs": [
    {
     "data": {
      "text/plain": [
       "average_playtime\n",
       "0                   20905\n",
       "1                     156\n",
       "3                      73\n",
       "2                      58\n",
       "9                      56\n",
       "                    ...  \n",
       "1177                    1\n",
       "1178                    1\n",
       "1180                    1\n",
       "1195                    1\n",
       "190625                  1\n",
       "Length: 1345, dtype: int64"
      ]
     },
     "execution_count": 26,
     "metadata": {},
     "output_type": "execute_result"
    }
   ],
   "source": [
    "steam_ml_clean[['average_playtime']].value_counts()"
   ]
  },
  {
   "cell_type": "code",
   "execution_count": 27,
   "id": "30cc9f0c",
   "metadata": {},
   "outputs": [
    {
     "data": {
      "text/plain": [
       "negative_ratings\n",
       "0                   2906\n",
       "1                   2748\n",
       "2                   1907\n",
       "3                   1503\n",
       "4                   1182\n",
       "                    ... \n",
       "1180                   1\n",
       "1186                   1\n",
       "1188                   1\n",
       "1195                   1\n",
       "487076                 1\n",
       "Length: 1492, dtype: int64"
      ]
     },
     "execution_count": 27,
     "metadata": {},
     "output_type": "execute_result"
    }
   ],
   "source": [
    "steam_ml_clean[['negative_ratings']].value_counts()"
   ]
  },
  {
   "cell_type": "markdown",
   "id": "ba82be88",
   "metadata": {},
   "source": [
    "- Based on the frequency distribution of the data, it appears that they are not suitable for conducting regression analysis due to the presence of numerous outliers. \n",
    "\n",
    "- In order to achieve a more accurate analysis, I intend to exclude users from the sample who have added the game to their library but have never launched it. This exclusion may result in a more normalized distribution of the data."
   ]
  },
  {
   "cell_type": "code",
   "execution_count": 28,
   "id": "6cf2aef8",
   "metadata": {},
   "outputs": [],
   "source": [
    "# Creating a subset with active owners where average_playtime > 0\n",
    "\n",
    "steam_ml_active = steam_ml_clean[steam_ml_clean['average_playtime'] != 0]"
   ]
  },
  {
   "cell_type": "code",
   "execution_count": 29,
   "id": "d73ac3fa",
   "metadata": {},
   "outputs": [
    {
     "data": {
      "text/plain": [
       "(6170, 6)"
      ]
     },
     "execution_count": 29,
     "metadata": {},
     "output_type": "execute_result"
    }
   ],
   "source": [
    "steam_ml_active.shape"
   ]
  },
  {
   "cell_type": "code",
   "execution_count": 30,
   "id": "3295aef6",
   "metadata": {},
   "outputs": [
    {
     "data": {
      "text/html": [
       "<div>\n",
       "<style scoped>\n",
       "    .dataframe tbody tr th:only-of-type {\n",
       "        vertical-align: middle;\n",
       "    }\n",
       "\n",
       "    .dataframe tbody tr th {\n",
       "        vertical-align: top;\n",
       "    }\n",
       "\n",
       "    .dataframe thead th {\n",
       "        text-align: right;\n",
       "    }\n",
       "</style>\n",
       "<table border=\"1\" class=\"dataframe\">\n",
       "  <thead>\n",
       "    <tr style=\"text-align: right;\">\n",
       "      <th></th>\n",
       "      <th>age_restrictions</th>\n",
       "      <th>positive_ratings</th>\n",
       "      <th>negative_ratings</th>\n",
       "      <th>average_playtime</th>\n",
       "      <th>owners_avg</th>\n",
       "    </tr>\n",
       "  </thead>\n",
       "  <tbody>\n",
       "    <tr>\n",
       "      <th>count</th>\n",
       "      <td>6170.00</td>\n",
       "      <td>6170.00</td>\n",
       "      <td>6170.00</td>\n",
       "      <td>6170.00</td>\n",
       "      <td>6170.00</td>\n",
       "    </tr>\n",
       "    <tr>\n",
       "      <th>mean</th>\n",
       "      <td>0.05</td>\n",
       "      <td>4181.49</td>\n",
       "      <td>858.13</td>\n",
       "      <td>657.37</td>\n",
       "      <td>527782.01</td>\n",
       "    </tr>\n",
       "    <tr>\n",
       "      <th>std</th>\n",
       "      <td>0.23</td>\n",
       "      <td>39613.43</td>\n",
       "      <td>8945.58</td>\n",
       "      <td>3783.67</td>\n",
       "      <td>2745237.57</td>\n",
       "    </tr>\n",
       "    <tr>\n",
       "      <th>min</th>\n",
       "      <td>0.00</td>\n",
       "      <td>0.00</td>\n",
       "      <td>0.00</td>\n",
       "      <td>1.00</td>\n",
       "      <td>10000.00</td>\n",
       "    </tr>\n",
       "    <tr>\n",
       "      <th>25%</th>\n",
       "      <td>0.00</td>\n",
       "      <td>106.00</td>\n",
       "      <td>38.00</td>\n",
       "      <td>77.00</td>\n",
       "      <td>35000.00</td>\n",
       "    </tr>\n",
       "    <tr>\n",
       "      <th>50%</th>\n",
       "      <td>0.00</td>\n",
       "      <td>408.00</td>\n",
       "      <td>113.00</td>\n",
       "      <td>222.00</td>\n",
       "      <td>150000.00</td>\n",
       "    </tr>\n",
       "    <tr>\n",
       "      <th>75%</th>\n",
       "      <td>0.00</td>\n",
       "      <td>1704.75</td>\n",
       "      <td>365.00</td>\n",
       "      <td>365.00</td>\n",
       "      <td>350000.00</td>\n",
       "    </tr>\n",
       "    <tr>\n",
       "      <th>max</th>\n",
       "      <td>1.00</td>\n",
       "      <td>2644404.00</td>\n",
       "      <td>487076.00</td>\n",
       "      <td>190625.00</td>\n",
       "      <td>150000000.00</td>\n",
       "    </tr>\n",
       "  </tbody>\n",
       "</table>\n",
       "</div>"
      ],
      "text/plain": [
       "       age_restrictions  positive_ratings  negative_ratings  average_playtime  \\\n",
       "count           6170.00           6170.00           6170.00           6170.00   \n",
       "mean               0.05           4181.49            858.13            657.37   \n",
       "std                0.23          39613.43           8945.58           3783.67   \n",
       "min                0.00              0.00              0.00              1.00   \n",
       "25%                0.00            106.00             38.00             77.00   \n",
       "50%                0.00            408.00            113.00            222.00   \n",
       "75%                0.00           1704.75            365.00            365.00   \n",
       "max                1.00        2644404.00         487076.00         190625.00   \n",
       "\n",
       "        owners_avg  \n",
       "count      6170.00  \n",
       "mean     527782.01  \n",
       "std     2745237.57  \n",
       "min       10000.00  \n",
       "25%       35000.00  \n",
       "50%      150000.00  \n",
       "75%      350000.00  \n",
       "max   150000000.00  "
      ]
     },
     "execution_count": 30,
     "metadata": {},
     "output_type": "execute_result"
    }
   ],
   "source": [
    "steam_ml_active.describe()"
   ]
  },
  {
   "cell_type": "code",
   "execution_count": 31,
   "id": "c9efbc3c",
   "metadata": {},
   "outputs": [
    {
     "data": {
      "text/plain": [
       "<Axes: xlabel='average_playtime', ylabel='Count'>"
      ]
     },
     "execution_count": 31,
     "metadata": {},
     "output_type": "execute_result"
    },
    {
     "data": {
      "image/png": "[encoded data removed]",
      "text/plain": [
       "<Figure size 640x480 with 1 Axes>"
      ]
     },
     "metadata": {},
     "output_type": "display_data"
    }
   ],
   "source": [
    "## Variable average_playtime\n",
    "\n",
    "sns.histplot(steam_ml_active['average_playtime'], bins=25) # Shows extreme values"
   ]
  },
  {
   "cell_type": "markdown",
   "id": "191170d3",
   "metadata": {},
   "source": [
    "#### What are Top-10 games with average playtime > 1000?"
   ]
  },
  {
   "cell_type": "code",
   "execution_count": 32,
   "id": "1ee57203",
   "metadata": {},
   "outputs": [],
   "source": [
    "top_10_games = steam_ml_active[steam_ml_active['average_playtime'] > 1000].nlargest(10, 'average_playtime')"
   ]
  },
  {
   "cell_type": "code",
   "execution_count": 33,
   "id": "10f4c145",
   "metadata": {},
   "outputs": [
    {
     "data": {
      "text/html": [
       "<div>\n",
       "<style scoped>\n",
       "    .dataframe tbody tr th:only-of-type {\n",
       "        vertical-align: middle;\n",
       "    }\n",
       "\n",
       "    .dataframe tbody tr th {\n",
       "        vertical-align: top;\n",
       "    }\n",
       "\n",
       "    .dataframe thead th {\n",
       "        text-align: right;\n",
       "    }\n",
       "</style>\n",
       "<table border=\"1\" class=\"dataframe\">\n",
       "  <thead>\n",
       "    <tr style=\"text-align: right;\">\n",
       "      <th></th>\n",
       "      <th>name</th>\n",
       "      <th>average_playtime</th>\n",
       "    </tr>\n",
       "  </thead>\n",
       "  <tbody>\n",
       "    <tr>\n",
       "      <th>9054</th>\n",
       "      <td>Screeps</td>\n",
       "      <td>38805</td>\n",
       "    </tr>\n",
       "    <tr>\n",
       "      <th>2098</th>\n",
       "      <td>Fantasy Grounds</td>\n",
       "      <td>43074</td>\n",
       "    </tr>\n",
       "    <tr>\n",
       "      <th>23566</th>\n",
       "      <td>懒人修仙传</td>\n",
       "      <td>43632</td>\n",
       "    </tr>\n",
       "    <tr>\n",
       "      <th>2516</th>\n",
       "      <td>X-Plane 11</td>\n",
       "      <td>44169</td>\n",
       "    </tr>\n",
       "    <tr>\n",
       "      <th>4078</th>\n",
       "      <td>Shroud of the Avatar: Forsaken Virtues</td>\n",
       "      <td>54618</td>\n",
       "    </tr>\n",
       "    <tr>\n",
       "      <th>4037</th>\n",
       "      <td>Boundless</td>\n",
       "      <td>55204</td>\n",
       "    </tr>\n",
       "    <tr>\n",
       "      <th>9105</th>\n",
       "      <td>PRICE</td>\n",
       "      <td>63481</td>\n",
       "    </tr>\n",
       "    <tr>\n",
       "      <th>6135</th>\n",
       "      <td>The Secret of Tremendous Corporation</td>\n",
       "      <td>95242</td>\n",
       "    </tr>\n",
       "    <tr>\n",
       "      <th>1526</th>\n",
       "      <td>The Banner Saga: Factions</td>\n",
       "      <td>95245</td>\n",
       "    </tr>\n",
       "    <tr>\n",
       "      <th>9337</th>\n",
       "      <td>The Abbey of Crime Extensum</td>\n",
       "      <td>190625</td>\n",
       "    </tr>\n",
       "  </tbody>\n",
       "</table>\n",
       "</div>"
      ],
      "text/plain": [
       "                                         name  average_playtime\n",
       "9054                                  Screeps             38805\n",
       "2098                          Fantasy Grounds             43074\n",
       "23566                                   懒人修仙传             43632\n",
       "2516                               X-Plane 11             44169\n",
       "4078   Shroud of the Avatar: Forsaken Virtues             54618\n",
       "4037                                Boundless             55204\n",
       "9105                                    PRICE             63481\n",
       "6135     The Secret of Tremendous Corporation             95242\n",
       "1526                The Banner Saga: Factions             95245\n",
       "9337              The Abbey of Crime Extensum            190625"
      ]
     },
     "execution_count": 33,
     "metadata": {},
     "output_type": "execute_result"
    }
   ],
   "source": [
    "top_10_games[['name', 'average_playtime']].sort_values(by='average_playtime', ascending=True)"
   ]
  },
  {
   "cell_type": "markdown",
   "id": "e2babbeb",
   "metadata": {},
   "source": [
    "- Remove the outlier / 9337\tThe Abbey of Crime Extensum\t190625"
   ]
  },
  {
   "cell_type": "code",
   "execution_count": 34,
   "id": "d5bd38e6",
   "metadata": {},
   "outputs": [],
   "source": [
    "# Remove the outlier \n",
    "\n",
    "steam_ml_active_clean = steam_ml_active[steam_ml_active['average_playtime'] != 190625]"
   ]
  },
  {
   "cell_type": "code",
   "execution_count": 35,
   "id": "e109df2f",
   "metadata": {},
   "outputs": [
    {
     "data": {
      "text/html": [
       "<div>\n",
       "<style scoped>\n",
       "    .dataframe tbody tr th:only-of-type {\n",
       "        vertical-align: middle;\n",
       "    }\n",
       "\n",
       "    .dataframe tbody tr th {\n",
       "        vertical-align: top;\n",
       "    }\n",
       "\n",
       "    .dataframe thead th {\n",
       "        text-align: right;\n",
       "    }\n",
       "</style>\n",
       "<table border=\"1\" class=\"dataframe\">\n",
       "  <thead>\n",
       "    <tr style=\"text-align: right;\">\n",
       "      <th></th>\n",
       "      <th>average_playtime</th>\n",
       "    </tr>\n",
       "  </thead>\n",
       "  <tbody>\n",
       "    <tr>\n",
       "      <th>count</th>\n",
       "      <td>6169.00</td>\n",
       "    </tr>\n",
       "    <tr>\n",
       "      <th>mean</th>\n",
       "      <td>626.58</td>\n",
       "    </tr>\n",
       "    <tr>\n",
       "      <th>std</th>\n",
       "      <td>2909.76</td>\n",
       "    </tr>\n",
       "    <tr>\n",
       "      <th>min</th>\n",
       "      <td>1.00</td>\n",
       "    </tr>\n",
       "    <tr>\n",
       "      <th>25%</th>\n",
       "      <td>77.00</td>\n",
       "    </tr>\n",
       "    <tr>\n",
       "      <th>50%</th>\n",
       "      <td>222.00</td>\n",
       "    </tr>\n",
       "    <tr>\n",
       "      <th>75%</th>\n",
       "      <td>365.00</td>\n",
       "    </tr>\n",
       "    <tr>\n",
       "      <th>max</th>\n",
       "      <td>95245.00</td>\n",
       "    </tr>\n",
       "  </tbody>\n",
       "</table>\n",
       "</div>"
      ],
      "text/plain": [
       "       average_playtime\n",
       "count           6169.00\n",
       "mean             626.58\n",
       "std             2909.76\n",
       "min                1.00\n",
       "25%               77.00\n",
       "50%              222.00\n",
       "75%              365.00\n",
       "max            95245.00"
      ]
     },
     "execution_count": 35,
     "metadata": {},
     "output_type": "execute_result"
    }
   ],
   "source": [
    "steam_ml_active_clean[['average_playtime']].describe()"
   ]
  },
  {
   "cell_type": "markdown",
   "id": "eb238ac4",
   "metadata": {},
   "source": [
    "- It looks a little better, but it's still highly scattered with large values. \n",
    "\n",
    "- I can assume, that average values vere counted including null and very large values. For that reason the data doesn't appear to be reliable."
   ]
  },
  {
   "cell_type": "markdown",
   "id": "5aa98c30",
   "metadata": {},
   "source": [
    "## 02. Data preparation for regression analysis"
   ]
  },
  {
   "cell_type": "markdown",
   "id": "2a310ddb",
   "metadata": {},
   "source": [
    "### H1_A: An increase in the number of game owners is positively correlated with a higher quantity of positive online reviews for the game in Steam."
   ]
  },
  {
   "cell_type": "code",
   "execution_count": 36,
   "id": "fe2a6496",
   "metadata": {},
   "outputs": [
    {
     "data": {
      "image/png": "[encoded data removed]",
      "text/plain": [
       "<Figure size 640x480 with 1 Axes>"
      ]
     },
     "metadata": {},
     "output_type": "display_data"
    }
   ],
   "source": [
    "# Create a scatterplot using matplotlib for another look at how the chosen variables plot against each other.\n",
    "\n",
    "steam_ml_active_clean.plot(x = 'owners_avg', y='positive_ratings',style='o') # The style option creates a scatterplot; without it, we only have lines.\n",
    "plt.title('Average number of owners vs Positive Ratings')  \n",
    "plt.xlabel('Average number of owners')  \n",
    "plt.ylabel('Positive Ratings')  \n",
    "plt.show()"
   ]
  },
  {
   "cell_type": "code",
   "execution_count": 37,
   "id": "52fbf16f",
   "metadata": {},
   "outputs": [],
   "source": [
    "# Reshape the variables into NumPy arrays and put them into separate objects.\n",
    "\n",
    "X1 = steam_ml_active_clean['owners_avg'].values.reshape(-1,1)\n",
    "y1 = steam_ml_active_clean['positive_ratings'].values.reshape(-1,1)"
   ]
  },
  {
   "cell_type": "code",
   "execution_count": 38,
   "id": "948859f6",
   "metadata": {},
   "outputs": [
    {
     "data": {
      "text/plain": [
       "array([[1.5e+07],\n",
       "       [7.5e+06],\n",
       "       [7.5e+06],\n",
       "       ...,\n",
       "       [1.0e+04],\n",
       "       [7.5e+04],\n",
       "       [1.0e+04]])"
      ]
     },
     "execution_count": 38,
     "metadata": {},
     "output_type": "execute_result"
    }
   ],
   "source": [
    "X1"
   ]
  },
  {
   "cell_type": "code",
   "execution_count": 39,
   "id": "f915c5c0",
   "metadata": {
    "scrolled": true
   },
   "outputs": [
    {
     "data": {
      "text/plain": [
       "array([[124534],\n",
       "       [  3318],\n",
       "       [  3416],\n",
       "       ...,\n",
       "       [   619],\n",
       "       [   651],\n",
       "       [   221]], dtype=int64)"
      ]
     },
     "execution_count": 39,
     "metadata": {},
     "output_type": "execute_result"
    }
   ],
   "source": [
    "y1"
   ]
  },
  {
   "cell_type": "code",
   "execution_count": 40,
   "id": "23aa32c3",
   "metadata": {},
   "outputs": [],
   "source": [
    "# Split data into a training set and a test set.\n",
    "\n",
    "X1_train, X1_test, y1_train, y1_test = train_test_split(X1, y1, test_size=0.3, random_state=0)"
   ]
  },
  {
   "cell_type": "markdown",
   "id": "16400eac",
   "metadata": {},
   "source": [
    "## 03. Regression analysis"
   ]
  },
  {
   "cell_type": "code",
   "execution_count": 41,
   "id": "b278362b",
   "metadata": {},
   "outputs": [],
   "source": [
    "# Create a regression object.\n",
    "\n",
    "regression = LinearRegression()  # This is the regression object, which will be fit onto the training set."
   ]
  },
  {
   "cell_type": "code",
   "execution_count": 42,
   "id": "02e9cd66",
   "metadata": {},
   "outputs": [
    {
     "data": {
      "text/html": [
       "<style>#sk-container-id-1 {color: black;background-color: white;}#sk-container-id-1 pre{padding: 0;}#sk-container-id-1 div.sk-toggleable {background-color: white;}#sk-container-id-1 label.sk-toggleable__label {cursor: pointer;display: block;width: 100%;margin-bottom: 0;padding: 0.3em;box-sizing: border-box;text-align: center;}#sk-container-id-1 label.sk-toggleable__label-arrow:before {content: \"▸\";float: left;margin-right: 0.25em;color: #696969;}#sk-container-id-1 label.sk-toggleable__label-arrow:hover:before {color: black;}#sk-container-id-1 div.sk-estimator:hover label.sk-toggleable__label-arrow:before {color: black;}#sk-container-id-1 div.sk-toggleable__content {max-height: 0;max-width: 0;overflow: hidden;text-align: left;background-color: #f0f8ff;}#sk-container-id-1 div.sk-toggleable__content pre {margin: 0.2em;color: black;border-radius: 0.25em;background-color: #f0f8ff;}#sk-container-id-1 input.sk-toggleable__control:checked~div.sk-toggleable__content {max-height: 200px;max-width: 100%;overflow: auto;}#sk-container-id-1 input.sk-toggleable__control:checked~label.sk-toggleable__label-arrow:before {content: \"▾\";}#sk-container-id-1 div.sk-estimator input.sk-toggleable__control:checked~label.sk-toggleable__label {background-color: #d4ebff;}#sk-container-id-1 div.sk-label input.sk-toggleable__control:checked~label.sk-toggleable__label {background-color: #d4ebff;}#sk-container-id-1 input.sk-hidden--visually {border: 0;clip: rect(1px 1px 1px 1px);clip: rect(1px, 1px, 1px, 1px);height: 1px;margin: -1px;overflow: hidden;padding: 0;position: absolute;width: 1px;}#sk-container-id-1 div.sk-estimator {font-family: monospace;background-color: #f0f8ff;border: 1px dotted black;border-radius: 0.25em;box-sizing: border-box;margin-bottom: 0.5em;}#sk-container-id-1 div.sk-estimator:hover {background-color: #d4ebff;}#sk-container-id-1 div.sk-parallel-item::after {content: \"\";width: 100%;border-bottom: 1px solid gray;flex-grow: 1;}#sk-container-id-1 div.sk-label:hover label.sk-toggleable__label {background-color: #d4ebff;}#sk-container-id-1 div.sk-serial::before {content: \"\";position: absolute;border-left: 1px solid gray;box-sizing: border-box;top: 0;bottom: 0;left: 50%;z-index: 0;}#sk-container-id-1 div.sk-serial {display: flex;flex-direction: column;align-items: center;background-color: white;padding-right: 0.2em;padding-left: 0.2em;position: relative;}#sk-container-id-1 div.sk-item {position: relative;z-index: 1;}#sk-container-id-1 div.sk-parallel {display: flex;align-items: stretch;justify-content: center;background-color: white;position: relative;}#sk-container-id-1 div.sk-item::before, #sk-container-id-1 div.sk-parallel-item::before {content: \"\";position: absolute;border-left: 1px solid gray;box-sizing: border-box;top: 0;bottom: 0;left: 50%;z-index: -1;}#sk-container-id-1 div.sk-parallel-item {display: flex;flex-direction: column;z-index: 1;position: relative;background-color: white;}#sk-container-id-1 div.sk-parallel-item:first-child::after {align-self: flex-end;width: 50%;}#sk-container-id-1 div.sk-parallel-item:last-child::after {align-self: flex-start;width: 50%;}#sk-container-id-1 div.sk-parallel-item:only-child::after {width: 0;}#sk-container-id-1 div.sk-dashed-wrapped {border: 1px dashed gray;margin: 0 0.4em 0.5em 0.4em;box-sizing: border-box;padding-bottom: 0.4em;background-color: white;}#sk-container-id-1 div.sk-label label {font-family: monospace;font-weight: bold;display: inline-block;line-height: 1.2em;}#sk-container-id-1 div.sk-label-container {text-align: center;}#sk-container-id-1 div.sk-container {/* jupyter's `normalize.less` sets `[hidden] { display: none; }` but bootstrap.min.css set `[hidden] { display: none !important; }` so we also need the `!important` here to be able to override the default hidden behavior on the sphinx rendered scikit-learn.org. See: https://github.com/scikit-learn/scikit-learn/issues/21755 */display: inline-block !important;position: relative;}#sk-container-id-1 div.sk-text-repr-fallback {display: none;}</style><div id=\"sk-container-id-1\" class=\"sk-top-container\"><div class=\"sk-text-repr-fallback\"><pre>LinearRegression()</pre><b>In a Jupyter environment, please rerun this cell to show the HTML representation or trust the notebook. <br />On GitHub, the HTML representation is unable to render, please try loading this page with nbviewer.org.</b></div><div class=\"sk-container\" hidden><div class=\"sk-item\"><div class=\"sk-estimator sk-toggleable\"><input class=\"sk-toggleable__control sk-hidden--visually\" id=\"sk-estimator-id-1\" type=\"checkbox\" checked><label for=\"sk-estimator-id-1\" class=\"sk-toggleable__label sk-toggleable__label-arrow\">LinearRegression</label><div class=\"sk-toggleable__content\"><pre>LinearRegression()</pre></div></div></div></div></div>"
      ],
      "text/plain": [
       "LinearRegression()"
      ]
     },
     "execution_count": 42,
     "metadata": {},
     "output_type": "execute_result"
    }
   ],
   "source": [
    "# Fit the regression object onto the training set.\n",
    "\n",
    "regression.fit(X1_train, y1_train)"
   ]
  },
  {
   "cell_type": "code",
   "execution_count": 43,
   "id": "f0f1360e",
   "metadata": {},
   "outputs": [],
   "source": [
    "# Predict the values of y using X.\n",
    "\n",
    "y1_predicted = regression.predict(X1_test)"
   ]
  },
  {
   "cell_type": "code",
   "execution_count": 44,
   "id": "c580b1f1",
   "metadata": {},
   "outputs": [
    {
     "data": {
      "image/png": "[encoded data removed]",
      "text/plain": [
       "<Figure size 640x480 with 1 Axes>"
      ]
     },
     "metadata": {},
     "output_type": "display_data"
    }
   ],
   "source": [
    "# Create a plot that shows the regression line from the model on the test set.\n",
    "\n",
    "plot_test = plt\n",
    "plot_test.scatter(X1_test, y1_test, color='gray', s = 15)\n",
    "plot_test.plot(X1_test, y1_predicted, color='red', linewidth =3)\n",
    "plot_test.title('Average number of owners vs Positive Ratings (Test set)')\n",
    "plot_test.xlabel('Average number of owners')\n",
    "plot_test.ylabel('Positive Ratings')\n",
    "plot_test.show()"
   ]
  },
  {
   "cell_type": "code",
   "execution_count": 45,
   "id": "ae1a4fbb",
   "metadata": {},
   "outputs": [],
   "source": [
    "# Create objects that contain the model summary statistics.\n",
    "\n",
    "rmse = mean_squared_error(y1_test, y1_predicted) # This is the mean squared error\n",
    "r2 = r2_score(y1_test, y1_predicted) # This is the R2 score. "
   ]
  },
  {
   "cell_type": "code",
   "execution_count": 46,
   "id": "76c1c704",
   "metadata": {},
   "outputs": [
    {
     "name": "stdout",
     "output_type": "stream",
     "text": [
      "Slope: [[0.01044347]]\n",
      "Mean squared error:  130198550.7375091\n",
      "R2 score:  0.4559240973444483\n"
     ]
    }
   ],
   "source": [
    "# Print the model summary statistics. This is where you evaluate the performance of the model.\n",
    "\n",
    "print('Slope:' ,regression.coef_)\n",
    "print('Mean squared error: ', rmse)\n",
    "print('R2 score: ', r2)"
   ]
  },
  {
   "cell_type": "code",
   "execution_count": 47,
   "id": "a4351154",
   "metadata": {},
   "outputs": [
    {
     "data": {
      "text/html": [
       "<div>\n",
       "<style scoped>\n",
       "    .dataframe tbody tr th:only-of-type {\n",
       "        vertical-align: middle;\n",
       "    }\n",
       "\n",
       "    .dataframe tbody tr th {\n",
       "        vertical-align: top;\n",
       "    }\n",
       "\n",
       "    .dataframe thead th {\n",
       "        text-align: right;\n",
       "    }\n",
       "</style>\n",
       "<table border=\"1\" class=\"dataframe\">\n",
       "  <thead>\n",
       "    <tr style=\"text-align: right;\">\n",
       "      <th></th>\n",
       "      <th>Actual</th>\n",
       "      <th>Predicted</th>\n",
       "    </tr>\n",
       "  </thead>\n",
       "  <tbody>\n",
       "    <tr>\n",
       "      <th>0</th>\n",
       "      <td>81</td>\n",
       "      <td>-882.44</td>\n",
       "    </tr>\n",
       "    <tr>\n",
       "      <th>1</th>\n",
       "      <td>410</td>\n",
       "      <td>-882.44</td>\n",
       "    </tr>\n",
       "    <tr>\n",
       "      <th>2</th>\n",
       "      <td>19</td>\n",
       "      <td>-882.44</td>\n",
       "    </tr>\n",
       "    <tr>\n",
       "      <th>3</th>\n",
       "      <td>1735</td>\n",
       "      <td>2407.26</td>\n",
       "    </tr>\n",
       "    <tr>\n",
       "      <th>4</th>\n",
       "      <td>62</td>\n",
       "      <td>-1143.53</td>\n",
       "    </tr>\n",
       "    <tr>\n",
       "      <th>5</th>\n",
       "      <td>5844</td>\n",
       "      <td>14417.25</td>\n",
       "    </tr>\n",
       "    <tr>\n",
       "      <th>6</th>\n",
       "      <td>3825</td>\n",
       "      <td>14417.25</td>\n",
       "    </tr>\n",
       "    <tr>\n",
       "      <th>7</th>\n",
       "      <td>242</td>\n",
       "      <td>318.56</td>\n",
       "    </tr>\n",
       "    <tr>\n",
       "      <th>8</th>\n",
       "      <td>66</td>\n",
       "      <td>318.56</td>\n",
       "    </tr>\n",
       "    <tr>\n",
       "      <th>9</th>\n",
       "      <td>44810</td>\n",
       "      <td>35304.20</td>\n",
       "    </tr>\n",
       "    <tr>\n",
       "      <th>10</th>\n",
       "      <td>109</td>\n",
       "      <td>-1143.53</td>\n",
       "    </tr>\n",
       "    <tr>\n",
       "      <th>11</th>\n",
       "      <td>11</td>\n",
       "      <td>-882.44</td>\n",
       "    </tr>\n",
       "    <tr>\n",
       "      <th>12</th>\n",
       "      <td>849</td>\n",
       "      <td>318.56</td>\n",
       "    </tr>\n",
       "    <tr>\n",
       "      <th>13</th>\n",
       "      <td>13</td>\n",
       "      <td>318.56</td>\n",
       "    </tr>\n",
       "    <tr>\n",
       "      <th>14</th>\n",
       "      <td>982</td>\n",
       "      <td>2407.26</td>\n",
       "    </tr>\n",
       "    <tr>\n",
       "      <th>15</th>\n",
       "      <td>787</td>\n",
       "      <td>-882.44</td>\n",
       "    </tr>\n",
       "    <tr>\n",
       "      <th>16</th>\n",
       "      <td>26</td>\n",
       "      <td>-882.44</td>\n",
       "    </tr>\n",
       "    <tr>\n",
       "      <th>17</th>\n",
       "      <td>15666</td>\n",
       "      <td>35304.20</td>\n",
       "    </tr>\n",
       "    <tr>\n",
       "      <th>18</th>\n",
       "      <td>113</td>\n",
       "      <td>318.56</td>\n",
       "    </tr>\n",
       "    <tr>\n",
       "      <th>19</th>\n",
       "      <td>263</td>\n",
       "      <td>-464.70</td>\n",
       "    </tr>\n",
       "    <tr>\n",
       "      <th>20</th>\n",
       "      <td>1051</td>\n",
       "      <td>2407.26</td>\n",
       "    </tr>\n",
       "    <tr>\n",
       "      <th>21</th>\n",
       "      <td>62</td>\n",
       "      <td>-1143.53</td>\n",
       "    </tr>\n",
       "    <tr>\n",
       "      <th>22</th>\n",
       "      <td>54</td>\n",
       "      <td>-464.70</td>\n",
       "    </tr>\n",
       "    <tr>\n",
       "      <th>23</th>\n",
       "      <td>39</td>\n",
       "      <td>-464.70</td>\n",
       "    </tr>\n",
       "    <tr>\n",
       "      <th>24</th>\n",
       "      <td>1674</td>\n",
       "      <td>2407.26</td>\n",
       "    </tr>\n",
       "    <tr>\n",
       "      <th>25</th>\n",
       "      <td>971</td>\n",
       "      <td>6584.65</td>\n",
       "    </tr>\n",
       "    <tr>\n",
       "      <th>26</th>\n",
       "      <td>2987</td>\n",
       "      <td>14417.25</td>\n",
       "    </tr>\n",
       "    <tr>\n",
       "      <th>27</th>\n",
       "      <td>2854</td>\n",
       "      <td>2407.26</td>\n",
       "    </tr>\n",
       "    <tr>\n",
       "      <th>28</th>\n",
       "      <td>813</td>\n",
       "      <td>318.56</td>\n",
       "    </tr>\n",
       "    <tr>\n",
       "      <th>29</th>\n",
       "      <td>10</td>\n",
       "      <td>-1143.53</td>\n",
       "    </tr>\n",
       "  </tbody>\n",
       "</table>\n",
       "</div>"
      ],
      "text/plain": [
       "    Actual  Predicted\n",
       "0       81    -882.44\n",
       "1      410    -882.44\n",
       "2       19    -882.44\n",
       "3     1735    2407.26\n",
       "4       62   -1143.53\n",
       "5     5844   14417.25\n",
       "6     3825   14417.25\n",
       "7      242     318.56\n",
       "8       66     318.56\n",
       "9    44810   35304.20\n",
       "10     109   -1143.53\n",
       "11      11    -882.44\n",
       "12     849     318.56\n",
       "13      13     318.56\n",
       "14     982    2407.26\n",
       "15     787    -882.44\n",
       "16      26    -882.44\n",
       "17   15666   35304.20\n",
       "18     113     318.56\n",
       "19     263    -464.70\n",
       "20    1051    2407.26\n",
       "21      62   -1143.53\n",
       "22      54    -464.70\n",
       "23      39    -464.70\n",
       "24    1674    2407.26\n",
       "25     971    6584.65\n",
       "26    2987   14417.25\n",
       "27    2854    2407.26\n",
       "28     813     318.56\n",
       "29      10   -1143.53"
      ]
     },
     "execution_count": 47,
     "metadata": {},
     "output_type": "execute_result"
    }
   ],
   "source": [
    "# Create a dataframe comparing the actual and predicted values of y.\n",
    "\n",
    "data_1 = pd.DataFrame({'Actual': y1_test.flatten(), 'Predicted': y1_predicted.flatten()})\n",
    "data_1.head(30)"
   ]
  },
  {
   "cell_type": "markdown",
   "id": "7f6b71c6",
   "metadata": {},
   "source": [
    "#### Compare how the regression fits the training set"
   ]
  },
  {
   "cell_type": "code",
   "execution_count": 48,
   "id": "b8d6c8fa",
   "metadata": {},
   "outputs": [],
   "source": [
    "# Predict.\n",
    "\n",
    "y1_predicted_train = regression.predict(X1_train) # This is predicting X_train!"
   ]
  },
  {
   "cell_type": "code",
   "execution_count": 49,
   "id": "b6358075",
   "metadata": {},
   "outputs": [],
   "source": [
    "rmse = mean_squared_error(y1_train, y1_predicted_train)\n",
    "r2 = r2_score(y1_train, y1_predicted_train)"
   ]
  },
  {
   "cell_type": "code",
   "execution_count": 50,
   "id": "9bad7c61",
   "metadata": {},
   "outputs": [
    {
     "name": "stdout",
     "output_type": "stream",
     "text": [
      "Slope: [[0.01044347]]\n",
      "Mean squared error:  1052838263.8143122\n",
      "R2 score:  0.5077707740153197\n"
     ]
    }
   ],
   "source": [
    "print('Slope:' ,regression.coef_)\n",
    "print('Mean squared error: ', rmse)\n",
    "print('R2 score: ', r2)"
   ]
  },
  {
   "cell_type": "code",
   "execution_count": 51,
   "id": "e732d0e4",
   "metadata": {},
   "outputs": [
    {
     "data": {
      "image/png": "[encoded data removed]",
      "text/plain": [
       "<Figure size 640x480 with 1 Axes>"
      ]
     },
     "metadata": {},
     "output_type": "display_data"
    }
   ],
   "source": [
    "# Visualizing the training set results.\n",
    "\n",
    "plot_test = plt\n",
    "plot_test.scatter(X1_train, y1_train, color='green', s = 15)\n",
    "plot_test.plot(X1_train, y1_predicted_train, color='red', linewidth =3)\n",
    "plot_test.title('Average number of owners vs Positive Ratings (Train set)')\n",
    "plot_test.xlabel('Average number of owners')\n",
    "plot_test.ylabel('Positive Ratings')\n",
    "plot_test.show()"
   ]
  },
  {
   "cell_type": "markdown",
   "id": "86b5cb66",
   "metadata": {},
   "source": [
    "## 04. Comments and explanations"
   ]
  },
  {
   "cell_type": "markdown",
   "id": "19140c18",
   "metadata": {},
   "source": [
    "- Thus, the model I trained has some predictive power, as evidenced by the fact that the R2 value is greater than 0. \n",
    "\n",
    "- However, the large mean square error indicates that there is significant bias in the model's predictions. \n",
    "\n",
    "- Therefore, it is important to consider whether this level of performance is acceptable for a particular application and whether there are ways to improve the model, such as removing outliers, calculating more accurate averages, etc. "
   ]
  },
  {
   "cell_type": "markdown",
   "id": "c2ef3b8c",
   "metadata": {},
   "source": [
    "- Since we have seen from the histograms above, none of the variables represent a normal distribution. \n",
    "- All of them are right skewed and have a big spread of values, which also affects the calculation of regression, violating the principles of its use. "
   ]
  },
  {
   "cell_type": "markdown",
   "id": "64242e7e",
   "metadata": {},
   "source": [
    "- For this reason, I decided not to run regressions for any of the other hypotheses."
   ]
  }
 ],
 "metadata": {
  "kernelspec": {
   "display_name": "Python 3 (ipykernel)",
   "language": "python",
   "name": "python3"
  },
  "language_info": {
   "codemirror_mode": {
    "name": "ipython",
    "version": 3
   },
   "file_extension": ".py",
   "mimetype": "text/x-python",
   "name": "python",
   "nbconvert_exporter": "python",
   "pygments_lexer": "ipython3",
   "version": "3.11.3"
  }
 },
 "nbformat": 4,
 "nbformat_minor": 5
}
