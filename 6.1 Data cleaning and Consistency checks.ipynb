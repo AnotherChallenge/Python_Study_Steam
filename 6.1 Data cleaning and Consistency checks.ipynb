{
 "cells": [
  {
   "cell_type": "markdown",
   "id": "99f6f61a",
   "metadata": {},
   "source": [
    "## Importing libraries and datasets"
   ]
  },
  {
   "cell_type": "code",
   "execution_count": 1,
   "id": "4eff93c4",
   "metadata": {},
   "outputs": [],
   "source": [
    "# Importing libraries\n",
    "\n",
    "import pandas as pd\n",
    "import numpy as np\n",
    "import os\n",
    "import matplotlib.pyplot as plt\n",
    "import seaborn as sns\n",
    "import scipy"
   ]
  },
  {
   "cell_type": "code",
   "execution_count": 2,
   "id": "85d379a5",
   "metadata": {},
   "outputs": [],
   "source": [
    "# Change the format of the values visualization\n",
    "\n",
    "pd.options.display.float_format = '{:.2f}'.format"
   ]
  },
  {
   "cell_type": "code",
   "execution_count": 3,
   "id": "5697e236",
   "metadata": {},
   "outputs": [],
   "source": [
    "# Reset the maximum number of columns to display to default (all columns)\n",
    "\n",
    "pd.set_option('display.max_columns', None)"
   ]
  },
  {
   "cell_type": "code",
   "execution_count": 4,
   "id": "41389e4e",
   "metadata": {},
   "outputs": [],
   "source": [
    "# Defining the path to datasets\n",
    "\n",
    "path = r'C:\\Users\\efens\\cf_tasks\\2023-08 Steam Analysis'"
   ]
  },
  {
   "cell_type": "code",
   "execution_count": 5,
   "id": "a69761b4",
   "metadata": {},
   "outputs": [],
   "source": [
    "# Importing project data \"steam\"\n",
    "\n",
    "steam_raw = pd.read_csv(os.path.join(path, '02 Data', '021 Original Data', 'steam.csv'))"
   ]
  },
  {
   "cell_type": "code",
   "execution_count": 6,
   "id": "f4cf63f3",
   "metadata": {},
   "outputs": [],
   "source": [
    "# Importing project data \"valve_player\"\n",
    "\n",
    "player_raw = pd.read_csv(os.path.join(path, '02 Data', '021 Original Data', 'Valve_Player_Data.csv'))"
   ]
  },
  {
   "cell_type": "code",
   "execution_count": 7,
   "id": "cfbd5612",
   "metadata": {},
   "outputs": [],
   "source": [
    "# Importing project data \"game developer\"\n",
    "\n",
    "gamedev_raw = pd.read_excel(os.path.join(path, '02 Data', '021 Original Data', 'gamedev_raw.xlsx'))"
   ]
  },
  {
   "cell_type": "markdown",
   "id": "381fb942",
   "metadata": {},
   "source": [
    "## Cleaning and Consistency checks"
   ]
  },
  {
   "cell_type": "markdown",
   "id": "79867757",
   "metadata": {},
   "source": [
    "## 01. Steam dataset"
   ]
  },
  {
   "cell_type": "code",
   "execution_count": 8,
   "id": "60dabed0",
   "metadata": {},
   "outputs": [
    {
     "data": {
      "text/html": [
       "<div>\n",
       "<style scoped>\n",
       "    .dataframe tbody tr th:only-of-type {\n",
       "        vertical-align: middle;\n",
       "    }\n",
       "\n",
       "    .dataframe tbody tr th {\n",
       "        vertical-align: top;\n",
       "    }\n",
       "\n",
       "    .dataframe thead th {\n",
       "        text-align: right;\n",
       "    }\n",
       "</style>\n",
       "<table border=\"1\" class=\"dataframe\">\n",
       "  <thead>\n",
       "    <tr style=\"text-align: right;\">\n",
       "      <th></th>\n",
       "      <th>appid</th>\n",
       "      <th>name</th>\n",
       "      <th>release_date</th>\n",
       "      <th>english</th>\n",
       "      <th>developer</th>\n",
       "      <th>publisher</th>\n",
       "      <th>platforms</th>\n",
       "      <th>required_age</th>\n",
       "      <th>categories</th>\n",
       "      <th>genres</th>\n",
       "      <th>steamspy_tags</th>\n",
       "      <th>achievements</th>\n",
       "      <th>positive_ratings</th>\n",
       "      <th>negative_ratings</th>\n",
       "      <th>average_playtime</th>\n",
       "      <th>median_playtime</th>\n",
       "      <th>owners</th>\n",
       "      <th>price</th>\n",
       "    </tr>\n",
       "  </thead>\n",
       "  <tbody>\n",
       "    <tr>\n",
       "      <th>0</th>\n",
       "      <td>10</td>\n",
       "      <td>Counter-Strike</td>\n",
       "      <td>2000-11-01</td>\n",
       "      <td>1</td>\n",
       "      <td>Valve</td>\n",
       "      <td>Valve</td>\n",
       "      <td>windows;mac;linux</td>\n",
       "      <td>0</td>\n",
       "      <td>Multi-player;Online Multi-Player;Local Multi-P...</td>\n",
       "      <td>Action</td>\n",
       "      <td>Action;FPS;Multiplayer</td>\n",
       "      <td>0</td>\n",
       "      <td>124534</td>\n",
       "      <td>3339</td>\n",
       "      <td>17612</td>\n",
       "      <td>317</td>\n",
       "      <td>10000000-20000000</td>\n",
       "      <td>7.19</td>\n",
       "    </tr>\n",
       "    <tr>\n",
       "      <th>1</th>\n",
       "      <td>20</td>\n",
       "      <td>Team Fortress Classic</td>\n",
       "      <td>1999-04-01</td>\n",
       "      <td>1</td>\n",
       "      <td>Valve</td>\n",
       "      <td>Valve</td>\n",
       "      <td>windows;mac;linux</td>\n",
       "      <td>0</td>\n",
       "      <td>Multi-player;Online Multi-Player;Local Multi-P...</td>\n",
       "      <td>Action</td>\n",
       "      <td>Action;FPS;Multiplayer</td>\n",
       "      <td>0</td>\n",
       "      <td>3318</td>\n",
       "      <td>633</td>\n",
       "      <td>277</td>\n",
       "      <td>62</td>\n",
       "      <td>5000000-10000000</td>\n",
       "      <td>3.99</td>\n",
       "    </tr>\n",
       "    <tr>\n",
       "      <th>2</th>\n",
       "      <td>30</td>\n",
       "      <td>Day of Defeat</td>\n",
       "      <td>2003-05-01</td>\n",
       "      <td>1</td>\n",
       "      <td>Valve</td>\n",
       "      <td>Valve</td>\n",
       "      <td>windows;mac;linux</td>\n",
       "      <td>0</td>\n",
       "      <td>Multi-player;Valve Anti-Cheat enabled</td>\n",
       "      <td>Action</td>\n",
       "      <td>FPS;World War II;Multiplayer</td>\n",
       "      <td>0</td>\n",
       "      <td>3416</td>\n",
       "      <td>398</td>\n",
       "      <td>187</td>\n",
       "      <td>34</td>\n",
       "      <td>5000000-10000000</td>\n",
       "      <td>3.99</td>\n",
       "    </tr>\n",
       "    <tr>\n",
       "      <th>3</th>\n",
       "      <td>40</td>\n",
       "      <td>Deathmatch Classic</td>\n",
       "      <td>2001-06-01</td>\n",
       "      <td>1</td>\n",
       "      <td>Valve</td>\n",
       "      <td>Valve</td>\n",
       "      <td>windows;mac;linux</td>\n",
       "      <td>0</td>\n",
       "      <td>Multi-player;Online Multi-Player;Local Multi-P...</td>\n",
       "      <td>Action</td>\n",
       "      <td>Action;FPS;Multiplayer</td>\n",
       "      <td>0</td>\n",
       "      <td>1273</td>\n",
       "      <td>267</td>\n",
       "      <td>258</td>\n",
       "      <td>184</td>\n",
       "      <td>5000000-10000000</td>\n",
       "      <td>3.99</td>\n",
       "    </tr>\n",
       "    <tr>\n",
       "      <th>4</th>\n",
       "      <td>50</td>\n",
       "      <td>Half-Life: Opposing Force</td>\n",
       "      <td>1999-11-01</td>\n",
       "      <td>1</td>\n",
       "      <td>Gearbox Software</td>\n",
       "      <td>Valve</td>\n",
       "      <td>windows;mac;linux</td>\n",
       "      <td>0</td>\n",
       "      <td>Single-player;Multi-player;Valve Anti-Cheat en...</td>\n",
       "      <td>Action</td>\n",
       "      <td>FPS;Action;Sci-fi</td>\n",
       "      <td>0</td>\n",
       "      <td>5250</td>\n",
       "      <td>288</td>\n",
       "      <td>624</td>\n",
       "      <td>415</td>\n",
       "      <td>5000000-10000000</td>\n",
       "      <td>3.99</td>\n",
       "    </tr>\n",
       "  </tbody>\n",
       "</table>\n",
       "</div>"
      ],
      "text/plain": [
       "   appid                       name release_date  english         developer  \\\n",
       "0     10             Counter-Strike   2000-11-01        1             Valve   \n",
       "1     20      Team Fortress Classic   1999-04-01        1             Valve   \n",
       "2     30              Day of Defeat   2003-05-01        1             Valve   \n",
       "3     40         Deathmatch Classic   2001-06-01        1             Valve   \n",
       "4     50  Half-Life: Opposing Force   1999-11-01        1  Gearbox Software   \n",
       "\n",
       "  publisher          platforms  required_age  \\\n",
       "0     Valve  windows;mac;linux             0   \n",
       "1     Valve  windows;mac;linux             0   \n",
       "2     Valve  windows;mac;linux             0   \n",
       "3     Valve  windows;mac;linux             0   \n",
       "4     Valve  windows;mac;linux             0   \n",
       "\n",
       "                                          categories  genres  \\\n",
       "0  Multi-player;Online Multi-Player;Local Multi-P...  Action   \n",
       "1  Multi-player;Online Multi-Player;Local Multi-P...  Action   \n",
       "2              Multi-player;Valve Anti-Cheat enabled  Action   \n",
       "3  Multi-player;Online Multi-Player;Local Multi-P...  Action   \n",
       "4  Single-player;Multi-player;Valve Anti-Cheat en...  Action   \n",
       "\n",
       "                  steamspy_tags  achievements  positive_ratings  \\\n",
       "0        Action;FPS;Multiplayer             0            124534   \n",
       "1        Action;FPS;Multiplayer             0              3318   \n",
       "2  FPS;World War II;Multiplayer             0              3416   \n",
       "3        Action;FPS;Multiplayer             0              1273   \n",
       "4             FPS;Action;Sci-fi             0              5250   \n",
       "\n",
       "   negative_ratings  average_playtime  median_playtime             owners  \\\n",
       "0              3339             17612              317  10000000-20000000   \n",
       "1               633               277               62   5000000-10000000   \n",
       "2               398               187               34   5000000-10000000   \n",
       "3               267               258              184   5000000-10000000   \n",
       "4               288               624              415   5000000-10000000   \n",
       "\n",
       "   price  \n",
       "0   7.19  \n",
       "1   3.99  \n",
       "2   3.99  \n",
       "3   3.99  \n",
       "4   3.99  "
      ]
     },
     "execution_count": 8,
     "metadata": {},
     "output_type": "execute_result"
    }
   ],
   "source": [
    "steam_raw.head()"
   ]
  },
  {
   "cell_type": "code",
   "execution_count": 9,
   "id": "4225665e",
   "metadata": {},
   "outputs": [
    {
     "data": {
      "text/html": [
       "<div>\n",
       "<style scoped>\n",
       "    .dataframe tbody tr th:only-of-type {\n",
       "        vertical-align: middle;\n",
       "    }\n",
       "\n",
       "    .dataframe tbody tr th {\n",
       "        vertical-align: top;\n",
       "    }\n",
       "\n",
       "    .dataframe thead th {\n",
       "        text-align: right;\n",
       "    }\n",
       "</style>\n",
       "<table border=\"1\" class=\"dataframe\">\n",
       "  <thead>\n",
       "    <tr style=\"text-align: right;\">\n",
       "      <th></th>\n",
       "      <th>appid</th>\n",
       "      <th>achievements</th>\n",
       "      <th>positive_ratings</th>\n",
       "      <th>negative_ratings</th>\n",
       "      <th>average_playtime</th>\n",
       "      <th>median_playtime</th>\n",
       "      <th>price</th>\n",
       "    </tr>\n",
       "  </thead>\n",
       "  <tbody>\n",
       "    <tr>\n",
       "      <th>count</th>\n",
       "      <td>27075.00</td>\n",
       "      <td>27075.00</td>\n",
       "      <td>27075.00</td>\n",
       "      <td>27075.00</td>\n",
       "      <td>27075.00</td>\n",
       "      <td>27075.00</td>\n",
       "      <td>27075.00</td>\n",
       "    </tr>\n",
       "    <tr>\n",
       "      <th>mean</th>\n",
       "      <td>596203.51</td>\n",
       "      <td>45.25</td>\n",
       "      <td>1000.56</td>\n",
       "      <td>211.03</td>\n",
       "      <td>149.80</td>\n",
       "      <td>146.06</td>\n",
       "      <td>6.08</td>\n",
       "    </tr>\n",
       "    <tr>\n",
       "      <th>std</th>\n",
       "      <td>250894.17</td>\n",
       "      <td>352.67</td>\n",
       "      <td>18988.72</td>\n",
       "      <td>4284.94</td>\n",
       "      <td>1827.04</td>\n",
       "      <td>2353.88</td>\n",
       "      <td>7.87</td>\n",
       "    </tr>\n",
       "    <tr>\n",
       "      <th>min</th>\n",
       "      <td>10.00</td>\n",
       "      <td>0.00</td>\n",
       "      <td>0.00</td>\n",
       "      <td>0.00</td>\n",
       "      <td>0.00</td>\n",
       "      <td>0.00</td>\n",
       "      <td>0.00</td>\n",
       "    </tr>\n",
       "    <tr>\n",
       "      <th>25%</th>\n",
       "      <td>401230.00</td>\n",
       "      <td>0.00</td>\n",
       "      <td>6.00</td>\n",
       "      <td>2.00</td>\n",
       "      <td>0.00</td>\n",
       "      <td>0.00</td>\n",
       "      <td>1.69</td>\n",
       "    </tr>\n",
       "    <tr>\n",
       "      <th>50%</th>\n",
       "      <td>599070.00</td>\n",
       "      <td>7.00</td>\n",
       "      <td>24.00</td>\n",
       "      <td>9.00</td>\n",
       "      <td>0.00</td>\n",
       "      <td>0.00</td>\n",
       "      <td>3.99</td>\n",
       "    </tr>\n",
       "    <tr>\n",
       "      <th>75%</th>\n",
       "      <td>798760.00</td>\n",
       "      <td>23.00</td>\n",
       "      <td>126.00</td>\n",
       "      <td>42.00</td>\n",
       "      <td>0.00</td>\n",
       "      <td>0.00</td>\n",
       "      <td>7.19</td>\n",
       "    </tr>\n",
       "    <tr>\n",
       "      <th>max</th>\n",
       "      <td>1069460.00</td>\n",
       "      <td>9821.00</td>\n",
       "      <td>2644404.00</td>\n",
       "      <td>487076.00</td>\n",
       "      <td>190625.00</td>\n",
       "      <td>190625.00</td>\n",
       "      <td>421.99</td>\n",
       "    </tr>\n",
       "  </tbody>\n",
       "</table>\n",
       "</div>"
      ],
      "text/plain": [
       "           appid  achievements  positive_ratings  negative_ratings  \\\n",
       "count   27075.00      27075.00          27075.00          27075.00   \n",
       "mean   596203.51         45.25           1000.56            211.03   \n",
       "std    250894.17        352.67          18988.72           4284.94   \n",
       "min        10.00          0.00              0.00              0.00   \n",
       "25%    401230.00          0.00              6.00              2.00   \n",
       "50%    599070.00          7.00             24.00              9.00   \n",
       "75%    798760.00         23.00            126.00             42.00   \n",
       "max   1069460.00       9821.00        2644404.00         487076.00   \n",
       "\n",
       "       average_playtime  median_playtime    price  \n",
       "count          27075.00         27075.00 27075.00  \n",
       "mean             149.80           146.06     6.08  \n",
       "std             1827.04          2353.88     7.87  \n",
       "min                0.00             0.00     0.00  \n",
       "25%                0.00             0.00     1.69  \n",
       "50%                0.00             0.00     3.99  \n",
       "75%                0.00             0.00     7.19  \n",
       "max           190625.00        190625.00   421.99  "
      ]
     },
     "execution_count": 9,
     "metadata": {},
     "output_type": "execute_result"
    }
   ],
   "source": [
    "steam_raw[['appid', 'achievements', 'positive_ratings', 'negative_ratings', 'average_playtime', 'median_playtime', 'price']].describe()"
   ]
  },
  {
   "cell_type": "code",
   "execution_count": 10,
   "id": "4bd622a5",
   "metadata": {},
   "outputs": [
    {
     "data": {
      "text/plain": [
       "0       20905\n",
       "1         155\n",
       "3          72\n",
       "2          52\n",
       "9          48\n",
       "        ...  \n",
       "2379        1\n",
       "2478        1\n",
       "1052        1\n",
       "2390        1\n",
       "816         1\n",
       "Name: median_playtime, Length: 1312, dtype: int64"
      ]
     },
     "execution_count": 10,
     "metadata": {},
     "output_type": "execute_result"
    }
   ],
   "source": [
    "# Invetigating the column average_playtime\n",
    "\n",
    "ap_value_counts = steam_raw['median_playtime'].value_counts()\n",
    "ap_value_counts"
   ]
  },
  {
   "cell_type": "markdown",
   "id": "ff09558b",
   "metadata": {},
   "source": [
    "- This means that many games have been purchased but not yet played. Will this also be true for the most popular game, which has the maximum number of users? And what about expensive games?"
   ]
  },
  {
   "cell_type": "code",
   "execution_count": 11,
   "id": "e4dc5e91",
   "metadata": {},
   "outputs": [
    {
     "data": {
      "text/plain": [
       "3.99     3211\n",
       "0.79     2892\n",
       "0.00     2560\n",
       "6.99     2050\n",
       "7.19     1304\n",
       "         ... \n",
       "20.51       1\n",
       "11.95       1\n",
       "3.92        1\n",
       "6.59        1\n",
       "6.10        1\n",
       "Name: price, Length: 282, dtype: int64"
      ]
     },
     "execution_count": 11,
     "metadata": {},
     "output_type": "execute_result"
    }
   ],
   "source": [
    "# Invetigating the column price\n",
    "\n",
    "pr_value_counts = steam_raw['price'].value_counts()\n",
    "pr_value_counts"
   ]
  },
  {
   "cell_type": "markdown",
   "id": "0d8806a9",
   "metadata": {},
   "source": [
    "- There are many free games available on the Steam platform. What are the top 100 free games? How many users do they have? And what is their median_playtime?"
   ]
  },
  {
   "cell_type": "code",
   "execution_count": 12,
   "id": "3e055013",
   "metadata": {},
   "outputs": [
    {
     "data": {
      "text/plain": [
       "appid                 int64\n",
       "name                 object\n",
       "release_date         object\n",
       "english               int64\n",
       "developer            object\n",
       "publisher            object\n",
       "platforms            object\n",
       "required_age          int64\n",
       "categories           object\n",
       "genres               object\n",
       "steamspy_tags        object\n",
       "achievements          int64\n",
       "positive_ratings      int64\n",
       "negative_ratings      int64\n",
       "average_playtime      int64\n",
       "median_playtime       int64\n",
       "owners               object\n",
       "price               float64\n",
       "dtype: object"
      ]
     },
     "execution_count": 12,
     "metadata": {},
     "output_type": "execute_result"
    }
   ],
   "source": [
    "steam_raw.dtypes"
   ]
  },
  {
   "cell_type": "markdown",
   "id": "dbbd5e64",
   "metadata": {},
   "source": [
    "#### Checking and cleaning"
   ]
  },
  {
   "cell_type": "code",
   "execution_count": 13,
   "id": "3576c2d8",
   "metadata": {},
   "outputs": [
    {
     "data": {
      "text/plain": [
       "appid               0\n",
       "name                0\n",
       "release_date        0\n",
       "english             0\n",
       "developer           0\n",
       "publisher           0\n",
       "platforms           0\n",
       "required_age        0\n",
       "categories          0\n",
       "genres              0\n",
       "steamspy_tags       0\n",
       "achievements        0\n",
       "positive_ratings    0\n",
       "negative_ratings    0\n",
       "average_playtime    0\n",
       "median_playtime     0\n",
       "owners              0\n",
       "price               0\n",
       "dtype: int64"
      ]
     },
     "execution_count": 13,
     "metadata": {},
     "output_type": "execute_result"
    }
   ],
   "source": [
    "# Checking for missing values\n",
    "\n",
    "missing_values = steam_raw.isnull().sum()\n",
    "missing_values"
   ]
  },
  {
   "cell_type": "markdown",
   "id": "6cba39be",
   "metadata": {},
   "source": [
    "- There is no missing values found"
   ]
  },
  {
   "cell_type": "code",
   "execution_count": 14,
   "id": "d5c2143f",
   "metadata": {},
   "outputs": [],
   "source": [
    "# Checking for mix-type values\n",
    "\n",
    "for col in steam_raw.columns:\n",
    "  mix_test = (steam_raw[[col]].applymap(type) != steam_raw[[col]].iloc[0].apply(type)).any(axis = 1)\n",
    "  if len (steam_raw[mix_test]) > 0:\n",
    "    print (col)"
   ]
  },
  {
   "cell_type": "markdown",
   "id": "db1573f1",
   "metadata": {},
   "source": [
    "- no mixed-type values"
   ]
  },
  {
   "cell_type": "code",
   "execution_count": 15,
   "id": "f5cbb443",
   "metadata": {},
   "outputs": [],
   "source": [
    "# Checking for duplicates\n",
    "\n",
    "steam_dups = steam_raw[steam_raw.duplicated()]"
   ]
  },
  {
   "cell_type": "code",
   "execution_count": 16,
   "id": "672d3438",
   "metadata": {},
   "outputs": [
    {
     "data": {
      "text/html": [
       "<div>\n",
       "<style scoped>\n",
       "    .dataframe tbody tr th:only-of-type {\n",
       "        vertical-align: middle;\n",
       "    }\n",
       "\n",
       "    .dataframe tbody tr th {\n",
       "        vertical-align: top;\n",
       "    }\n",
       "\n",
       "    .dataframe thead th {\n",
       "        text-align: right;\n",
       "    }\n",
       "</style>\n",
       "<table border=\"1\" class=\"dataframe\">\n",
       "  <thead>\n",
       "    <tr style=\"text-align: right;\">\n",
       "      <th></th>\n",
       "      <th>appid</th>\n",
       "      <th>name</th>\n",
       "      <th>release_date</th>\n",
       "      <th>english</th>\n",
       "      <th>developer</th>\n",
       "      <th>publisher</th>\n",
       "      <th>platforms</th>\n",
       "      <th>required_age</th>\n",
       "      <th>categories</th>\n",
       "      <th>genres</th>\n",
       "      <th>steamspy_tags</th>\n",
       "      <th>achievements</th>\n",
       "      <th>positive_ratings</th>\n",
       "      <th>negative_ratings</th>\n",
       "      <th>average_playtime</th>\n",
       "      <th>median_playtime</th>\n",
       "      <th>owners</th>\n",
       "      <th>price</th>\n",
       "    </tr>\n",
       "  </thead>\n",
       "  <tbody>\n",
       "  </tbody>\n",
       "</table>\n",
       "</div>"
      ],
      "text/plain": [
       "Empty DataFrame\n",
       "Columns: [appid, name, release_date, english, developer, publisher, platforms, required_age, categories, genres, steamspy_tags, achievements, positive_ratings, negative_ratings, average_playtime, median_playtime, owners, price]\n",
       "Index: []"
      ]
     },
     "execution_count": 16,
     "metadata": {},
     "output_type": "execute_result"
    }
   ],
   "source": [
    "steam_dups.head()"
   ]
  },
  {
   "cell_type": "markdown",
   "id": "361bb63c",
   "metadata": {},
   "source": [
    "- no duplicates found"
   ]
  },
  {
   "cell_type": "markdown",
   "id": "fcff0c1c",
   "metadata": {},
   "source": [
    "## 02. Valve Player"
   ]
  },
  {
   "cell_type": "code",
   "execution_count": 17,
   "id": "1ba13811",
   "metadata": {},
   "outputs": [
    {
     "data": {
      "text/html": [
       "<div>\n",
       "<style scoped>\n",
       "    .dataframe tbody tr th:only-of-type {\n",
       "        vertical-align: middle;\n",
       "    }\n",
       "\n",
       "    .dataframe tbody tr th {\n",
       "        vertical-align: top;\n",
       "    }\n",
       "\n",
       "    .dataframe thead th {\n",
       "        text-align: right;\n",
       "    }\n",
       "</style>\n",
       "<table border=\"1\" class=\"dataframe\">\n",
       "  <thead>\n",
       "    <tr style=\"text-align: right;\">\n",
       "      <th></th>\n",
       "      <th>Month_Year</th>\n",
       "      <th>Avg_players</th>\n",
       "      <th>Gain</th>\n",
       "      <th>Percent_Gain</th>\n",
       "      <th>Peak_Players</th>\n",
       "      <th>URL</th>\n",
       "      <th>Date</th>\n",
       "      <th>Game_Name</th>\n",
       "    </tr>\n",
       "  </thead>\n",
       "  <tbody>\n",
       "    <tr>\n",
       "      <th>0</th>\n",
       "      <td>September 2021</td>\n",
       "      <td>512350.92</td>\n",
       "      <td>268.96</td>\n",
       "      <td>+0.05%</td>\n",
       "      <td>942519</td>\n",
       "      <td>https://steamcharts.com/app/730</td>\n",
       "      <td>2021-09-01</td>\n",
       "      <td>Counter Strike: Global Offensive</td>\n",
       "    </tr>\n",
       "    <tr>\n",
       "      <th>1</th>\n",
       "      <td>August 2021</td>\n",
       "      <td>512081.96</td>\n",
       "      <td>6014.60</td>\n",
       "      <td>+1.19%</td>\n",
       "      <td>802544</td>\n",
       "      <td>https://steamcharts.com/app/730</td>\n",
       "      <td>2021-08-01</td>\n",
       "      <td>Counter Strike: Global Offensive</td>\n",
       "    </tr>\n",
       "    <tr>\n",
       "      <th>2</th>\n",
       "      <td>July 2021</td>\n",
       "      <td>506067.36</td>\n",
       "      <td>-43279.72</td>\n",
       "      <td>-7.88%</td>\n",
       "      <td>763523</td>\n",
       "      <td>https://steamcharts.com/app/730</td>\n",
       "      <td>2021-07-01</td>\n",
       "      <td>Counter Strike: Global Offensive</td>\n",
       "    </tr>\n",
       "    <tr>\n",
       "      <th>3</th>\n",
       "      <td>June 2021</td>\n",
       "      <td>549347.08</td>\n",
       "      <td>-110541.81</td>\n",
       "      <td>-16.75%</td>\n",
       "      <td>929940</td>\n",
       "      <td>https://steamcharts.com/app/730</td>\n",
       "      <td>2021-06-01</td>\n",
       "      <td>Counter Strike: Global Offensive</td>\n",
       "    </tr>\n",
       "    <tr>\n",
       "      <th>4</th>\n",
       "      <td>May 2021</td>\n",
       "      <td>659888.89</td>\n",
       "      <td>-63457.63</td>\n",
       "      <td>-8.77%</td>\n",
       "      <td>1087197</td>\n",
       "      <td>https://steamcharts.com/app/730</td>\n",
       "      <td>2021-05-01</td>\n",
       "      <td>Counter Strike: Global Offensive</td>\n",
       "    </tr>\n",
       "  </tbody>\n",
       "</table>\n",
       "</div>"
      ],
      "text/plain": [
       "       Month_Year  Avg_players       Gain Percent_Gain  Peak_Players  \\\n",
       "0  September 2021    512350.92     268.96       +0.05%        942519   \n",
       "1     August 2021    512081.96    6014.60       +1.19%        802544   \n",
       "2       July 2021    506067.36  -43279.72       -7.88%        763523   \n",
       "3       June 2021    549347.08 -110541.81      -16.75%        929940   \n",
       "4        May 2021    659888.89  -63457.63       -8.77%       1087197   \n",
       "\n",
       "                               URL        Date  \\\n",
       "0  https://steamcharts.com/app/730  2021-09-01   \n",
       "1  https://steamcharts.com/app/730  2021-08-01   \n",
       "2  https://steamcharts.com/app/730  2021-07-01   \n",
       "3  https://steamcharts.com/app/730  2021-06-01   \n",
       "4  https://steamcharts.com/app/730  2021-05-01   \n",
       "\n",
       "                          Game_Name  \n",
       "0  Counter Strike: Global Offensive  \n",
       "1  Counter Strike: Global Offensive  \n",
       "2  Counter Strike: Global Offensive  \n",
       "3  Counter Strike: Global Offensive  \n",
       "4  Counter Strike: Global Offensive  "
      ]
     },
     "execution_count": 17,
     "metadata": {},
     "output_type": "execute_result"
    }
   ],
   "source": [
    "player_raw.head()"
   ]
  },
  {
   "cell_type": "code",
   "execution_count": 18,
   "id": "aaa3759a",
   "metadata": {},
   "outputs": [
    {
     "data": {
      "text/html": [
       "<div>\n",
       "<style scoped>\n",
       "    .dataframe tbody tr th:only-of-type {\n",
       "        vertical-align: middle;\n",
       "    }\n",
       "\n",
       "    .dataframe tbody tr th {\n",
       "        vertical-align: top;\n",
       "    }\n",
       "\n",
       "    .dataframe thead th {\n",
       "        text-align: right;\n",
       "    }\n",
       "</style>\n",
       "<table border=\"1\" class=\"dataframe\">\n",
       "  <thead>\n",
       "    <tr style=\"text-align: right;\">\n",
       "      <th></th>\n",
       "      <th>Avg_players</th>\n",
       "      <th>Peak_Players</th>\n",
       "    </tr>\n",
       "  </thead>\n",
       "  <tbody>\n",
       "    <tr>\n",
       "      <th>count</th>\n",
       "      <td>5271.00</td>\n",
       "      <td>5271.00</td>\n",
       "    </tr>\n",
       "    <tr>\n",
       "      <th>mean</th>\n",
       "      <td>37631.49</td>\n",
       "      <td>70320.72</td>\n",
       "    </tr>\n",
       "    <tr>\n",
       "      <th>std</th>\n",
       "      <td>103295.06</td>\n",
       "      <td>194194.82</td>\n",
       "    </tr>\n",
       "    <tr>\n",
       "      <th>min</th>\n",
       "      <td>0.00</td>\n",
       "      <td>0.00</td>\n",
       "    </tr>\n",
       "    <tr>\n",
       "      <th>25%</th>\n",
       "      <td>6720.20</td>\n",
       "      <td>13029.00</td>\n",
       "    </tr>\n",
       "    <tr>\n",
       "      <th>50%</th>\n",
       "      <td>12358.40</td>\n",
       "      <td>23447.00</td>\n",
       "    </tr>\n",
       "    <tr>\n",
       "      <th>75%</th>\n",
       "      <td>24149.76</td>\n",
       "      <td>46101.50</td>\n",
       "    </tr>\n",
       "    <tr>\n",
       "      <th>max</th>\n",
       "      <td>1584886.77</td>\n",
       "      <td>3236027.00</td>\n",
       "    </tr>\n",
       "  </tbody>\n",
       "</table>\n",
       "</div>"
      ],
      "text/plain": [
       "       Avg_players  Peak_Players\n",
       "count      5271.00       5271.00\n",
       "mean      37631.49      70320.72\n",
       "std      103295.06     194194.82\n",
       "min           0.00          0.00\n",
       "25%        6720.20      13029.00\n",
       "50%       12358.40      23447.00\n",
       "75%       24149.76      46101.50\n",
       "max     1584886.77    3236027.00"
      ]
     },
     "execution_count": 18,
     "metadata": {},
     "output_type": "execute_result"
    }
   ],
   "source": [
    "player_raw[['Avg_players','Peak_Players']].describe()"
   ]
  },
  {
   "cell_type": "code",
   "execution_count": 19,
   "id": "cd3a0e90",
   "metadata": {},
   "outputs": [
    {
     "data": {
      "text/plain": [
       "Month_Year       object\n",
       "Avg_players     float64\n",
       "Gain            float64\n",
       "Percent_Gain     object\n",
       "Peak_Players      int64\n",
       "URL              object\n",
       "Date             object\n",
       "Game_Name        object\n",
       "dtype: object"
      ]
     },
     "execution_count": 19,
     "metadata": {},
     "output_type": "execute_result"
    }
   ],
   "source": [
    "player_raw.dtypes"
   ]
  },
  {
   "cell_type": "code",
   "execution_count": 20,
   "id": "1b509474",
   "metadata": {},
   "outputs": [
    {
     "data": {
      "text/plain": [
       "Counter Strike: Global Offensive    111\n",
       "Left 4 Dead 2                       111\n",
       "Dota 2                              111\n",
       "Team Fortress 2                     111\n",
       "Garry's Mod                         111\n",
       "                                   ... \n",
       "NARAKA: BLADEPOINT                    2\n",
       "Tales of Arise                        1\n",
       "NBA 2k22                              1\n",
       "Cookie Clicker                        1\n",
       "Pathfinder: Wrath of Righteous        1\n",
       "Name: Game_Name, Length: 98, dtype: int64"
      ]
     },
     "execution_count": 20,
     "metadata": {},
     "output_type": "execute_result"
    }
   ],
   "source": [
    "# Invetigating the column Game_Name\n",
    "\n",
    "pl_value_counts = player_raw['Game_Name'].value_counts()\n",
    "pl_value_counts"
   ]
  },
  {
   "cell_type": "code",
   "execution_count": 21,
   "id": "5f43297c",
   "metadata": {},
   "outputs": [
    {
     "data": {
      "text/plain": [
       "https://steamcharts.com/app/730        111\n",
       "https://steamcharts.com/app/550        111\n",
       "https://steamcharts.com/app/570        111\n",
       "https://steamcharts.com/app/440        111\n",
       "https://steamcharts.com/app/4000       111\n",
       "                                      ... \n",
       "https://steamcharts.com/app/1203220      2\n",
       "https://steamcharts.com/app/740130       1\n",
       "https://steamcharts.com/app/1644960      1\n",
       "https://steamcharts.com/app/1454400      1\n",
       "https://steamcharts.com/app/1184370      1\n",
       "Name: URL, Length: 98, dtype: int64"
      ]
     },
     "execution_count": 21,
     "metadata": {},
     "output_type": "execute_result"
    }
   ],
   "source": [
    "# Invetigating the column URL\n",
    "\n",
    "pl_value_counts = player_raw['URL'].value_counts()\n",
    "pl_value_counts"
   ]
  },
  {
   "cell_type": "markdown",
   "id": "edef340f",
   "metadata": {},
   "source": [
    "- This dataset compiles data from various steam charts. "
   ]
  },
  {
   "cell_type": "markdown",
   "id": "e3788e6f",
   "metadata": {},
   "source": [
    "#### Cleaning and checking"
   ]
  },
  {
   "cell_type": "code",
   "execution_count": 22,
   "id": "32960cc1",
   "metadata": {},
   "outputs": [
    {
     "data": {
      "text/plain": [
       "Month_Year       0\n",
       "Avg_players      0\n",
       "Gain            98\n",
       "Percent_Gain    98\n",
       "Peak_Players     0\n",
       "URL              0\n",
       "Date             0\n",
       "Game_Name        0\n",
       "dtype: int64"
      ]
     },
     "execution_count": 22,
     "metadata": {},
     "output_type": "execute_result"
    }
   ],
   "source": [
    "# Checking for missing values\n",
    "\n",
    "pl_missing_values = player_raw.isnull().sum()\n",
    "pl_missing_values"
   ]
  },
  {
   "cell_type": "markdown",
   "id": "6ea1ad63",
   "metadata": {},
   "source": [
    "- There are 98 missing values in the Gain and Percent Gain columns. As these two columns are not relevant for further analysis, I decided to create a new dataset without them."
   ]
  },
  {
   "cell_type": "code",
   "execution_count": 23,
   "id": "5163e990",
   "metadata": {},
   "outputs": [],
   "source": [
    "# Creating the new ds\n",
    "\n",
    "player_clean = player_raw[['Game_Name','Month_Year', 'Avg_players', 'Peak_Players', 'Date', 'URL']].copy()"
   ]
  },
  {
   "cell_type": "code",
   "execution_count": 24,
   "id": "4d55033c",
   "metadata": {},
   "outputs": [
    {
     "data": {
      "text/html": [
       "<div>\n",
       "<style scoped>\n",
       "    .dataframe tbody tr th:only-of-type {\n",
       "        vertical-align: middle;\n",
       "    }\n",
       "\n",
       "    .dataframe tbody tr th {\n",
       "        vertical-align: top;\n",
       "    }\n",
       "\n",
       "    .dataframe thead th {\n",
       "        text-align: right;\n",
       "    }\n",
       "</style>\n",
       "<table border=\"1\" class=\"dataframe\">\n",
       "  <thead>\n",
       "    <tr style=\"text-align: right;\">\n",
       "      <th></th>\n",
       "      <th>Game_Name</th>\n",
       "      <th>Month_Year</th>\n",
       "      <th>Avg_players</th>\n",
       "      <th>Peak_Players</th>\n",
       "      <th>Date</th>\n",
       "      <th>URL</th>\n",
       "    </tr>\n",
       "  </thead>\n",
       "  <tbody>\n",
       "    <tr>\n",
       "      <th>0</th>\n",
       "      <td>Counter Strike: Global Offensive</td>\n",
       "      <td>September 2021</td>\n",
       "      <td>512350.92</td>\n",
       "      <td>942519</td>\n",
       "      <td>2021-09-01</td>\n",
       "      <td>https://steamcharts.com/app/730</td>\n",
       "    </tr>\n",
       "    <tr>\n",
       "      <th>1</th>\n",
       "      <td>Counter Strike: Global Offensive</td>\n",
       "      <td>August 2021</td>\n",
       "      <td>512081.96</td>\n",
       "      <td>802544</td>\n",
       "      <td>2021-08-01</td>\n",
       "      <td>https://steamcharts.com/app/730</td>\n",
       "    </tr>\n",
       "    <tr>\n",
       "      <th>2</th>\n",
       "      <td>Counter Strike: Global Offensive</td>\n",
       "      <td>July 2021</td>\n",
       "      <td>506067.36</td>\n",
       "      <td>763523</td>\n",
       "      <td>2021-07-01</td>\n",
       "      <td>https://steamcharts.com/app/730</td>\n",
       "    </tr>\n",
       "    <tr>\n",
       "      <th>3</th>\n",
       "      <td>Counter Strike: Global Offensive</td>\n",
       "      <td>June 2021</td>\n",
       "      <td>549347.08</td>\n",
       "      <td>929940</td>\n",
       "      <td>2021-06-01</td>\n",
       "      <td>https://steamcharts.com/app/730</td>\n",
       "    </tr>\n",
       "    <tr>\n",
       "      <th>4</th>\n",
       "      <td>Counter Strike: Global Offensive</td>\n",
       "      <td>May 2021</td>\n",
       "      <td>659888.89</td>\n",
       "      <td>1087197</td>\n",
       "      <td>2021-05-01</td>\n",
       "      <td>https://steamcharts.com/app/730</td>\n",
       "    </tr>\n",
       "  </tbody>\n",
       "</table>\n",
       "</div>"
      ],
      "text/plain": [
       "                          Game_Name      Month_Year  Avg_players  \\\n",
       "0  Counter Strike: Global Offensive  September 2021    512350.92   \n",
       "1  Counter Strike: Global Offensive     August 2021    512081.96   \n",
       "2  Counter Strike: Global Offensive       July 2021    506067.36   \n",
       "3  Counter Strike: Global Offensive       June 2021    549347.08   \n",
       "4  Counter Strike: Global Offensive        May 2021    659888.89   \n",
       "\n",
       "   Peak_Players        Date                              URL  \n",
       "0        942519  2021-09-01  https://steamcharts.com/app/730  \n",
       "1        802544  2021-08-01  https://steamcharts.com/app/730  \n",
       "2        763523  2021-07-01  https://steamcharts.com/app/730  \n",
       "3        929940  2021-06-01  https://steamcharts.com/app/730  \n",
       "4       1087197  2021-05-01  https://steamcharts.com/app/730  "
      ]
     },
     "execution_count": 24,
     "metadata": {},
     "output_type": "execute_result"
    }
   ],
   "source": [
    "# Checking the new ds\n",
    "player_clean.head()"
   ]
  },
  {
   "cell_type": "code",
   "execution_count": 25,
   "id": "173da20e",
   "metadata": {},
   "outputs": [],
   "source": [
    "# Checking for mix-type values\n",
    "\n",
    "for col in player_clean.columns:\n",
    "  mix_test = (player_clean[[col]].applymap(type) != player_clean[[col]].iloc[0].apply(type)).any(axis = 1)\n",
    "  if len (player_clean[mix_test]) > 0:\n",
    "    print (col)"
   ]
  },
  {
   "cell_type": "markdown",
   "id": "4a2a9ed3",
   "metadata": {},
   "source": [
    "- no mixed-type values found"
   ]
  },
  {
   "cell_type": "code",
   "execution_count": 26,
   "id": "2692287c",
   "metadata": {},
   "outputs": [
    {
     "data": {
      "text/html": [
       "<div>\n",
       "<style scoped>\n",
       "    .dataframe tbody tr th:only-of-type {\n",
       "        vertical-align: middle;\n",
       "    }\n",
       "\n",
       "    .dataframe tbody tr th {\n",
       "        vertical-align: top;\n",
       "    }\n",
       "\n",
       "    .dataframe thead th {\n",
       "        text-align: right;\n",
       "    }\n",
       "</style>\n",
       "<table border=\"1\" class=\"dataframe\">\n",
       "  <thead>\n",
       "    <tr style=\"text-align: right;\">\n",
       "      <th></th>\n",
       "      <th>Game_Name</th>\n",
       "      <th>Month_Year</th>\n",
       "      <th>Avg_players</th>\n",
       "      <th>Peak_Players</th>\n",
       "      <th>Date</th>\n",
       "      <th>URL</th>\n",
       "    </tr>\n",
       "  </thead>\n",
       "  <tbody>\n",
       "  </tbody>\n",
       "</table>\n",
       "</div>"
      ],
      "text/plain": [
       "Empty DataFrame\n",
       "Columns: [Game_Name, Month_Year, Avg_players, Peak_Players, Date, URL]\n",
       "Index: []"
      ]
     },
     "execution_count": 26,
     "metadata": {},
     "output_type": "execute_result"
    }
   ],
   "source": [
    "# Checking for duplicates\n",
    "\n",
    "player_dups = player_clean[player_clean.duplicated()]\n",
    "player_dups.head()"
   ]
  },
  {
   "cell_type": "markdown",
   "id": "12460736",
   "metadata": {},
   "source": [
    "- No duplicated found."
   ]
  },
  {
   "cell_type": "markdown",
   "id": "4be7dd34",
   "metadata": {},
   "source": [
    "## 03. Video games developers"
   ]
  },
  {
   "cell_type": "code",
   "execution_count": 27,
   "id": "f9e1cea0",
   "metadata": {},
   "outputs": [
    {
     "data": {
      "text/html": [
       "<div>\n",
       "<style scoped>\n",
       "    .dataframe tbody tr th:only-of-type {\n",
       "        vertical-align: middle;\n",
       "    }\n",
       "\n",
       "    .dataframe tbody tr th {\n",
       "        vertical-align: top;\n",
       "    }\n",
       "\n",
       "    .dataframe thead th {\n",
       "        text-align: right;\n",
       "    }\n",
       "</style>\n",
       "<table border=\"1\" class=\"dataframe\">\n",
       "  <thead>\n",
       "    <tr style=\"text-align: right;\">\n",
       "      <th></th>\n",
       "      <th>Developer</th>\n",
       "      <th>City</th>\n",
       "      <th>Administrative_division</th>\n",
       "      <th>Country</th>\n",
       "      <th>Est.</th>\n",
       "    </tr>\n",
       "  </thead>\n",
       "  <tbody>\n",
       "    <tr>\n",
       "      <th>0</th>\n",
       "      <td>0verflow</td>\n",
       "      <td>Tokyo</td>\n",
       "      <td>NaN</td>\n",
       "      <td>Japan</td>\n",
       "      <td>1997</td>\n",
       "    </tr>\n",
       "    <tr>\n",
       "      <th>1</th>\n",
       "      <td>11 bit studios</td>\n",
       "      <td>Warsaw</td>\n",
       "      <td>Masovian Voivodeship</td>\n",
       "      <td>Poland</td>\n",
       "      <td>2010</td>\n",
       "    </tr>\n",
       "    <tr>\n",
       "      <th>2</th>\n",
       "      <td>1C Company</td>\n",
       "      <td>Moscow</td>\n",
       "      <td>NaN</td>\n",
       "      <td>Russia</td>\n",
       "      <td>1991</td>\n",
       "    </tr>\n",
       "    <tr>\n",
       "      <th>3</th>\n",
       "      <td>1-Up Studio</td>\n",
       "      <td>Tokyo</td>\n",
       "      <td>NaN</td>\n",
       "      <td>Japan</td>\n",
       "      <td>2000</td>\n",
       "    </tr>\n",
       "    <tr>\n",
       "      <th>4</th>\n",
       "      <td>2K Czech</td>\n",
       "      <td>Brno</td>\n",
       "      <td>NaN</td>\n",
       "      <td>Czech Republic</td>\n",
       "      <td>1997</td>\n",
       "    </tr>\n",
       "  </tbody>\n",
       "</table>\n",
       "</div>"
      ],
      "text/plain": [
       "        Developer    City Administrative_division         Country  Est.\n",
       "0        0verflow   Tokyo                     NaN           Japan  1997\n",
       "1  11 bit studios  Warsaw    Masovian Voivodeship          Poland  2010\n",
       "2      1C Company  Moscow                     NaN          Russia  1991\n",
       "3     1-Up Studio   Tokyo                     NaN           Japan  2000\n",
       "4        2K Czech    Brno                     NaN  Czech Republic  1997"
      ]
     },
     "execution_count": 27,
     "metadata": {},
     "output_type": "execute_result"
    }
   ],
   "source": [
    "gamedev_raw.head()"
   ]
  },
  {
   "cell_type": "code",
   "execution_count": 28,
   "id": "8ac15d6c",
   "metadata": {},
   "outputs": [
    {
     "data": {
      "text/plain": [
       "Developer                  object\n",
       "City                       object\n",
       "Administrative_division    object\n",
       "Country                    object\n",
       "Est.                       object\n",
       "dtype: object"
      ]
     },
     "execution_count": 28,
     "metadata": {},
     "output_type": "execute_result"
    }
   ],
   "source": [
    "gamedev_raw.dtypes"
   ]
  },
  {
   "cell_type": "code",
   "execution_count": 29,
   "id": "e20752f8",
   "metadata": {},
   "outputs": [
    {
     "data": {
      "text/plain": [
       "California         131\n",
       "England             87\n",
       "Washington          38\n",
       "Texas               29\n",
       "Massachusetts       19\n",
       "                  ... \n",
       "Karnataka            1\n",
       "Iowa                 1\n",
       "Wales                1\n",
       "Minnesota            1\n",
       "South Australia      1\n",
       "Name: Administrative_division, Length: 62, dtype: int64"
      ]
     },
     "execution_count": 29,
     "metadata": {},
     "output_type": "execute_result"
    }
   ],
   "source": [
    "# Invetigating the column Administrative_division\n",
    "\n",
    "dev_value_counts = gamedev_raw['Administrative_division'].value_counts()\n",
    "dev_value_counts"
   ]
  },
  {
   "cell_type": "code",
   "execution_count": 30,
   "id": "9970bcb0",
   "metadata": {},
   "outputs": [
    {
     "data": {
      "text/plain": [
       "United States     337\n",
       "Japan             158\n",
       "United Kingdom     99\n",
       "Canada             46\n",
       "Sweden             32\n",
       "France             27\n",
       "Germany            23\n",
       "Czech Republic     18\n",
       "South Korea        17\n",
       "Australia          15\n",
       "Poland             14\n",
       "China              14\n",
       "Finland            13\n",
       "Russia             12\n",
       "Netherlands        10\n",
       "Denmark             8\n",
       "Ukraine             7\n",
       "Hungary             7\n",
       "Croatia             6\n",
       "Spain               5\n",
       "Italy               5\n",
       "Bulgaria            5\n",
       "Austria             5\n",
       "Slovakia            4\n",
       "Belgium             4\n",
       "Chile               4\n",
       "Turkey              4\n",
       "Norway              4\n",
       "New Zealand         3\n",
       "Slovenia            3\n",
       "Argentina           2\n",
       "Malaysia            2\n",
       "Singapore           2\n",
       "Mexico              2\n",
       "Ireland             2\n",
       "Greece              2\n",
       "Indonesia           2\n",
       "India               2\n",
       "Iceland             2\n",
       "Malta               1\n",
       "England             1\n",
       "Cameroon            1\n",
       "Taiwan              1\n",
       "Belarus             1\n",
       "Cyprus              1\n",
       "South Africa        1\n",
       "Philippines         1\n",
       "Armenia             1\n",
       "Vietnam             1\n",
       "Serbia              1\n",
       "Romania             1\n",
       "Brazil              1\n",
       "Name: Country, dtype: int64"
      ]
     },
     "execution_count": 30,
     "metadata": {},
     "output_type": "execute_result"
    }
   ],
   "source": [
    "# Invetigating the column Country\n",
    "\n",
    "dev_value_counts = gamedev_raw['Country'].value_counts()\n",
    "dev_value_counts"
   ]
  },
  {
   "cell_type": "markdown",
   "id": "be624a08",
   "metadata": {},
   "source": [
    "#### Cleaning and checking"
   ]
  },
  {
   "cell_type": "code",
   "execution_count": 31,
   "id": "1d318298",
   "metadata": {},
   "outputs": [
    {
     "data": {
      "text/plain": [
       "Developer                    2\n",
       "City                        25\n",
       "Administrative_division    444\n",
       "Country                      7\n",
       "Est.                       211\n",
       "dtype: int64"
      ]
     },
     "execution_count": 31,
     "metadata": {},
     "output_type": "execute_result"
    }
   ],
   "source": [
    "# Checking for missing values\n",
    "\n",
    "gd_missing_values = gamedev_raw.isnull().sum()\n",
    "gd_missing_values"
   ]
  },
  {
   "cell_type": "markdown",
   "id": "30e754cc",
   "metadata": {},
   "source": [
    "- There are many missing values in the dataset."
   ]
  },
  {
   "cell_type": "code",
   "execution_count": 32,
   "id": "b57bbaa1",
   "metadata": {},
   "outputs": [],
   "source": [
    "# Deleting rows with missing values for developer\n",
    "\n",
    "gamedev_raw = gamedev_raw.dropna(subset=['Developer'])"
   ]
  },
  {
   "cell_type": "code",
   "execution_count": 33,
   "id": "75b3b699",
   "metadata": {},
   "outputs": [
    {
     "data": {
      "text/plain": [
       "0"
      ]
     },
     "execution_count": 33,
     "metadata": {},
     "output_type": "execute_result"
    }
   ],
   "source": [
    "# Checking for missing values\n",
    "\n",
    "dev_missing_values = gamedev_raw['Developer'].isnull().sum()\n",
    "dev_missing_values"
   ]
  },
  {
   "cell_type": "code",
   "execution_count": 34,
   "id": "65b31f9d",
   "metadata": {},
   "outputs": [],
   "source": [
    "# List of columns with missing values\n",
    "columns_to_replace = ['City', 'Administrative_division', 'Country', 'Est.']\n",
    "\n",
    "# Replace missing values with \"N/A\" for those columns\n",
    "gamedev_raw[columns_to_replace] = gamedev_raw[columns_to_replace].fillna('N/A')"
   ]
  },
  {
   "cell_type": "code",
   "execution_count": 35,
   "id": "858700ac",
   "metadata": {},
   "outputs": [
    {
     "data": {
      "text/plain": [
       "Developer                  0\n",
       "City                       0\n",
       "Administrative_division    0\n",
       "Country                    0\n",
       "Est.                       0\n",
       "dtype: int64"
      ]
     },
     "execution_count": 35,
     "metadata": {},
     "output_type": "execute_result"
    }
   ],
   "source": [
    "# Checking for missing values after replacement\n",
    "\n",
    "new_missing_values = gamedev_raw.isnull().sum()\n",
    "new_missing_values"
   ]
  },
  {
   "cell_type": "code",
   "execution_count": 36,
   "id": "5e31a4f6",
   "metadata": {},
   "outputs": [],
   "source": [
    "# Creating the new ds\n",
    "\n",
    "dev_clean = gamedev_raw[['Developer','Est.', 'Country', 'City', 'Administrative_division']].copy()"
   ]
  },
  {
   "cell_type": "code",
   "execution_count": 37,
   "id": "02a69247",
   "metadata": {},
   "outputs": [
    {
     "data": {
      "text/html": [
       "<div>\n",
       "<style scoped>\n",
       "    .dataframe tbody tr th:only-of-type {\n",
       "        vertical-align: middle;\n",
       "    }\n",
       "\n",
       "    .dataframe tbody tr th {\n",
       "        vertical-align: top;\n",
       "    }\n",
       "\n",
       "    .dataframe thead th {\n",
       "        text-align: right;\n",
       "    }\n",
       "</style>\n",
       "<table border=\"1\" class=\"dataframe\">\n",
       "  <thead>\n",
       "    <tr style=\"text-align: right;\">\n",
       "      <th></th>\n",
       "      <th>Developer</th>\n",
       "      <th>Est.</th>\n",
       "      <th>Country</th>\n",
       "      <th>City</th>\n",
       "      <th>Administrative_division</th>\n",
       "    </tr>\n",
       "  </thead>\n",
       "  <tbody>\n",
       "    <tr>\n",
       "      <th>0</th>\n",
       "      <td>0verflow</td>\n",
       "      <td>1997</td>\n",
       "      <td>Japan</td>\n",
       "      <td>Tokyo</td>\n",
       "      <td>N/A</td>\n",
       "    </tr>\n",
       "    <tr>\n",
       "      <th>1</th>\n",
       "      <td>11 bit studios</td>\n",
       "      <td>2010</td>\n",
       "      <td>Poland</td>\n",
       "      <td>Warsaw</td>\n",
       "      <td>Masovian Voivodeship</td>\n",
       "    </tr>\n",
       "    <tr>\n",
       "      <th>2</th>\n",
       "      <td>1C Company</td>\n",
       "      <td>1991</td>\n",
       "      <td>Russia</td>\n",
       "      <td>Moscow</td>\n",
       "      <td>N/A</td>\n",
       "    </tr>\n",
       "    <tr>\n",
       "      <th>3</th>\n",
       "      <td>1-Up Studio</td>\n",
       "      <td>2000</td>\n",
       "      <td>Japan</td>\n",
       "      <td>Tokyo</td>\n",
       "      <td>N/A</td>\n",
       "    </tr>\n",
       "    <tr>\n",
       "      <th>4</th>\n",
       "      <td>2K Czech</td>\n",
       "      <td>1997</td>\n",
       "      <td>Czech Republic</td>\n",
       "      <td>Brno</td>\n",
       "      <td>N/A</td>\n",
       "    </tr>\n",
       "  </tbody>\n",
       "</table>\n",
       "</div>"
      ],
      "text/plain": [
       "        Developer  Est.         Country    City Administrative_division\n",
       "0        0verflow  1997           Japan   Tokyo                     N/A\n",
       "1  11 bit studios  2010          Poland  Warsaw    Masovian Voivodeship\n",
       "2      1C Company  1991          Russia  Moscow                     N/A\n",
       "3     1-Up Studio  2000           Japan   Tokyo                     N/A\n",
       "4        2K Czech  1997  Czech Republic    Brno                     N/A"
      ]
     },
     "execution_count": 37,
     "metadata": {},
     "output_type": "execute_result"
    }
   ],
   "source": [
    "dev_clean.head()"
   ]
  },
  {
   "cell_type": "code",
   "execution_count": 38,
   "id": "087bc2f4",
   "metadata": {},
   "outputs": [
    {
     "name": "stdout",
     "output_type": "stream",
     "text": [
      "Est.\n"
     ]
    }
   ],
   "source": [
    "# Checking for mix-type values\n",
    "\n",
    "for col in dev_clean.columns:\n",
    "  mix_test = (dev_clean[[col]].applymap(type) != dev_clean[[col]].iloc[0].apply(type)).any(axis = 1)\n",
    "  if len (dev_clean[mix_test]) > 0:\n",
    "    print (col)"
   ]
  },
  {
   "cell_type": "code",
   "execution_count": 39,
   "id": "d7f59230",
   "metadata": {},
   "outputs": [
    {
     "data": {
      "text/plain": [
       "N/A                                                       210\n",
       "2000                                                       43\n",
       "2002                                                       41\n",
       "1999                                                       38\n",
       "1997                                                       36\n",
       "2001                                                       33\n",
       "1998                                                       32\n",
       "1994                                                       31\n",
       "2006                                                       30\n",
       "1996                                                       30\n",
       "2005                                                       29\n",
       "1995                                                       29\n",
       "2009                                                       24\n",
       "2003                                                       22\n",
       "2007                                                       21\n",
       "1993                                                       20\n",
       "1992                                                       19\n",
       "2010                                                       18\n",
       "1991                                                       17\n",
       "2008                                                       17\n",
       "2004                                                       17\n",
       "1988                                                       16\n",
       "1990                                                       14\n",
       "1986                                                       13\n",
       "1989                                                       13\n",
       "1982                                                       12\n",
       "2012                                                       11\n",
       "1987                                                       11\n",
       "1985                                                       11\n",
       "2011                                                       10\n",
       "1984                                                       10\n",
       "2014                                                        9\n",
       "1979                                                        8\n",
       "2013                                                        7\n",
       "1978                                                        5\n",
       "1980                                                        4\n",
       "2015                                                        3\n",
       "2017                                                        3\n",
       "1983                                                        3\n",
       "2018                                                        3\n",
       "2016                                                        2\n",
       "1981                                                        2\n",
       "1960                                                        2\n",
       "1974                                                        2\n",
       "1953                                                        1\n",
       "1975                                                        1\n",
       "2012 (as division of Japan Studio)                          1\n",
       "1967                                                        1\n",
       "1993 (Founded as Blank; Berlyn and Co.; later Eidetic)      1\n",
       "1955                                                        1\n",
       "1976 (as the Red Company); 2000 (as Red Entertainment)      1\n",
       "1889                                                        1\n",
       "1969                                                        1\n",
       "1973                                                        1\n",
       "1997 (as SCE Cambridge Studio); 2013                        1\n",
       "c. 1984                                                     1\n",
       "2022                                                        1\n",
       "1989 (as Johnson Voorsanger Productions)                    1\n",
       "Name: Est., dtype: int64"
      ]
     },
     "execution_count": 39,
     "metadata": {},
     "output_type": "execute_result"
    }
   ],
   "source": [
    "# Invetigating the column Est\n",
    "\n",
    "dev_est_value_counts = dev_clean['Est.'].value_counts()\n",
    "dev_est_value_counts"
   ]
  },
  {
   "cell_type": "code",
   "execution_count": 40,
   "id": "9c1d6b56",
   "metadata": {},
   "outputs": [],
   "source": [
    "# Importing module with regular expression\n",
    "\n",
    "import re"
   ]
  },
  {
   "cell_type": "code",
   "execution_count": 41,
   "id": "8a68ffdd",
   "metadata": {},
   "outputs": [],
   "source": [
    "# Specifying the column you want to extract years from\n",
    "column_to_extract = 'Est.'  # Replace 'Est.' with the actual column name\n",
    "\n",
    "# Using regular expression to extract the years and create a new column\n",
    "pattern = r'\\b(\\d{4})\\b'\n",
    "dev_clean['Year'] = dev_clean[column_to_extract].apply(lambda x: re.search(pattern, str(x)).group(1) if re.search(pattern, str(x)) else 'N/A')"
   ]
  },
  {
   "cell_type": "code",
   "execution_count": 42,
   "id": "efd9a4f8",
   "metadata": {},
   "outputs": [
    {
     "data": {
      "text/plain": [
       "N/A     210\n",
       "2000     43\n",
       "2002     41\n",
       "1999     38\n",
       "1997     37\n",
       "2001     33\n",
       "1998     32\n",
       "1994     31\n",
       "2006     30\n",
       "1996     30\n",
       "1995     29\n",
       "2005     29\n",
       "2009     24\n",
       "2003     22\n",
       "1993     21\n",
       "2007     21\n",
       "1992     19\n",
       "2010     18\n",
       "2004     17\n",
       "1991     17\n",
       "2008     17\n",
       "1988     16\n",
       "1989     14\n",
       "1990     14\n",
       "1986     13\n",
       "1982     12\n",
       "2012     12\n",
       "1984     11\n",
       "1987     11\n",
       "1985     11\n",
       "2011     10\n",
       "2014      9\n",
       "1979      8\n",
       "2013      7\n",
       "1978      5\n",
       "1980      4\n",
       "2015      3\n",
       "2017      3\n",
       "1983      3\n",
       "2018      3\n",
       "1981      2\n",
       "1960      2\n",
       "2016      2\n",
       "1974      2\n",
       "1976      1\n",
       "1953      1\n",
       "1975      1\n",
       "1973      1\n",
       "1889      1\n",
       "1969      1\n",
       "2022      1\n",
       "1955      1\n",
       "1967      1\n",
       "Name: Year, dtype: int64"
      ]
     },
     "execution_count": 42,
     "metadata": {},
     "output_type": "execute_result"
    }
   ],
   "source": [
    "# Invetigating the column Year\n",
    "\n",
    "y_value_counts = dev_clean['Year'].value_counts()\n",
    "y_value_counts"
   ]
  },
  {
   "cell_type": "code",
   "execution_count": 43,
   "id": "d4c2145c",
   "metadata": {},
   "outputs": [],
   "source": [
    "# Creating a new cleaned ds\n",
    "\n",
    "gamedev_clean = dev_clean[['Developer','Year', 'Country', 'City', 'Administrative_division']].copy()"
   ]
  },
  {
   "cell_type": "code",
   "execution_count": 44,
   "id": "1348f80b",
   "metadata": {},
   "outputs": [],
   "source": [
    "# Checking for mix-type values\n",
    "\n",
    "for col in gamedev_clean.columns:\n",
    "  mix_test = (gamedev_clean[[col]].applymap(type) != gamedev_clean[[col]].iloc[0].apply(type)).any(axis = 1)\n",
    "  if len (gamedev_clean[mix_test]) > 0:\n",
    "    print (col)"
   ]
  },
  {
   "cell_type": "markdown",
   "id": "91791748",
   "metadata": {},
   "source": [
    "- No mix-type data anymore."
   ]
  },
  {
   "cell_type": "code",
   "execution_count": 45,
   "id": "a34e6772",
   "metadata": {},
   "outputs": [
    {
     "data": {
      "text/html": [
       "<div>\n",
       "<style scoped>\n",
       "    .dataframe tbody tr th:only-of-type {\n",
       "        vertical-align: middle;\n",
       "    }\n",
       "\n",
       "    .dataframe tbody tr th {\n",
       "        vertical-align: top;\n",
       "    }\n",
       "\n",
       "    .dataframe thead th {\n",
       "        text-align: right;\n",
       "    }\n",
       "</style>\n",
       "<table border=\"1\" class=\"dataframe\">\n",
       "  <thead>\n",
       "    <tr style=\"text-align: right;\">\n",
       "      <th></th>\n",
       "      <th>Developer</th>\n",
       "      <th>Year</th>\n",
       "      <th>Country</th>\n",
       "      <th>City</th>\n",
       "      <th>Administrative_division</th>\n",
       "    </tr>\n",
       "  </thead>\n",
       "  <tbody>\n",
       "    <tr>\n",
       "      <th>0</th>\n",
       "      <td>0verflow</td>\n",
       "      <td>1997</td>\n",
       "      <td>Japan</td>\n",
       "      <td>Tokyo</td>\n",
       "      <td>N/A</td>\n",
       "    </tr>\n",
       "    <tr>\n",
       "      <th>1</th>\n",
       "      <td>11 bit studios</td>\n",
       "      <td>2010</td>\n",
       "      <td>Poland</td>\n",
       "      <td>Warsaw</td>\n",
       "      <td>Masovian Voivodeship</td>\n",
       "    </tr>\n",
       "    <tr>\n",
       "      <th>2</th>\n",
       "      <td>1C Company</td>\n",
       "      <td>1991</td>\n",
       "      <td>Russia</td>\n",
       "      <td>Moscow</td>\n",
       "      <td>N/A</td>\n",
       "    </tr>\n",
       "    <tr>\n",
       "      <th>3</th>\n",
       "      <td>1-Up Studio</td>\n",
       "      <td>2000</td>\n",
       "      <td>Japan</td>\n",
       "      <td>Tokyo</td>\n",
       "      <td>N/A</td>\n",
       "    </tr>\n",
       "    <tr>\n",
       "      <th>4</th>\n",
       "      <td>2K Czech</td>\n",
       "      <td>1997</td>\n",
       "      <td>Czech Republic</td>\n",
       "      <td>Brno</td>\n",
       "      <td>N/A</td>\n",
       "    </tr>\n",
       "  </tbody>\n",
       "</table>\n",
       "</div>"
      ],
      "text/plain": [
       "        Developer  Year         Country    City Administrative_division\n",
       "0        0verflow  1997           Japan   Tokyo                     N/A\n",
       "1  11 bit studios  2010          Poland  Warsaw    Masovian Voivodeship\n",
       "2      1C Company  1991          Russia  Moscow                     N/A\n",
       "3     1-Up Studio  2000           Japan   Tokyo                     N/A\n",
       "4        2K Czech  1997  Czech Republic    Brno                     N/A"
      ]
     },
     "execution_count": 45,
     "metadata": {},
     "output_type": "execute_result"
    }
   ],
   "source": [
    "gamedev_clean.head()"
   ]
  },
  {
   "cell_type": "code",
   "execution_count": 46,
   "id": "d4d9eee7",
   "metadata": {},
   "outputs": [
    {
     "data": {
      "text/html": [
       "<div>\n",
       "<style scoped>\n",
       "    .dataframe tbody tr th:only-of-type {\n",
       "        vertical-align: middle;\n",
       "    }\n",
       "\n",
       "    .dataframe tbody tr th {\n",
       "        vertical-align: top;\n",
       "    }\n",
       "\n",
       "    .dataframe thead th {\n",
       "        text-align: right;\n",
       "    }\n",
       "</style>\n",
       "<table border=\"1\" class=\"dataframe\">\n",
       "  <thead>\n",
       "    <tr style=\"text-align: right;\">\n",
       "      <th></th>\n",
       "      <th>Developer</th>\n",
       "      <th>Year</th>\n",
       "      <th>Country</th>\n",
       "      <th>City</th>\n",
       "      <th>Administrative_division</th>\n",
       "    </tr>\n",
       "  </thead>\n",
       "  <tbody>\n",
       "  </tbody>\n",
       "</table>\n",
       "</div>"
      ],
      "text/plain": [
       "Empty DataFrame\n",
       "Columns: [Developer, Year, Country, City, Administrative_division]\n",
       "Index: []"
      ]
     },
     "execution_count": 46,
     "metadata": {},
     "output_type": "execute_result"
    }
   ],
   "source": [
    "# Checking for duplicates\n",
    "\n",
    "dev_dups = gamedev_clean[gamedev_clean.duplicated()]\n",
    "dev_dups.head()"
   ]
  },
  {
   "cell_type": "markdown",
   "id": "a0695d19",
   "metadata": {},
   "source": [
    "- No duplicates found."
   ]
  },
  {
   "cell_type": "markdown",
   "id": "652f5aa3",
   "metadata": {},
   "source": [
    "## Exporting datasets"
   ]
  },
  {
   "cell_type": "code",
   "execution_count": 47,
   "id": "46c8e064",
   "metadata": {},
   "outputs": [],
   "source": [
    "steam_raw.to_csv(os.path.join(path, '02 Data','022 Prepared Data', 'steam_clean.csv'), header=True, index=False)"
   ]
  },
  {
   "cell_type": "code",
   "execution_count": 48,
   "id": "952f85a4",
   "metadata": {},
   "outputs": [],
   "source": [
    "player_clean.to_csv(os.path.join(path, '02 Data','022 Prepared Data', 'player_clean.csv'), header=True, index=False)"
   ]
  },
  {
   "cell_type": "code",
   "execution_count": 49,
   "id": "dd94b5d1",
   "metadata": {},
   "outputs": [],
   "source": [
    "gamedev_clean.to_excel(os.path.join(path, '02 Data','022 Prepared Data', 'gamedev_clean.xlsx'), header=True, index=False)"
   ]
  }
 ],
 "metadata": {
  "kernelspec": {
   "display_name": "Python 3 (ipykernel)",
   "language": "python",
   "name": "python3"
  },
  "language_info": {
   "codemirror_mode": {
    "name": "ipython",
    "version": 3
   },
   "file_extension": ".py",
   "mimetype": "text/x-python",
   "name": "python",
   "nbconvert_exporter": "python",
   "pygments_lexer": "ipython3",
   "version": "3.11.3"
  }
 },
 "nbformat": 4,
 "nbformat_minor": 5
}
