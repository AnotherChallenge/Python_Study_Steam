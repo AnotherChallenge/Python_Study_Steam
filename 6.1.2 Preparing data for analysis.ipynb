{
 "cells": [
  {
   "cell_type": "markdown",
   "id": "3b6c714a",
   "metadata": {},
   "source": [
    "## Preparing data for analysis (Part 2)"
   ]
  },
  {
   "cell_type": "code",
   "execution_count": 1,
   "id": "8584e90c",
   "metadata": {},
   "outputs": [],
   "source": [
    "# Importing libraries\n",
    "\n",
    "import pandas as pd\n",
    "import numpy as np\n",
    "import os\n",
    "import matplotlib.pyplot as plt\n",
    "import seaborn as sns\n",
    "import scipy"
   ]
  },
  {
   "cell_type": "code",
   "execution_count": 2,
   "id": "43780c95",
   "metadata": {},
   "outputs": [],
   "source": [
    "# Change the format of the values visualization\n",
    "\n",
    "pd.options.display.float_format = '{:.2f}'.format"
   ]
  },
  {
   "cell_type": "code",
   "execution_count": 3,
   "id": "fa4f71de",
   "metadata": {},
   "outputs": [],
   "source": [
    "# Reset the maximum number of columns to display to default (all columns)\n",
    "\n",
    "pd.set_option('display.max_columns', None)"
   ]
  },
  {
   "cell_type": "code",
   "execution_count": 4,
   "id": "98a53ae6",
   "metadata": {},
   "outputs": [],
   "source": [
    "# Defining the path to datasets\n",
    "\n",
    "path = r'C:\\Users\\efens\\cf_tasks\\2023-08 Steam Analysis'"
   ]
  },
  {
   "cell_type": "markdown",
   "id": "c6309db1",
   "metadata": {},
   "source": [
    "## 00. Importing project data"
   ]
  },
  {
   "cell_type": "code",
   "execution_count": 5,
   "id": "4e29d94a",
   "metadata": {},
   "outputs": [],
   "source": [
    "# Importing project data \"merged_steam\"\n",
    "\n",
    "merged_steam = pd.read_csv(os.path.join(path, '02 Data', '022 Prepared Data', 'merged_steam.csv'))"
   ]
  },
  {
   "cell_type": "code",
   "execution_count": 6,
   "id": "61916e12",
   "metadata": {},
   "outputs": [],
   "source": [
    "# Importing project data \"game developer\"\n",
    "\n",
    "gamedev_clean = pd.read_excel(os.path.join(path, '02 Data', '022 Prepared Data', 'gamedev_clean.xlsx'))"
   ]
  },
  {
   "cell_type": "code",
   "execution_count": 7,
   "id": "fa0cbe61",
   "metadata": {},
   "outputs": [],
   "source": [
    "# Importing project data \"player_clean\"\n",
    "\n",
    "player_clean = pd.read_csv(os.path.join(path, '02 Data', '022 Prepared Data', 'player_clean.csv'))"
   ]
  },
  {
   "cell_type": "markdown",
   "id": "a09ea2da",
   "metadata": {},
   "source": [
    "## 02. Preparing player data for analysis. "
   ]
  },
  {
   "cell_type": "markdown",
   "id": "3ea11840",
   "metadata": {},
   "source": [
    "#### Exploring dataset"
   ]
  },
  {
   "cell_type": "code",
   "execution_count": 8,
   "id": "66867530",
   "metadata": {},
   "outputs": [
    {
     "data": {
      "text/html": [
       "<div>\n",
       "<style scoped>\n",
       "    .dataframe tbody tr th:only-of-type {\n",
       "        vertical-align: middle;\n",
       "    }\n",
       "\n",
       "    .dataframe tbody tr th {\n",
       "        vertical-align: top;\n",
       "    }\n",
       "\n",
       "    .dataframe thead th {\n",
       "        text-align: right;\n",
       "    }\n",
       "</style>\n",
       "<table border=\"1\" class=\"dataframe\">\n",
       "  <thead>\n",
       "    <tr style=\"text-align: right;\">\n",
       "      <th></th>\n",
       "      <th>Game_Name</th>\n",
       "      <th>Month_Year</th>\n",
       "      <th>Avg_players</th>\n",
       "      <th>Peak_Players</th>\n",
       "      <th>Date</th>\n",
       "      <th>URL</th>\n",
       "    </tr>\n",
       "  </thead>\n",
       "  <tbody>\n",
       "    <tr>\n",
       "      <th>0</th>\n",
       "      <td>Counter Strike: Global Offensive</td>\n",
       "      <td>September 2021</td>\n",
       "      <td>512350.92</td>\n",
       "      <td>942519</td>\n",
       "      <td>2021-09-01</td>\n",
       "      <td>https://steamcharts.com/app/730</td>\n",
       "    </tr>\n",
       "    <tr>\n",
       "      <th>1</th>\n",
       "      <td>Counter Strike: Global Offensive</td>\n",
       "      <td>August 2021</td>\n",
       "      <td>512081.96</td>\n",
       "      <td>802544</td>\n",
       "      <td>2021-08-01</td>\n",
       "      <td>https://steamcharts.com/app/730</td>\n",
       "    </tr>\n",
       "    <tr>\n",
       "      <th>2</th>\n",
       "      <td>Counter Strike: Global Offensive</td>\n",
       "      <td>July 2021</td>\n",
       "      <td>506067.36</td>\n",
       "      <td>763523</td>\n",
       "      <td>2021-07-01</td>\n",
       "      <td>https://steamcharts.com/app/730</td>\n",
       "    </tr>\n",
       "    <tr>\n",
       "      <th>3</th>\n",
       "      <td>Counter Strike: Global Offensive</td>\n",
       "      <td>June 2021</td>\n",
       "      <td>549347.08</td>\n",
       "      <td>929940</td>\n",
       "      <td>2021-06-01</td>\n",
       "      <td>https://steamcharts.com/app/730</td>\n",
       "    </tr>\n",
       "    <tr>\n",
       "      <th>4</th>\n",
       "      <td>Counter Strike: Global Offensive</td>\n",
       "      <td>May 2021</td>\n",
       "      <td>659888.89</td>\n",
       "      <td>1087197</td>\n",
       "      <td>2021-05-01</td>\n",
       "      <td>https://steamcharts.com/app/730</td>\n",
       "    </tr>\n",
       "  </tbody>\n",
       "</table>\n",
       "</div>"
      ],
      "text/plain": [
       "                          Game_Name      Month_Year  Avg_players  \\\n",
       "0  Counter Strike: Global Offensive  September 2021    512350.92   \n",
       "1  Counter Strike: Global Offensive     August 2021    512081.96   \n",
       "2  Counter Strike: Global Offensive       July 2021    506067.36   \n",
       "3  Counter Strike: Global Offensive       June 2021    549347.08   \n",
       "4  Counter Strike: Global Offensive        May 2021    659888.89   \n",
       "\n",
       "   Peak_Players        Date                              URL  \n",
       "0        942519  2021-09-01  https://steamcharts.com/app/730  \n",
       "1        802544  2021-08-01  https://steamcharts.com/app/730  \n",
       "2        763523  2021-07-01  https://steamcharts.com/app/730  \n",
       "3        929940  2021-06-01  https://steamcharts.com/app/730  \n",
       "4       1087197  2021-05-01  https://steamcharts.com/app/730  "
      ]
     },
     "execution_count": 8,
     "metadata": {},
     "output_type": "execute_result"
    }
   ],
   "source": [
    "player_clean.head()"
   ]
  },
  {
   "cell_type": "code",
   "execution_count": 9,
   "id": "442cd40a",
   "metadata": {},
   "outputs": [
    {
     "name": "stdout",
     "output_type": "stream",
     "text": [
      "{'DARK SOULS III', 'Divinity: Original Sin 2', 'PUBG: Battlegrounds', 'Valheim', 'War Thunder', \"Don't Starve Together\", 'Slay the Spire', 'NARAKA: BLADEPOINT', 'Wallpaper Engine', 'EA SPORTS FIFA 21', 'NBA 2k21', 'Dead by Daylight', 'Eternal Return ', 'Tales of Arise', 'Bless Unleashed ', 'Yu-Gi-Oh! Duel Links', 'Stardew Valley', 'ARK: Survival Evolved', '雀魂麻将(MahjongSoul)', 'Age of Empires II: Definitive Edition', 'Dyson Sphere Program', 'PAYDAY 2', 'RimWorld', 'Phasmophobia', 'Terraria', 'The Elder Scrolls V: Skyrim Special Edition', 'The Elder Scrolls Online', \"Sid Meier's Civilization VI\", 'Path of Exile', 'Medieval Dynasty', 'Crusader Kings III', 'Euro Truck Simulator 2', 'The Sims 4', 'Rocket League', 'Hunt: Showdown', 'Stellaris', 'Need foor Speed Heat', 'Brawlhalla', 'Factorio', 'SCUM', 'Football Manager 2020', 'The Witcher 3: Wild Hunt', 'The Binding of Isaac: Rebirth', 'Arma 3', 'Cyberpunk 2077', 'Sea of Thieves', 'Left 4 Dead 2', 'Rust', 'Battlefield 1', 'Fallout 4', 'Cities: Skylines', 'Shadowverse', 'MIR4', 'Mount & Blade II: Bannerlord ', 'Football Manager 2021 ', 'FINAL FANTASY XIV Online', 'Dota 2', 'Grand Theft Auto V', 'Hearts of Iron IV', '7 Days to Die', 'Farming Simulator 19', 'Spacewar', 'Total War: THREE KINGDOMS', 'World of Warships', 'Europa Universalis IV', 'tModLoader', \"No Man's Sky\", 'Pathfinder: Wrath of Righteous', 'Soundpad', 'Counter Strike: Global Offensive', 'Counter-Strike', \"Conqueror's Blade\", 'Geometry Dash', 'Unturned', 'Oxygen Not Included', 'Bloons TD 6', 'Fall Guys: Ultimate Knockout', 'Dying Light ', 'Destiny 2', 'Warframe', 'VRChat', 'NBA 2k22', \"Sid Meier's Civilization V\", 'Apex Legends', 'Dayz', 'Black Desert', 'Total War: WARHAMMER II', 'Satisfactory', 'eFootball PES 2021 SEASON UPDATE', 'Team Fortress 2', \"Tom Clancy's Rainbow Six Seige\", 'Battlefield V', \"Garry's Mod\", 'Cookie Clicker', 'Red Dead Redemption 2', 'Monster Hunter: World', 'World of Tanks Blitz', 'Forza Horizion 4'}\n"
     ]
    }
   ],
   "source": [
    "# Concatenating all games into a single string\n",
    "all_games = ';'.join(player_clean['Game_Name'])\n",
    "\n",
    "# Splitting the concatenated string and extracting unique values\n",
    "unique_games = set(all_games.split(';'))\n",
    "\n",
    "print(unique_games)"
   ]
  },
  {
   "cell_type": "code",
   "execution_count": 10,
   "id": "a6125c6e",
   "metadata": {},
   "outputs": [
    {
     "data": {
      "text/plain": [
       "98"
      ]
     },
     "execution_count": 10,
     "metadata": {},
     "output_type": "execute_result"
    }
   ],
   "source": [
    "count = len(unique_games)\n",
    "count"
   ]
  },
  {
   "cell_type": "markdown",
   "id": "27dbaf88",
   "metadata": {},
   "source": [
    "## 03. Data merge"
   ]
  },
  {
   "cell_type": "markdown",
   "id": "9f1b4546",
   "metadata": {},
   "source": [
    "#### Goal: Get more information for eah game in the list"
   ]
  },
  {
   "cell_type": "code",
   "execution_count": 11,
   "id": "607b8469",
   "metadata": {},
   "outputs": [
    {
     "data": {
      "text/html": [
       "<div>\n",
       "<style scoped>\n",
       "    .dataframe tbody tr th:only-of-type {\n",
       "        vertical-align: middle;\n",
       "    }\n",
       "\n",
       "    .dataframe tbody tr th {\n",
       "        vertical-align: top;\n",
       "    }\n",
       "\n",
       "    .dataframe thead th {\n",
       "        text-align: right;\n",
       "    }\n",
       "</style>\n",
       "<table border=\"1\" class=\"dataframe\">\n",
       "  <thead>\n",
       "    <tr style=\"text-align: right;\">\n",
       "      <th></th>\n",
       "      <th>appid</th>\n",
       "      <th>name</th>\n",
       "      <th>release_date</th>\n",
       "      <th>english</th>\n",
       "      <th>developer</th>\n",
       "      <th>publisher</th>\n",
       "      <th>platforms</th>\n",
       "      <th>required_age</th>\n",
       "      <th>categories</th>\n",
       "      <th>genres</th>\n",
       "      <th>steamspy_tags</th>\n",
       "      <th>achievements</th>\n",
       "      <th>positive_ratings</th>\n",
       "      <th>negative_ratings</th>\n",
       "      <th>average_playtime</th>\n",
       "      <th>median_playtime</th>\n",
       "      <th>owners</th>\n",
       "      <th>price</th>\n",
       "      <th>price_eur</th>\n",
       "      <th>owners_min</th>\n",
       "      <th>owners_max</th>\n",
       "      <th>owners_avg</th>\n",
       "      <th>gameplay_type</th>\n",
       "      <th>dev_year</th>\n",
       "      <th>country</th>\n",
       "      <th>city</th>\n",
       "      <th>administrative_division</th>\n",
       "    </tr>\n",
       "  </thead>\n",
       "  <tbody>\n",
       "    <tr>\n",
       "      <th>0</th>\n",
       "      <td>10</td>\n",
       "      <td>Counter-Strike</td>\n",
       "      <td>2000-11-01</td>\n",
       "      <td>1</td>\n",
       "      <td>Valve</td>\n",
       "      <td>Valve</td>\n",
       "      <td>windows;mac;linux</td>\n",
       "      <td>0</td>\n",
       "      <td>Multi-player;Online Multi-Player;Local Multi-P...</td>\n",
       "      <td>Action</td>\n",
       "      <td>Action;FPS;Multiplayer</td>\n",
       "      <td>0</td>\n",
       "      <td>124534</td>\n",
       "      <td>3339</td>\n",
       "      <td>17612</td>\n",
       "      <td>317</td>\n",
       "      <td>10000000-20000000</td>\n",
       "      <td>7.19</td>\n",
       "      <td>8.34</td>\n",
       "      <td>10000000</td>\n",
       "      <td>20000000</td>\n",
       "      <td>15000000.00</td>\n",
       "      <td>Multi-Player</td>\n",
       "      <td>1996.00</td>\n",
       "      <td>United States</td>\n",
       "      <td>Kirkland</td>\n",
       "      <td>Washington</td>\n",
       "    </tr>\n",
       "    <tr>\n",
       "      <th>1</th>\n",
       "      <td>20</td>\n",
       "      <td>Team Fortress Classic</td>\n",
       "      <td>1999-04-01</td>\n",
       "      <td>1</td>\n",
       "      <td>Valve</td>\n",
       "      <td>Valve</td>\n",
       "      <td>windows;mac;linux</td>\n",
       "      <td>0</td>\n",
       "      <td>Multi-player;Online Multi-Player;Local Multi-P...</td>\n",
       "      <td>Action</td>\n",
       "      <td>Action;FPS;Multiplayer</td>\n",
       "      <td>0</td>\n",
       "      <td>3318</td>\n",
       "      <td>633</td>\n",
       "      <td>277</td>\n",
       "      <td>62</td>\n",
       "      <td>5000000-10000000</td>\n",
       "      <td>3.99</td>\n",
       "      <td>4.63</td>\n",
       "      <td>5000000</td>\n",
       "      <td>10000000</td>\n",
       "      <td>7500000.00</td>\n",
       "      <td>Multi-Player</td>\n",
       "      <td>1996.00</td>\n",
       "      <td>United States</td>\n",
       "      <td>Kirkland</td>\n",
       "      <td>Washington</td>\n",
       "    </tr>\n",
       "    <tr>\n",
       "      <th>2</th>\n",
       "      <td>30</td>\n",
       "      <td>Day of Defeat</td>\n",
       "      <td>2003-05-01</td>\n",
       "      <td>1</td>\n",
       "      <td>Valve</td>\n",
       "      <td>Valve</td>\n",
       "      <td>windows;mac;linux</td>\n",
       "      <td>0</td>\n",
       "      <td>Multi-player;Valve Anti-Cheat enabled</td>\n",
       "      <td>Action</td>\n",
       "      <td>FPS;World War II;Multiplayer</td>\n",
       "      <td>0</td>\n",
       "      <td>3416</td>\n",
       "      <td>398</td>\n",
       "      <td>187</td>\n",
       "      <td>34</td>\n",
       "      <td>5000000-10000000</td>\n",
       "      <td>3.99</td>\n",
       "      <td>4.63</td>\n",
       "      <td>5000000</td>\n",
       "      <td>10000000</td>\n",
       "      <td>7500000.00</td>\n",
       "      <td>Multi-Player</td>\n",
       "      <td>1996.00</td>\n",
       "      <td>United States</td>\n",
       "      <td>Kirkland</td>\n",
       "      <td>Washington</td>\n",
       "    </tr>\n",
       "  </tbody>\n",
       "</table>\n",
       "</div>"
      ],
      "text/plain": [
       "   appid                   name release_date  english developer publisher  \\\n",
       "0     10         Counter-Strike   2000-11-01        1     Valve     Valve   \n",
       "1     20  Team Fortress Classic   1999-04-01        1     Valve     Valve   \n",
       "2     30          Day of Defeat   2003-05-01        1     Valve     Valve   \n",
       "\n",
       "           platforms  required_age  \\\n",
       "0  windows;mac;linux             0   \n",
       "1  windows;mac;linux             0   \n",
       "2  windows;mac;linux             0   \n",
       "\n",
       "                                          categories  genres  \\\n",
       "0  Multi-player;Online Multi-Player;Local Multi-P...  Action   \n",
       "1  Multi-player;Online Multi-Player;Local Multi-P...  Action   \n",
       "2              Multi-player;Valve Anti-Cheat enabled  Action   \n",
       "\n",
       "                  steamspy_tags  achievements  positive_ratings  \\\n",
       "0        Action;FPS;Multiplayer             0            124534   \n",
       "1        Action;FPS;Multiplayer             0              3318   \n",
       "2  FPS;World War II;Multiplayer             0              3416   \n",
       "\n",
       "   negative_ratings  average_playtime  median_playtime             owners  \\\n",
       "0              3339             17612              317  10000000-20000000   \n",
       "1               633               277               62   5000000-10000000   \n",
       "2               398               187               34   5000000-10000000   \n",
       "\n",
       "   price  price_eur  owners_min  owners_max  owners_avg gameplay_type  \\\n",
       "0   7.19       8.34    10000000    20000000 15000000.00  Multi-Player   \n",
       "1   3.99       4.63     5000000    10000000  7500000.00  Multi-Player   \n",
       "2   3.99       4.63     5000000    10000000  7500000.00  Multi-Player   \n",
       "\n",
       "   dev_year        country      city administrative_division  \n",
       "0   1996.00  United States  Kirkland              Washington  \n",
       "1   1996.00  United States  Kirkland              Washington  \n",
       "2   1996.00  United States  Kirkland              Washington  "
      ]
     },
     "execution_count": 11,
     "metadata": {},
     "output_type": "execute_result"
    }
   ],
   "source": [
    "merged_steam.head(3)"
   ]
  },
  {
   "cell_type": "code",
   "execution_count": 12,
   "id": "f57f15ba",
   "metadata": {},
   "outputs": [
    {
     "data": {
      "text/html": [
       "<div>\n",
       "<style scoped>\n",
       "    .dataframe tbody tr th:only-of-type {\n",
       "        vertical-align: middle;\n",
       "    }\n",
       "\n",
       "    .dataframe tbody tr th {\n",
       "        vertical-align: top;\n",
       "    }\n",
       "\n",
       "    .dataframe thead th {\n",
       "        text-align: right;\n",
       "    }\n",
       "</style>\n",
       "<table border=\"1\" class=\"dataframe\">\n",
       "  <thead>\n",
       "    <tr style=\"text-align: right;\">\n",
       "      <th></th>\n",
       "      <th>appid</th>\n",
       "      <th>name</th>\n",
       "      <th>release_date</th>\n",
       "      <th>english</th>\n",
       "      <th>developer</th>\n",
       "      <th>publisher</th>\n",
       "      <th>platforms</th>\n",
       "      <th>required_age</th>\n",
       "      <th>categories</th>\n",
       "      <th>genres</th>\n",
       "      <th>steamspy_tags</th>\n",
       "      <th>achievements</th>\n",
       "      <th>positive_ratings</th>\n",
       "      <th>negative_ratings</th>\n",
       "      <th>average_playtime</th>\n",
       "      <th>median_playtime</th>\n",
       "      <th>owners</th>\n",
       "      <th>price</th>\n",
       "      <th>price_eur</th>\n",
       "      <th>owners_min</th>\n",
       "      <th>owners_max</th>\n",
       "      <th>owners_avg</th>\n",
       "      <th>gameplay_type</th>\n",
       "      <th>dev_year</th>\n",
       "      <th>country</th>\n",
       "      <th>city</th>\n",
       "      <th>administrative_division</th>\n",
       "    </tr>\n",
       "  </thead>\n",
       "  <tbody>\n",
       "    <tr>\n",
       "      <th>0</th>\n",
       "      <td>10</td>\n",
       "      <td>Counter-Strike</td>\n",
       "      <td>2000-11-01</td>\n",
       "      <td>1</td>\n",
       "      <td>Valve</td>\n",
       "      <td>Valve</td>\n",
       "      <td>windows;mac;linux</td>\n",
       "      <td>0</td>\n",
       "      <td>Multi-player;Online Multi-Player;Local Multi-P...</td>\n",
       "      <td>Action</td>\n",
       "      <td>Action;FPS;Multiplayer</td>\n",
       "      <td>0</td>\n",
       "      <td>124534</td>\n",
       "      <td>3339</td>\n",
       "      <td>17612</td>\n",
       "      <td>317</td>\n",
       "      <td>10000000-20000000</td>\n",
       "      <td>7.19</td>\n",
       "      <td>8.34</td>\n",
       "      <td>10000000</td>\n",
       "      <td>20000000</td>\n",
       "      <td>15000000.00</td>\n",
       "      <td>Multi-Player</td>\n",
       "      <td>1996</td>\n",
       "      <td>United States</td>\n",
       "      <td>Kirkland</td>\n",
       "      <td>Washington</td>\n",
       "    </tr>\n",
       "    <tr>\n",
       "      <th>1</th>\n",
       "      <td>20</td>\n",
       "      <td>Team Fortress Classic</td>\n",
       "      <td>1999-04-01</td>\n",
       "      <td>1</td>\n",
       "      <td>Valve</td>\n",
       "      <td>Valve</td>\n",
       "      <td>windows;mac;linux</td>\n",
       "      <td>0</td>\n",
       "      <td>Multi-player;Online Multi-Player;Local Multi-P...</td>\n",
       "      <td>Action</td>\n",
       "      <td>Action;FPS;Multiplayer</td>\n",
       "      <td>0</td>\n",
       "      <td>3318</td>\n",
       "      <td>633</td>\n",
       "      <td>277</td>\n",
       "      <td>62</td>\n",
       "      <td>5000000-10000000</td>\n",
       "      <td>3.99</td>\n",
       "      <td>4.63</td>\n",
       "      <td>5000000</td>\n",
       "      <td>10000000</td>\n",
       "      <td>7500000.00</td>\n",
       "      <td>Multi-Player</td>\n",
       "      <td>1996</td>\n",
       "      <td>United States</td>\n",
       "      <td>Kirkland</td>\n",
       "      <td>Washington</td>\n",
       "    </tr>\n",
       "    <tr>\n",
       "      <th>2</th>\n",
       "      <td>30</td>\n",
       "      <td>Day of Defeat</td>\n",
       "      <td>2003-05-01</td>\n",
       "      <td>1</td>\n",
       "      <td>Valve</td>\n",
       "      <td>Valve</td>\n",
       "      <td>windows;mac;linux</td>\n",
       "      <td>0</td>\n",
       "      <td>Multi-player;Valve Anti-Cheat enabled</td>\n",
       "      <td>Action</td>\n",
       "      <td>FPS;World War II;Multiplayer</td>\n",
       "      <td>0</td>\n",
       "      <td>3416</td>\n",
       "      <td>398</td>\n",
       "      <td>187</td>\n",
       "      <td>34</td>\n",
       "      <td>5000000-10000000</td>\n",
       "      <td>3.99</td>\n",
       "      <td>4.63</td>\n",
       "      <td>5000000</td>\n",
       "      <td>10000000</td>\n",
       "      <td>7500000.00</td>\n",
       "      <td>Multi-Player</td>\n",
       "      <td>1996</td>\n",
       "      <td>United States</td>\n",
       "      <td>Kirkland</td>\n",
       "      <td>Washington</td>\n",
       "    </tr>\n",
       "  </tbody>\n",
       "</table>\n",
       "</div>"
      ],
      "text/plain": [
       "   appid                   name release_date  english developer publisher  \\\n",
       "0     10         Counter-Strike   2000-11-01        1     Valve     Valve   \n",
       "1     20  Team Fortress Classic   1999-04-01        1     Valve     Valve   \n",
       "2     30          Day of Defeat   2003-05-01        1     Valve     Valve   \n",
       "\n",
       "           platforms  required_age  \\\n",
       "0  windows;mac;linux             0   \n",
       "1  windows;mac;linux             0   \n",
       "2  windows;mac;linux             0   \n",
       "\n",
       "                                          categories  genres  \\\n",
       "0  Multi-player;Online Multi-Player;Local Multi-P...  Action   \n",
       "1  Multi-player;Online Multi-Player;Local Multi-P...  Action   \n",
       "2              Multi-player;Valve Anti-Cheat enabled  Action   \n",
       "\n",
       "                  steamspy_tags  achievements  positive_ratings  \\\n",
       "0        Action;FPS;Multiplayer             0            124534   \n",
       "1        Action;FPS;Multiplayer             0              3318   \n",
       "2  FPS;World War II;Multiplayer             0              3416   \n",
       "\n",
       "   negative_ratings  average_playtime  median_playtime             owners  \\\n",
       "0              3339             17612              317  10000000-20000000   \n",
       "1               633               277               62   5000000-10000000   \n",
       "2               398               187               34   5000000-10000000   \n",
       "\n",
       "   price  price_eur  owners_min  owners_max  owners_avg gameplay_type  \\\n",
       "0   7.19       8.34    10000000    20000000 15000000.00  Multi-Player   \n",
       "1   3.99       4.63     5000000    10000000  7500000.00  Multi-Player   \n",
       "2   3.99       4.63     5000000    10000000  7500000.00  Multi-Player   \n",
       "\n",
       "  dev_year        country      city administrative_division  \n",
       "0     1996  United States  Kirkland              Washington  \n",
       "1     1996  United States  Kirkland              Washington  \n",
       "2     1996  United States  Kirkland              Washington  "
      ]
     },
     "execution_count": 12,
     "metadata": {},
     "output_type": "execute_result"
    }
   ],
   "source": [
    "# Converting Year to a proper datetime\n",
    "\n",
    "merged_steam['dev_year'] = pd.to_datetime(merged_steam['dev_year'], format='%Y').dt.strftime('%Y')\n",
    "\n",
    "merged_steam.head(3)"
   ]
  },
  {
   "cell_type": "code",
   "execution_count": 13,
   "id": "7c9fb937",
   "metadata": {},
   "outputs": [
    {
     "data": {
      "text/plain": [
       "windows              18488\n",
       "windows;mac;linux     4666\n",
       "windows;mac           3463\n",
       "windows;linux          611\n",
       "mac                      3\n",
       "mac;linux                1\n",
       "linux                    1\n",
       "Name: platforms, dtype: int64"
      ]
     },
     "execution_count": 13,
     "metadata": {},
     "output_type": "execute_result"
    }
   ],
   "source": [
    "merged_steam['platforms'].value_counts()"
   ]
  },
  {
   "cell_type": "markdown",
   "id": "04c563fd",
   "metadata": {},
   "source": [
    "- As they are all PCs (personal computers), there is no point in investigating platforms further."
   ]
  },
  {
   "cell_type": "markdown",
   "id": "8b6bd3ef",
   "metadata": {},
   "source": [
    "#### Additional checking of the dataset"
   ]
  },
  {
   "cell_type": "code",
   "execution_count": 14,
   "id": "005de4fe",
   "metadata": {},
   "outputs": [
    {
     "data": {
      "text/plain": [
       "appid                          0\n",
       "name                           0\n",
       "release_date                   0\n",
       "english                        0\n",
       "developer                      0\n",
       "publisher                      0\n",
       "platforms                      0\n",
       "required_age                   0\n",
       "categories                     0\n",
       "genres                         0\n",
       "steamspy_tags                  0\n",
       "achievements                   0\n",
       "positive_ratings               0\n",
       "negative_ratings               0\n",
       "average_playtime               0\n",
       "median_playtime                0\n",
       "owners                         0\n",
       "price                          0\n",
       "price_eur                      0\n",
       "owners_min                     0\n",
       "owners_max                     0\n",
       "owners_avg                     0\n",
       "gameplay_type                  0\n",
       "dev_year                   26100\n",
       "country                    25726\n",
       "city                       25756\n",
       "administrative_division    26423\n",
       "dtype: int64"
      ]
     },
     "execution_count": 14,
     "metadata": {},
     "output_type": "execute_result"
    }
   ],
   "source": [
    "# Checking the missing values\n",
    "\n",
    "missing_values = merged_steam.isnull().sum()\n",
    "missing_values"
   ]
  },
  {
   "cell_type": "code",
   "execution_count": 15,
   "id": "688993ec",
   "metadata": {},
   "outputs": [],
   "source": [
    "# Filling missing values in the merged DataFrame with 'N/A'\n",
    "\n",
    "merged_steam.fillna('N/A', inplace=True)"
   ]
  },
  {
   "cell_type": "code",
   "execution_count": 16,
   "id": "13b86146",
   "metadata": {},
   "outputs": [
    {
     "data": {
      "text/plain": [
       "appid                      0\n",
       "name                       0\n",
       "release_date               0\n",
       "english                    0\n",
       "developer                  0\n",
       "publisher                  0\n",
       "platforms                  0\n",
       "required_age               0\n",
       "categories                 0\n",
       "genres                     0\n",
       "steamspy_tags              0\n",
       "achievements               0\n",
       "positive_ratings           0\n",
       "negative_ratings           0\n",
       "average_playtime           0\n",
       "median_playtime            0\n",
       "owners                     0\n",
       "price                      0\n",
       "price_eur                  0\n",
       "owners_min                 0\n",
       "owners_max                 0\n",
       "owners_avg                 0\n",
       "gameplay_type              0\n",
       "dev_year                   0\n",
       "country                    0\n",
       "city                       0\n",
       "administrative_division    0\n",
       "dtype: int64"
      ]
     },
     "execution_count": 16,
     "metadata": {},
     "output_type": "execute_result"
    }
   ],
   "source": [
    "# Checking the missing values\n",
    "\n",
    "missing_values = merged_steam.isnull().sum()\n",
    "missing_values"
   ]
  },
  {
   "cell_type": "code",
   "execution_count": 18,
   "id": "b2a4a1ae",
   "metadata": {},
   "outputs": [
    {
     "data": {
      "text/plain": [
       "appid                        int64\n",
       "name                        object\n",
       "release_date                object\n",
       "english                      int64\n",
       "developer                   object\n",
       "publisher                   object\n",
       "platforms                   object\n",
       "required_age                 int64\n",
       "categories                  object\n",
       "genres                      object\n",
       "steamspy_tags               object\n",
       "achievements                 int64\n",
       "positive_ratings             int64\n",
       "negative_ratings             int64\n",
       "average_playtime             int64\n",
       "median_playtime              int64\n",
       "owners                      object\n",
       "price                      float64\n",
       "price_eur                  float64\n",
       "owners_min                   int64\n",
       "owners_max                   int64\n",
       "owners_avg                 float64\n",
       "gameplay_type               object\n",
       "dev_year                    object\n",
       "country                     object\n",
       "city                        object\n",
       "administrative_division     object\n",
       "dtype: object"
      ]
     },
     "execution_count": 18,
     "metadata": {},
     "output_type": "execute_result"
    }
   ],
   "source": [
    "merged_steam.dtypes"
   ]
  },
  {
   "cell_type": "markdown",
   "id": "636a9636",
   "metadata": {},
   "source": [
    "#### Preparing key column"
   ]
  },
  {
   "cell_type": "code",
   "execution_count": 19,
   "id": "8d242a2e",
   "metadata": {},
   "outputs": [],
   "source": [
    "# Changing column name\n",
    "\n",
    "player_clean.rename(columns={'Game_Name': 'name'}, inplace=True)"
   ]
  },
  {
   "cell_type": "code",
   "execution_count": 20,
   "id": "b058d326",
   "metadata": {},
   "outputs": [
    {
     "data": {
      "text/html": [
       "<div>\n",
       "<style scoped>\n",
       "    .dataframe tbody tr th:only-of-type {\n",
       "        vertical-align: middle;\n",
       "    }\n",
       "\n",
       "    .dataframe tbody tr th {\n",
       "        vertical-align: top;\n",
       "    }\n",
       "\n",
       "    .dataframe thead th {\n",
       "        text-align: right;\n",
       "    }\n",
       "</style>\n",
       "<table border=\"1\" class=\"dataframe\">\n",
       "  <thead>\n",
       "    <tr style=\"text-align: right;\">\n",
       "      <th></th>\n",
       "      <th>name</th>\n",
       "      <th>Month_Year</th>\n",
       "      <th>Avg_players</th>\n",
       "      <th>Peak_Players</th>\n",
       "      <th>Date</th>\n",
       "      <th>URL</th>\n",
       "    </tr>\n",
       "  </thead>\n",
       "  <tbody>\n",
       "    <tr>\n",
       "      <th>0</th>\n",
       "      <td>Counter Strike: Global Offensive</td>\n",
       "      <td>September 2021</td>\n",
       "      <td>512350.92</td>\n",
       "      <td>942519</td>\n",
       "      <td>2021-09-01</td>\n",
       "      <td>https://steamcharts.com/app/730</td>\n",
       "    </tr>\n",
       "  </tbody>\n",
       "</table>\n",
       "</div>"
      ],
      "text/plain": [
       "                               name      Month_Year  Avg_players  \\\n",
       "0  Counter Strike: Global Offensive  September 2021    512350.92   \n",
       "\n",
       "   Peak_Players        Date                              URL  \n",
       "0        942519  2021-09-01  https://steamcharts.com/app/730  "
      ]
     },
     "execution_count": 20,
     "metadata": {},
     "output_type": "execute_result"
    }
   ],
   "source": [
    "player_clean.head(1)"
   ]
  },
  {
   "cell_type": "markdown",
   "id": "a14ecf4b",
   "metadata": {},
   "source": [
    "#### Merging datasets"
   ]
  },
  {
   "cell_type": "code",
   "execution_count": 22,
   "id": "48a1a7d1",
   "metadata": {},
   "outputs": [],
   "source": [
    "# List of columns to merge\n",
    "columns_to_merge = [\n",
    "    'name',\n",
    "    'release_date',\n",
    "    'developer',\n",
    "    'country',\n",
    "    'genres',\n",
    "    'average_playtime',\n",
    "    'owners_avg',\n",
    "    'gameplay_type'\n",
    "]"
   ]
  },
  {
   "cell_type": "code",
   "execution_count": 23,
   "id": "e270c17b",
   "metadata": {},
   "outputs": [],
   "source": [
    "# Merging the specified columns based on 'game_name'\n",
    "\n",
    "merged_player = player_clean.merge(merged_steam[columns_to_merge], on='name', how='left')"
   ]
  },
  {
   "cell_type": "code",
   "execution_count": 24,
   "id": "007ece6b",
   "metadata": {},
   "outputs": [
    {
     "data": {
      "text/html": [
       "<div>\n",
       "<style scoped>\n",
       "    .dataframe tbody tr th:only-of-type {\n",
       "        vertical-align: middle;\n",
       "    }\n",
       "\n",
       "    .dataframe tbody tr th {\n",
       "        vertical-align: top;\n",
       "    }\n",
       "\n",
       "    .dataframe thead th {\n",
       "        text-align: right;\n",
       "    }\n",
       "</style>\n",
       "<table border=\"1\" class=\"dataframe\">\n",
       "  <thead>\n",
       "    <tr style=\"text-align: right;\">\n",
       "      <th></th>\n",
       "      <th>name</th>\n",
       "      <th>Month_Year</th>\n",
       "      <th>Avg_players</th>\n",
       "      <th>Peak_Players</th>\n",
       "      <th>Date</th>\n",
       "      <th>URL</th>\n",
       "      <th>release_date</th>\n",
       "      <th>developer</th>\n",
       "      <th>country</th>\n",
       "      <th>genres</th>\n",
       "      <th>average_playtime</th>\n",
       "      <th>owners_avg</th>\n",
       "      <th>gameplay_type</th>\n",
       "    </tr>\n",
       "  </thead>\n",
       "  <tbody>\n",
       "    <tr>\n",
       "      <th>0</th>\n",
       "      <td>Counter Strike: Global Offensive</td>\n",
       "      <td>September 2021</td>\n",
       "      <td>512350.92</td>\n",
       "      <td>942519</td>\n",
       "      <td>2021-09-01</td>\n",
       "      <td>https://steamcharts.com/app/730</td>\n",
       "      <td>NaN</td>\n",
       "      <td>NaN</td>\n",
       "      <td>NaN</td>\n",
       "      <td>NaN</td>\n",
       "      <td>NaN</td>\n",
       "      <td>NaN</td>\n",
       "      <td>NaN</td>\n",
       "    </tr>\n",
       "    <tr>\n",
       "      <th>1</th>\n",
       "      <td>Counter Strike: Global Offensive</td>\n",
       "      <td>August 2021</td>\n",
       "      <td>512081.96</td>\n",
       "      <td>802544</td>\n",
       "      <td>2021-08-01</td>\n",
       "      <td>https://steamcharts.com/app/730</td>\n",
       "      <td>NaN</td>\n",
       "      <td>NaN</td>\n",
       "      <td>NaN</td>\n",
       "      <td>NaN</td>\n",
       "      <td>NaN</td>\n",
       "      <td>NaN</td>\n",
       "      <td>NaN</td>\n",
       "    </tr>\n",
       "    <tr>\n",
       "      <th>2</th>\n",
       "      <td>Counter Strike: Global Offensive</td>\n",
       "      <td>July 2021</td>\n",
       "      <td>506067.36</td>\n",
       "      <td>763523</td>\n",
       "      <td>2021-07-01</td>\n",
       "      <td>https://steamcharts.com/app/730</td>\n",
       "      <td>NaN</td>\n",
       "      <td>NaN</td>\n",
       "      <td>NaN</td>\n",
       "      <td>NaN</td>\n",
       "      <td>NaN</td>\n",
       "      <td>NaN</td>\n",
       "      <td>NaN</td>\n",
       "    </tr>\n",
       "  </tbody>\n",
       "</table>\n",
       "</div>"
      ],
      "text/plain": [
       "                               name      Month_Year  Avg_players  \\\n",
       "0  Counter Strike: Global Offensive  September 2021    512350.92   \n",
       "1  Counter Strike: Global Offensive     August 2021    512081.96   \n",
       "2  Counter Strike: Global Offensive       July 2021    506067.36   \n",
       "\n",
       "   Peak_Players        Date                              URL release_date  \\\n",
       "0        942519  2021-09-01  https://steamcharts.com/app/730          NaN   \n",
       "1        802544  2021-08-01  https://steamcharts.com/app/730          NaN   \n",
       "2        763523  2021-07-01  https://steamcharts.com/app/730          NaN   \n",
       "\n",
       "  developer country genres  average_playtime  owners_avg gameplay_type  \n",
       "0       NaN     NaN    NaN               NaN         NaN           NaN  \n",
       "1       NaN     NaN    NaN               NaN         NaN           NaN  \n",
       "2       NaN     NaN    NaN               NaN         NaN           NaN  "
      ]
     },
     "execution_count": 24,
     "metadata": {},
     "output_type": "execute_result"
    }
   ],
   "source": [
    "merged_player.head(3)"
   ]
  },
  {
   "cell_type": "code",
   "execution_count": 25,
   "id": "554b20e4",
   "metadata": {},
   "outputs": [
    {
     "data": {
      "text/plain": [
       "(5476, 13)"
      ]
     },
     "execution_count": 25,
     "metadata": {},
     "output_type": "execute_result"
    }
   ],
   "source": [
    "merged_player.shape"
   ]
  },
  {
   "cell_type": "code",
   "execution_count": 26,
   "id": "6dc30176",
   "metadata": {},
   "outputs": [
    {
     "data": {
      "text/plain": [
       "Valve                                                                  444\n",
       "Facepunch Studios                                                      410\n",
       "Paradox Development Studio                                             236\n",
       "Klei Entertainment                                                     146\n",
       "Bethesda Game Studios                                                  132\n",
       "Re-Logic                                                               111\n",
       "OVERKILL - a Starbreeze Studio.                                        110\n",
       "Digital Extremes                                                       105\n",
       "SCS Software                                                           105\n",
       "Bohemia Interactive                                                    103\n",
       "Gaijin Entertainment                                                   102\n",
       "Grinding Gear Games                                                     96\n",
       "The Fun Pimps                                                           94\n",
       "Square Enix                                                             92\n",
       "Blue Mammoth Games                                                      90\n",
       "Smartly Dressed Games                                                   88\n",
       "Nicalis, Inc.                                                           83\n",
       "RobTop Games                                                            82\n",
       "Colossal Order Ltd.                                                     80\n",
       "Rockstar North                                                          78\n",
       "Studio Wildcard;Instinct Games;Efecto Studios;Virtual Basement LLC      77\n",
       "ConcernedApe                                                            70\n",
       "Wube Software LTD.                                                      68\n",
       "Ludeon Studios                                                          65\n",
       "Behaviour Digital Inc.                                                  64\n",
       "Hello Games                                                             62\n",
       "Kristjan Skutta                                                         61\n",
       "VRChat Inc.                                                             57\n",
       "CREATIVE ASSEMBLY;Feral Interactive (Mac);Feral Interactive (Linux)     54\n",
       "Mega Crit Games                                                         51\n",
       "Gamepires;Croteam                                                       50\n",
       "Wargaming Group Limited                                                 48\n",
       "Konami Digital Entertainment                                            47\n",
       "Giants Software                                                         35\n",
       "Ninja Kiwi                                                              34\n",
       "Booming Games                                                           27\n",
       "Name: developer, dtype: int64"
      ]
     },
     "execution_count": 26,
     "metadata": {},
     "output_type": "execute_result"
    }
   ],
   "source": [
    "merged_player['developer'].value_counts()"
   ]
  },
  {
   "cell_type": "code",
   "execution_count": 27,
   "id": "23c2dca1",
   "metadata": {},
   "outputs": [
    {
     "data": {
      "text/plain": [
       "name                   0\n",
       "Month_Year             0\n",
       "Avg_players            0\n",
       "Peak_Players           0\n",
       "Date                   0\n",
       "URL                    0\n",
       "release_date        1819\n",
       "developer           1819\n",
       "country             1819\n",
       "genres              1819\n",
       "average_playtime    1819\n",
       "owners_avg          1819\n",
       "gameplay_type       1819\n",
       "dtype: int64"
      ]
     },
     "execution_count": 27,
     "metadata": {},
     "output_type": "execute_result"
    }
   ],
   "source": [
    "missing_values = merged_player.isnull().sum()\n",
    "missing_values"
   ]
  },
  {
   "cell_type": "code",
   "execution_count": 28,
   "id": "ad1da01a",
   "metadata": {},
   "outputs": [
    {
     "data": {
      "text/plain": [
       "name\n",
       "7 Days to Die                            False\n",
       "ARK: Survival Evolved                    False\n",
       "Age of Empires II: Definitive Edition     True\n",
       "Apex Legends                              True\n",
       "Arma 3                                   False\n",
       "                                         ...  \n",
       "World of Warships                        False\n",
       "Yu-Gi-Oh! Duel Links                     False\n",
       "eFootball PES 2021 SEASON UPDATE          True\n",
       "tModLoader                                True\n",
       "雀魂麻将(MahjongSoul)                         True\n",
       "Name: developer, Length: 98, dtype: bool"
      ]
     },
     "execution_count": 28,
     "metadata": {},
     "output_type": "execute_result"
    }
   ],
   "source": [
    "# Group by 'name' and check for missing values in 'developer'\n",
    "\n",
    "missing_developers = merged_player.groupby('name')['developer'].apply(lambda x: x.isna().any())\n",
    "\n",
    "missing_developers"
   ]
  },
  {
   "cell_type": "code",
   "execution_count": 29,
   "id": "a342c3ec",
   "metadata": {},
   "outputs": [],
   "source": [
    "# Group by 'game_name' and get unique game names with missing values in 'developer'\n",
    "\n",
    "games_with_missing_developers = merged_player[merged_player['developer'].isna()].groupby('name')['name'].unique()"
   ]
  },
  {
   "cell_type": "code",
   "execution_count": 30,
   "id": "f2b05b45",
   "metadata": {},
   "outputs": [
    {
     "data": {
      "text/plain": [
       "name\n",
       "Age of Empires II: Definitive Edition    [Age of Empires II: Definitive Edition]\n",
       "Apex Legends                                                      [Apex Legends]\n",
       "Battlefield 1                                                    [Battlefield 1]\n",
       "Battlefield V                                                    [Battlefield V]\n",
       "Black Desert                                                      [Black Desert]\n",
       "Bless Unleashed                                               [Bless Unleashed ]\n",
       "Cookie Clicker                                                  [Cookie Clicker]\n",
       "Counter Strike: Global Offensive              [Counter Strike: Global Offensive]\n",
       "Crusader Kings III                                          [Crusader Kings III]\n",
       "Cyberpunk 2077                                                  [Cyberpunk 2077]\n",
       "DARK SOULS III                                                  [DARK SOULS III]\n",
       "Dayz                                                                      [Dayz]\n",
       "Destiny 2                                                            [Destiny 2]\n",
       "Divinity: Original Sin 2                              [Divinity: Original Sin 2]\n",
       "Dying Light                                                       [Dying Light ]\n",
       "Dyson Sphere Program                                      [Dyson Sphere Program]\n",
       "EA SPORTS FIFA 21                                            [EA SPORTS FIFA 21]\n",
       "Eternal Return                                                 [Eternal Return ]\n",
       "Fall Guys: Ultimate Knockout                      [Fall Guys: Ultimate Knockout]\n",
       "Football Manager 2020                                    [Football Manager 2020]\n",
       "Football Manager 2021                                   [Football Manager 2021 ]\n",
       "Forza Horizion 4                                              [Forza Horizion 4]\n",
       "Hunt: Showdown                                                  [Hunt: Showdown]\n",
       "MIR4                                                                      [MIR4]\n",
       "Medieval Dynasty                                              [Medieval Dynasty]\n",
       "Monster Hunter: World                                    [Monster Hunter: World]\n",
       "Mount & Blade II: Bannerlord                     [Mount & Blade II: Bannerlord ]\n",
       "NARAKA: BLADEPOINT                                          [NARAKA: BLADEPOINT]\n",
       "NBA 2k21                                                              [NBA 2k21]\n",
       "NBA 2k22                                                              [NBA 2k22]\n",
       "Need foor Speed Heat                                      [Need foor Speed Heat]\n",
       "PUBG: Battlegrounds                                        [PUBG: Battlegrounds]\n",
       "Pathfinder: Wrath of Righteous                  [Pathfinder: Wrath of Righteous]\n",
       "Phasmophobia                                                      [Phasmophobia]\n",
       "Red Dead Redemption 2                                    [Red Dead Redemption 2]\n",
       "Rocket League                                                    [Rocket League]\n",
       "Satisfactory                                                      [Satisfactory]\n",
       "Sea of Thieves                                                  [Sea of Thieves]\n",
       "Shadowverse                                                        [Shadowverse]\n",
       "Sid Meier's Civilization V                          [Sid Meier's Civilization V]\n",
       "Sid Meier's Civilization VI                        [Sid Meier's Civilization VI]\n",
       "Soundpad                                                              [Soundpad]\n",
       "Spacewar                                                              [Spacewar]\n",
       "Tales of Arise                                                  [Tales of Arise]\n",
       "The Elder Scrolls Online                              [The Elder Scrolls Online]\n",
       "The Sims 4                                                          [The Sims 4]\n",
       "The Witcher 3: Wild Hunt                              [The Witcher 3: Wild Hunt]\n",
       "Tom Clancy's Rainbow Six Seige                  [Tom Clancy's Rainbow Six Seige]\n",
       "Total War: THREE KINGDOMS                            [Total War: THREE KINGDOMS]\n",
       "Valheim                                                                [Valheim]\n",
       "World of Tanks Blitz                                      [World of Tanks Blitz]\n",
       "eFootball PES 2021 SEASON UPDATE              [eFootball PES 2021 SEASON UPDATE]\n",
       "tModLoader                                                          [tModLoader]\n",
       "雀魂麻将(MahjongSoul)                                            [雀魂麻将(MahjongSoul)]\n",
       "Name: name, dtype: object"
      ]
     },
     "execution_count": 30,
     "metadata": {},
     "output_type": "execute_result"
    }
   ],
   "source": [
    "games_with_missing_developers"
   ]
  },
  {
   "cell_type": "code",
   "execution_count": 31,
   "id": "0a6589c4",
   "metadata": {},
   "outputs": [],
   "source": [
    "# Filling missing values in the merged DataFrame with 'N/A'\n",
    "\n",
    "merged_player.fillna('N/A', inplace=True)"
   ]
  },
  {
   "cell_type": "code",
   "execution_count": 32,
   "id": "62f1231f",
   "metadata": {},
   "outputs": [
    {
     "data": {
      "text/plain": [
       "name                0\n",
       "Month_Year          0\n",
       "Avg_players         0\n",
       "Peak_Players        0\n",
       "Date                0\n",
       "URL                 0\n",
       "release_date        0\n",
       "developer           0\n",
       "country             0\n",
       "genres              0\n",
       "average_playtime    0\n",
       "owners_avg          0\n",
       "gameplay_type       0\n",
       "dtype: int64"
      ]
     },
     "execution_count": 32,
     "metadata": {},
     "output_type": "execute_result"
    }
   ],
   "source": [
    "# Checking for missing values\n",
    "\n",
    "missing_values_1 = merged_player.isnull().sum()\n",
    "missing_values_1"
   ]
  },
  {
   "cell_type": "markdown",
   "id": "c5e56edd",
   "metadata": {},
   "source": [
    "#### Limitation:\n",
    "\n",
    "- It was not possible to obtain information on all games from the Wikipedia data. Therefore, in future analyses it will be necessary to find information either manually or by parsing data from the internet."
   ]
  },
  {
   "cell_type": "markdown",
   "id": "e9273cbb",
   "metadata": {},
   "source": [
    "## 04. Exporting dataset"
   ]
  },
  {
   "cell_type": "code",
   "execution_count": 34,
   "id": "637daac6",
   "metadata": {},
   "outputs": [],
   "source": [
    "merged_player.to_csv(os.path.join(path, '02 Data','022 Prepared Data', 'merged_player.csv'), header=True, index=False)"
   ]
  },
  {
   "cell_type": "code",
   "execution_count": 35,
   "id": "1eb92a9a",
   "metadata": {},
   "outputs": [],
   "source": [
    "merged_steam.to_csv(os.path.join(path, '02 Data','022 Prepared Data', '00_merged_steam.csv'), header=True, index=False)"
   ]
  }
 ],
 "metadata": {
  "kernelspec": {
   "display_name": "Python 3 (ipykernel)",
   "language": "python",
   "name": "python3"
  },
  "language_info": {
   "codemirror_mode": {
    "name": "ipython",
    "version": 3
   },
   "file_extension": ".py",
   "mimetype": "text/x-python",
   "name": "python",
   "nbconvert_exporter": "python",
   "pygments_lexer": "ipython3",
   "version": "3.11.3"
  }
 },
 "nbformat": 4,
 "nbformat_minor": 5
}
