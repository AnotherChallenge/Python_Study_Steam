{
 "cells": [
  {
   "cell_type": "markdown",
   "id": "e61e4c4c",
   "metadata": {},
   "source": [
    "## Saving issue"
   ]
  },
  {
   "cell_type": "code",
   "execution_count": 1,
   "id": "370dbaa0",
   "metadata": {},
   "outputs": [],
   "source": [
    "# Importing libraries\n",
    "\n",
    "import pandas as pd\n",
    "import numpy as np\n",
    "import os\n",
    "import matplotlib.pyplot as plt\n",
    "import seaborn as sns\n",
    "import scipy"
   ]
  },
  {
   "cell_type": "code",
   "execution_count": 2,
   "id": "6d3463e3",
   "metadata": {},
   "outputs": [],
   "source": [
    "# Change the format of the values visualization\n",
    "\n",
    "pd.options.display.float_format = '{:.2f}'.format"
   ]
  },
  {
   "cell_type": "code",
   "execution_count": 3,
   "id": "f89840eb",
   "metadata": {},
   "outputs": [],
   "source": [
    "# Reset the maximum number of columns to display to default (all columns)\n",
    "\n",
    "pd.set_option('display.max_columns', None)"
   ]
  },
  {
   "cell_type": "code",
   "execution_count": 4,
   "id": "feafc628",
   "metadata": {},
   "outputs": [],
   "source": [
    "# Defining the path to datasets\n",
    "\n",
    "path = r'C:\\Users\\efens\\cf_tasks\\2023-08 Steam Analysis'"
   ]
  },
  {
   "cell_type": "markdown",
   "id": "d0f0a034",
   "metadata": {},
   "source": [
    "## 00. Importing project data"
   ]
  },
  {
   "cell_type": "code",
   "execution_count": 5,
   "id": "d43e3fe0",
   "metadata": {},
   "outputs": [],
   "source": [
    "# Importing project data \"00_merged_steam\"\n",
    "\n",
    "steam_merged = pd.read_csv(os.path.join(path, '02 Data', '022 Prepared Data', '00_merged_steam.csv'))"
   ]
  },
  {
   "cell_type": "code",
   "execution_count": 6,
   "id": "678b1908",
   "metadata": {},
   "outputs": [],
   "source": [
    "# Importing project data \"player_clean\"\n",
    "\n",
    "merged_player = pd.read_csv(os.path.join(path, '02 Data', '022 Prepared Data', 'merged_player.csv'))"
   ]
  },
  {
   "cell_type": "markdown",
   "id": "f6326add",
   "metadata": {},
   "source": [
    "#### Checking datasets"
   ]
  },
  {
   "cell_type": "code",
   "execution_count": 7,
   "id": "43a79a49",
   "metadata": {},
   "outputs": [
    {
     "data": {
      "text/html": [
       "<div>\n",
       "<style scoped>\n",
       "    .dataframe tbody tr th:only-of-type {\n",
       "        vertical-align: middle;\n",
       "    }\n",
       "\n",
       "    .dataframe tbody tr th {\n",
       "        vertical-align: top;\n",
       "    }\n",
       "\n",
       "    .dataframe thead th {\n",
       "        text-align: right;\n",
       "    }\n",
       "</style>\n",
       "<table border=\"1\" class=\"dataframe\">\n",
       "  <thead>\n",
       "    <tr style=\"text-align: right;\">\n",
       "      <th></th>\n",
       "      <th>appid</th>\n",
       "      <th>name</th>\n",
       "      <th>release_date</th>\n",
       "      <th>english</th>\n",
       "      <th>developer</th>\n",
       "      <th>publisher</th>\n",
       "      <th>platforms</th>\n",
       "      <th>required_age</th>\n",
       "      <th>categories</th>\n",
       "      <th>genres</th>\n",
       "      <th>steamspy_tags</th>\n",
       "      <th>achievements</th>\n",
       "      <th>positive_ratings</th>\n",
       "      <th>negative_ratings</th>\n",
       "      <th>average_playtime</th>\n",
       "      <th>median_playtime</th>\n",
       "      <th>owners</th>\n",
       "      <th>price</th>\n",
       "      <th>price_eur</th>\n",
       "      <th>owners_min</th>\n",
       "      <th>owners_max</th>\n",
       "      <th>owners_avg</th>\n",
       "      <th>gameplay_type</th>\n",
       "      <th>dev_year</th>\n",
       "      <th>country</th>\n",
       "      <th>city</th>\n",
       "      <th>administrative_division</th>\n",
       "    </tr>\n",
       "  </thead>\n",
       "  <tbody>\n",
       "    <tr>\n",
       "      <th>0</th>\n",
       "      <td>10</td>\n",
       "      <td>Counter-Strike</td>\n",
       "      <td>2000-11-01</td>\n",
       "      <td>1</td>\n",
       "      <td>Valve</td>\n",
       "      <td>Valve</td>\n",
       "      <td>windows;mac;linux</td>\n",
       "      <td>0</td>\n",
       "      <td>Multi-player;Online Multi-Player;Local Multi-P...</td>\n",
       "      <td>Action</td>\n",
       "      <td>Action;FPS;Multiplayer</td>\n",
       "      <td>0</td>\n",
       "      <td>124534</td>\n",
       "      <td>3339</td>\n",
       "      <td>17612</td>\n",
       "      <td>317</td>\n",
       "      <td>10000000-20000000</td>\n",
       "      <td>7.19</td>\n",
       "      <td>8.34</td>\n",
       "      <td>10000000</td>\n",
       "      <td>20000000</td>\n",
       "      <td>15000000.00</td>\n",
       "      <td>Multi-Player</td>\n",
       "      <td>1996</td>\n",
       "      <td>United States</td>\n",
       "      <td>Kirkland</td>\n",
       "      <td>Washington</td>\n",
       "    </tr>\n",
       "    <tr>\n",
       "      <th>1</th>\n",
       "      <td>20</td>\n",
       "      <td>Team Fortress Classic</td>\n",
       "      <td>1999-04-01</td>\n",
       "      <td>1</td>\n",
       "      <td>Valve</td>\n",
       "      <td>Valve</td>\n",
       "      <td>windows;mac;linux</td>\n",
       "      <td>0</td>\n",
       "      <td>Multi-player;Online Multi-Player;Local Multi-P...</td>\n",
       "      <td>Action</td>\n",
       "      <td>Action;FPS;Multiplayer</td>\n",
       "      <td>0</td>\n",
       "      <td>3318</td>\n",
       "      <td>633</td>\n",
       "      <td>277</td>\n",
       "      <td>62</td>\n",
       "      <td>5000000-10000000</td>\n",
       "      <td>3.99</td>\n",
       "      <td>4.63</td>\n",
       "      <td>5000000</td>\n",
       "      <td>10000000</td>\n",
       "      <td>7500000.00</td>\n",
       "      <td>Multi-Player</td>\n",
       "      <td>1996</td>\n",
       "      <td>United States</td>\n",
       "      <td>Kirkland</td>\n",
       "      <td>Washington</td>\n",
       "    </tr>\n",
       "  </tbody>\n",
       "</table>\n",
       "</div>"
      ],
      "text/plain": [
       "   appid                   name release_date  english developer publisher  \\\n",
       "0     10         Counter-Strike   2000-11-01        1     Valve     Valve   \n",
       "1     20  Team Fortress Classic   1999-04-01        1     Valve     Valve   \n",
       "\n",
       "           platforms  required_age  \\\n",
       "0  windows;mac;linux             0   \n",
       "1  windows;mac;linux             0   \n",
       "\n",
       "                                          categories  genres  \\\n",
       "0  Multi-player;Online Multi-Player;Local Multi-P...  Action   \n",
       "1  Multi-player;Online Multi-Player;Local Multi-P...  Action   \n",
       "\n",
       "            steamspy_tags  achievements  positive_ratings  negative_ratings  \\\n",
       "0  Action;FPS;Multiplayer             0            124534              3339   \n",
       "1  Action;FPS;Multiplayer             0              3318               633   \n",
       "\n",
       "   average_playtime  median_playtime             owners  price  price_eur  \\\n",
       "0             17612              317  10000000-20000000   7.19       8.34   \n",
       "1               277               62   5000000-10000000   3.99       4.63   \n",
       "\n",
       "   owners_min  owners_max  owners_avg gameplay_type dev_year        country  \\\n",
       "0    10000000    20000000 15000000.00  Multi-Player     1996  United States   \n",
       "1     5000000    10000000  7500000.00  Multi-Player     1996  United States   \n",
       "\n",
       "       city administrative_division  \n",
       "0  Kirkland              Washington  \n",
       "1  Kirkland              Washington  "
      ]
     },
     "execution_count": 7,
     "metadata": {},
     "output_type": "execute_result"
    }
   ],
   "source": [
    "# Converting Year to a proper datetime\n",
    "\n",
    "steam_merged['dev_year'] = pd.to_datetime(steam_merged['dev_year'], format='%Y').dt.strftime('%Y')\n",
    "\n",
    "steam_merged.head(2)"
   ]
  },
  {
   "cell_type": "code",
   "execution_count": 8,
   "id": "fc0373ea",
   "metadata": {},
   "outputs": [
    {
     "data": {
      "text/plain": [
       "appid                          0\n",
       "name                           0\n",
       "release_date                   0\n",
       "english                        0\n",
       "developer                      0\n",
       "publisher                      0\n",
       "platforms                      0\n",
       "required_age                   0\n",
       "categories                     0\n",
       "genres                         0\n",
       "steamspy_tags                  0\n",
       "achievements                   0\n",
       "positive_ratings               0\n",
       "negative_ratings               0\n",
       "average_playtime               0\n",
       "median_playtime                0\n",
       "owners                         0\n",
       "price                          0\n",
       "price_eur                      0\n",
       "owners_min                     0\n",
       "owners_max                     0\n",
       "owners_avg                     0\n",
       "gameplay_type                  0\n",
       "dev_year                   26100\n",
       "country                    25726\n",
       "city                       25756\n",
       "administrative_division    26423\n",
       "dtype: int64"
      ]
     },
     "execution_count": 8,
     "metadata": {},
     "output_type": "execute_result"
    }
   ],
   "source": [
    "# Checking missing values after saving issue\n",
    "\n",
    "missing_steam = steam_merged.isnull().sum()\n",
    "missing_steam"
   ]
  },
  {
   "cell_type": "code",
   "execution_count": 9,
   "id": "d6ecfb35",
   "metadata": {},
   "outputs": [],
   "source": [
    "# Filling missing values in the merged DataFrame with 'N/A'\n",
    "\n",
    "steam_merged.fillna('N/A', inplace=True)"
   ]
  },
  {
   "cell_type": "code",
   "execution_count": 10,
   "id": "cfeac22c",
   "metadata": {},
   "outputs": [
    {
     "data": {
      "text/plain": [
       "appid                      0\n",
       "name                       0\n",
       "release_date               0\n",
       "english                    0\n",
       "developer                  0\n",
       "publisher                  0\n",
       "platforms                  0\n",
       "required_age               0\n",
       "categories                 0\n",
       "genres                     0\n",
       "steamspy_tags              0\n",
       "achievements               0\n",
       "positive_ratings           0\n",
       "negative_ratings           0\n",
       "average_playtime           0\n",
       "median_playtime            0\n",
       "owners                     0\n",
       "price                      0\n",
       "price_eur                  0\n",
       "owners_min                 0\n",
       "owners_max                 0\n",
       "owners_avg                 0\n",
       "gameplay_type              0\n",
       "dev_year                   0\n",
       "country                    0\n",
       "city                       0\n",
       "administrative_division    0\n",
       "dtype: int64"
      ]
     },
     "execution_count": 10,
     "metadata": {},
     "output_type": "execute_result"
    }
   ],
   "source": [
    "missing_values = steam_merged.isnull().sum()\n",
    "missing_values"
   ]
  },
  {
   "cell_type": "code",
   "execution_count": 11,
   "id": "e1049325",
   "metadata": {},
   "outputs": [
    {
     "data": {
      "text/plain": [
       "name                   0\n",
       "Month_Year             0\n",
       "Avg_players            0\n",
       "Peak_Players           0\n",
       "Date                   0\n",
       "URL                    0\n",
       "release_date        1819\n",
       "developer           1819\n",
       "country             3324\n",
       "genres              1819\n",
       "average_playtime    1819\n",
       "owners_avg          1819\n",
       "gameplay_type       1819\n",
       "dtype: int64"
      ]
     },
     "execution_count": 11,
     "metadata": {},
     "output_type": "execute_result"
    }
   ],
   "source": [
    "# Checking missing values in merged_player\n",
    "\n",
    "missing_player = merged_player.isnull().sum()\n",
    "missing_player"
   ]
  },
  {
   "cell_type": "code",
   "execution_count": 12,
   "id": "c864a959",
   "metadata": {},
   "outputs": [],
   "source": [
    "# Filling missing values in the merged DataFrame with 'N/A'\n",
    "\n",
    "merged_player.fillna('N/A', inplace=True)"
   ]
  },
  {
   "cell_type": "code",
   "execution_count": 13,
   "id": "ef1cd94b",
   "metadata": {},
   "outputs": [
    {
     "data": {
      "text/plain": [
       "name                0\n",
       "Month_Year          0\n",
       "Avg_players         0\n",
       "Peak_Players        0\n",
       "Date                0\n",
       "URL                 0\n",
       "release_date        0\n",
       "developer           0\n",
       "country             0\n",
       "genres              0\n",
       "average_playtime    0\n",
       "owners_avg          0\n",
       "gameplay_type       0\n",
       "dtype: int64"
      ]
     },
     "execution_count": 13,
     "metadata": {},
     "output_type": "execute_result"
    }
   ],
   "source": [
    "# Checking missing values in merged_player\n",
    "\n",
    "missing_player_01 = merged_player.isnull().sum()\n",
    "missing_player_01"
   ]
  },
  {
   "cell_type": "markdown",
   "id": "a441ba5f",
   "metadata": {},
   "source": [
    "## Exporting"
   ]
  },
  {
   "cell_type": "code",
   "execution_count": 14,
   "id": "7e5affc4",
   "metadata": {},
   "outputs": [],
   "source": [
    "merged_player.to_csv(os.path.join(path, '02 Data','022 Prepared Data', 'player_merged.csv'), header=True, index=False)"
   ]
  },
  {
   "cell_type": "code",
   "execution_count": 15,
   "id": "f33d4562",
   "metadata": {},
   "outputs": [],
   "source": [
    "steam_merged.to_csv(os.path.join(path, '02 Data','022 Prepared Data', 'steam_merged.csv'), header=True, index=False)"
   ]
  }
 ],
 "metadata": {
  "kernelspec": {
   "display_name": "Python 3 (ipykernel)",
   "language": "python",
   "name": "python3"
  },
  "language_info": {
   "codemirror_mode": {
    "name": "ipython",
    "version": 3
   },
   "file_extension": ".py",
   "mimetype": "text/x-python",
   "name": "python",
   "nbconvert_exporter": "python",
   "pygments_lexer": "ipython3",
   "version": "3.11.3"
  }
 },
 "nbformat": 4,
 "nbformat_minor": 5
}
